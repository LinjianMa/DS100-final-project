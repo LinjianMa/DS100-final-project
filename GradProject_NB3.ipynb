{
 "cells": [
  {
   "cell_type": "markdown",
   "metadata": {},
   "source": [
    "\n",
    "<h1> DS200A Computer Vision Assignment</h1>"
   ]
  },
  {
   "cell_type": "markdown",
   "metadata": {},
   "source": [
    "<h2>  Part Three: Classifier training and performance assessment. </h2>\t"
   ]
  },
  {
   "cell_type": "code",
   "execution_count": 203,
   "metadata": {},
   "outputs": [],
   "source": [
    "import numpy as np\n",
    "import pandas as pd\n",
    "import matplotlib.pyplot as plt\n",
    "\n",
    "import seaborn as sns\n",
    "import sklearn\n",
    "from sklearn.model_selection import train_test_split\n",
    "from sklearn.metrics import accuracy_score\n",
    "import os\n",
    "%matplotlib inline"
   ]
  },
  {
   "cell_type": "code",
   "execution_count": 204,
   "metadata": {},
   "outputs": [],
   "source": [
    "# Split the data into a training set, and test set \n",
    "def df_train_test_split(df):\n",
    "    y = df.iloc[:,0]\n",
    "    X = df.iloc[:,1:]\n",
    "    X_train, X_test, y_train, y_test = train_test_split(X, y, test_size=0.2, shuffle=True, random_state=62)\n",
    "    return X_train, X_test, y_train, y_test\n",
    "\n",
    "# Calculate the accuracy percentage of the predicted values\n",
    "def accuracy(pred, actual):\n",
    "    return accuracy_score(pred, actual)\n",
    "\n",
    "# Fit model\n",
    "def fit_predict(model):\n",
    "    model.fit(X_train, y_train)\n",
    "    y_predict_on_train = model.predict(X_train)\n",
    "    y_predict_on_test = model.predict(X_test)\n",
    "    accuracy_on_train = accuracy(y_predict_on_train, y_train)\n",
    "    accuracy_on_test = accuracy(y_predict_on_test, y_test)\n",
    "    \n",
    "    y_predict_train.append(y_predict_on_train)\n",
    "    y_predict_test.append(y_predict_on_test)\n",
    "    accuracy_train.append(accuracy_on_train)\n",
    "    accuracy_test.append(accuracy_on_test)\n",
    "    classifier.append(model)\n",
    "    \n",
    "    print(\".\", end=\"\")"
   ]
  },
  {
   "cell_type": "markdown",
   "metadata": {},
   "source": [
    "### Data"
   ]
  },
  {
   "cell_type": "code",
   "execution_count": 207,
   "metadata": {},
   "outputs": [
    {
     "name": "stdout",
     "output_type": "stream",
     "text": [
      "feature (1501, 25)\n"
     ]
    },
    {
     "data": {
      "text/html": [
       "<div>\n",
       "<style scoped>\n",
       "    .dataframe tbody tr th:only-of-type {\n",
       "        vertical-align: middle;\n",
       "    }\n",
       "\n",
       "    .dataframe tbody tr th {\n",
       "        vertical-align: top;\n",
       "    }\n",
       "\n",
       "    .dataframe thead th {\n",
       "        text-align: right;\n",
       "    }\n",
       "</style>\n",
       "<table border=\"1\" class=\"dataframe\">\n",
       "  <thead>\n",
       "    <tr style=\"text-align: right;\">\n",
       "      <th></th>\n",
       "      <th>Encoding</th>\n",
       "      <th>size</th>\n",
       "      <th>avg_red</th>\n",
       "      <th>avg_green</th>\n",
       "      <th>avg_blue</th>\n",
       "      <th>avg_gray</th>\n",
       "      <th>std_red</th>\n",
       "      <th>std_green</th>\n",
       "      <th>std_blue</th>\n",
       "      <th>std_grey</th>\n",
       "      <th>...</th>\n",
       "      <th>avg_y</th>\n",
       "      <th>avg_cb</th>\n",
       "      <th>avg_cr</th>\n",
       "      <th>std_y</th>\n",
       "      <th>std_cb</th>\n",
       "      <th>std_cr</th>\n",
       "      <th>avg_hog</th>\n",
       "      <th>std_hog</th>\n",
       "      <th>svd</th>\n",
       "      <th>canny_svd</th>\n",
       "    </tr>\n",
       "  </thead>\n",
       "  <tbody>\n",
       "    <tr>\n",
       "      <th>0</th>\n",
       "      <td>0.0</td>\n",
       "      <td>0.195816</td>\n",
       "      <td>0.719042</td>\n",
       "      <td>0.693139</td>\n",
       "      <td>0.584908</td>\n",
       "      <td>0.794578</td>\n",
       "      <td>0.221203</td>\n",
       "      <td>0.251137</td>\n",
       "      <td>0.312346</td>\n",
       "      <td>0.354078</td>\n",
       "      <td>...</td>\n",
       "      <td>0.654084</td>\n",
       "      <td>0.450585</td>\n",
       "      <td>0.521069</td>\n",
       "      <td>0.209788</td>\n",
       "      <td>0.057982</td>\n",
       "      <td>0.042520</td>\n",
       "      <td>0.069350</td>\n",
       "      <td>0.086811</td>\n",
       "      <td>[-0.9411725618842666, 0.008966214811940402, -0...</td>\n",
       "      <td>[-0.006201030396643063, 0.0003885448107720387,...</td>\n",
       "    </tr>\n",
       "    <tr>\n",
       "      <th>1</th>\n",
       "      <td>0.0</td>\n",
       "      <td>0.221352</td>\n",
       "      <td>0.826431</td>\n",
       "      <td>0.742275</td>\n",
       "      <td>0.646295</td>\n",
       "      <td>0.920591</td>\n",
       "      <td>0.216836</td>\n",
       "      <td>0.292104</td>\n",
       "      <td>0.276149</td>\n",
       "      <td>0.315872</td>\n",
       "      <td>...</td>\n",
       "      <td>0.712441</td>\n",
       "      <td>0.447331</td>\n",
       "      <td>0.545779</td>\n",
       "      <td>0.222930</td>\n",
       "      <td>0.024625</td>\n",
       "      <td>0.069641</td>\n",
       "      <td>0.074722</td>\n",
       "      <td>0.082233</td>\n",
       "      <td>[-0.9452094848143205, -0.1284002312458272, -0....</td>\n",
       "      <td>[-0.006201030396643063, 0.0003885448107720387,...</td>\n",
       "    </tr>\n",
       "    <tr>\n",
       "      <th>2</th>\n",
       "      <td>0.0</td>\n",
       "      <td>0.194535</td>\n",
       "      <td>0.667152</td>\n",
       "      <td>0.579563</td>\n",
       "      <td>0.438250</td>\n",
       "      <td>0.696626</td>\n",
       "      <td>0.252515</td>\n",
       "      <td>0.267002</td>\n",
       "      <td>0.352605</td>\n",
       "      <td>0.448270</td>\n",
       "      <td>...</td>\n",
       "      <td>0.569144</td>\n",
       "      <td>0.426911</td>\n",
       "      <td>0.550525</td>\n",
       "      <td>0.219960</td>\n",
       "      <td>0.101463</td>\n",
       "      <td>0.074436</td>\n",
       "      <td>0.068713</td>\n",
       "      <td>0.085799</td>\n",
       "      <td>[-0.9194251189689553, -0.04598015488281377, 0....</td>\n",
       "      <td>[-0.006201030396643063, 0.0003885448107720387,...</td>\n",
       "    </tr>\n",
       "    <tr>\n",
       "      <th>3</th>\n",
       "      <td>0.0</td>\n",
       "      <td>0.200430</td>\n",
       "      <td>0.596705</td>\n",
       "      <td>0.520189</td>\n",
       "      <td>0.305558</td>\n",
       "      <td>0.672473</td>\n",
       "      <td>0.253041</td>\n",
       "      <td>0.246156</td>\n",
       "      <td>0.327109</td>\n",
       "      <td>0.379313</td>\n",
       "      <td>...</td>\n",
       "      <td>0.508131</td>\n",
       "      <td>0.396350</td>\n",
       "      <td>0.550898</td>\n",
       "      <td>0.210079</td>\n",
       "      <td>0.088122</td>\n",
       "      <td>0.061079</td>\n",
       "      <td>0.074841</td>\n",
       "      <td>0.080767</td>\n",
       "      <td>[-0.8658767978779213, 0.005307098609816353, 0....</td>\n",
       "      <td>[0.011034498091142122, 0.012793216648073858, -...</td>\n",
       "    </tr>\n",
       "    <tr>\n",
       "      <th>4</th>\n",
       "      <td>0.0</td>\n",
       "      <td>0.208560</td>\n",
       "      <td>0.578031</td>\n",
       "      <td>0.590215</td>\n",
       "      <td>0.338247</td>\n",
       "      <td>0.624215</td>\n",
       "      <td>0.289629</td>\n",
       "      <td>0.279945</td>\n",
       "      <td>0.370162</td>\n",
       "      <td>0.447237</td>\n",
       "      <td>...</td>\n",
       "      <td>0.541838</td>\n",
       "      <td>0.393098</td>\n",
       "      <td>0.514607</td>\n",
       "      <td>0.243142</td>\n",
       "      <td>0.105869</td>\n",
       "      <td>0.027735</td>\n",
       "      <td>0.069497</td>\n",
       "      <td>0.086694</td>\n",
       "      <td>[-0.887418659157311, 0.015802314068069624, 0.1...</td>\n",
       "      <td>[-0.006201030396643063, 0.0003885448107720387,...</td>\n",
       "    </tr>\n",
       "  </tbody>\n",
       "</table>\n",
       "<p>5 rows × 23 columns</p>\n",
       "</div>"
      ],
      "text/plain": [
       "   Encoding      size   avg_red  avg_green  avg_blue  avg_gray   std_red  \\\n",
       "0       0.0  0.195816  0.719042   0.693139  0.584908  0.794578  0.221203   \n",
       "1       0.0  0.221352  0.826431   0.742275  0.646295  0.920591  0.216836   \n",
       "2       0.0  0.194535  0.667152   0.579563  0.438250  0.696626  0.252515   \n",
       "3       0.0  0.200430  0.596705   0.520189  0.305558  0.672473  0.253041   \n",
       "4       0.0  0.208560  0.578031   0.590215  0.338247  0.624215  0.289629   \n",
       "\n",
       "   std_green  std_blue  std_grey  ...     avg_y    avg_cb    avg_cr     std_y  \\\n",
       "0   0.251137  0.312346  0.354078  ...  0.654084  0.450585  0.521069  0.209788   \n",
       "1   0.292104  0.276149  0.315872  ...  0.712441  0.447331  0.545779  0.222930   \n",
       "2   0.267002  0.352605  0.448270  ...  0.569144  0.426911  0.550525  0.219960   \n",
       "3   0.246156  0.327109  0.379313  ...  0.508131  0.396350  0.550898  0.210079   \n",
       "4   0.279945  0.370162  0.447237  ...  0.541838  0.393098  0.514607  0.243142   \n",
       "\n",
       "     std_cb    std_cr   avg_hog   std_hog  \\\n",
       "0  0.057982  0.042520  0.069350  0.086811   \n",
       "1  0.024625  0.069641  0.074722  0.082233   \n",
       "2  0.101463  0.074436  0.068713  0.085799   \n",
       "3  0.088122  0.061079  0.074841  0.080767   \n",
       "4  0.105869  0.027735  0.069497  0.086694   \n",
       "\n",
       "                                                 svd  \\\n",
       "0  [-0.9411725618842666, 0.008966214811940402, -0...   \n",
       "1  [-0.9452094848143205, -0.1284002312458272, -0....   \n",
       "2  [-0.9194251189689553, -0.04598015488281377, 0....   \n",
       "3  [-0.8658767978779213, 0.005307098609816353, 0....   \n",
       "4  [-0.887418659157311, 0.015802314068069624, 0.1...   \n",
       "\n",
       "                                           canny_svd  \n",
       "0  [-0.006201030396643063, 0.0003885448107720387,...  \n",
       "1  [-0.006201030396643063, 0.0003885448107720387,...  \n",
       "2  [-0.006201030396643063, 0.0003885448107720387,...  \n",
       "3  [0.011034498091142122, 0.012793216648073858, -...  \n",
       "4  [-0.006201030396643063, 0.0003885448107720387,...  \n",
       "\n",
       "[5 rows x 23 columns]"
      ]
     },
     "execution_count": 207,
     "metadata": {},
     "output_type": "execute_result"
    }
   ],
   "source": [
    "# Read data from nb2\n",
    "feature = pd.read_hdf(\"feature.h5\", \"data\")\n",
    "print(\"feature\", feature.shape)\n",
    "del feature[\"Pictures\"]\n",
    "# del feature[\"resized_Pictures\"]\n",
    "# del feature[\"std_red\"]\n",
    "# del feature[\"std_green\"]\n",
    "# del feature[\"std_blue\"]\n",
    "del feature[\"canny\"]\n",
    "feature.head()"
   ]
  },
  {
   "cell_type": "code",
   "execution_count": 209,
   "metadata": {},
   "outputs": [
    {
     "name": "stdout",
     "output_type": "stream",
     "text": [
      "X_train (1200, 26)\n",
      "X_test (301, 26)\n",
      "y_train (1200,)\n",
      "y_test (301,)\n",
      "[0.2574 0.301928607340372 0.5354872251931075 0.3447881073175191\n",
      " 0.6993171839054191 0.21631315198758752 0.12256673135009635\n",
      " 0.14006653501653069 0.25588264693089324 0.9533333333333334\n",
      " 0.5383051658163265 0.061421911421911425 0.4439884560187986\n",
      " 0.45282162304672124 0.41299932758227287 0.11648973944932269\n",
      " 0.01632503802205449 0.0743017295058447 0.0737162282733878\n",
      " 0.08313601324943662 -0.8139595127657216 -0.29323037231684457\n",
      " -0.217250898157557 0.11353140677849262 -0.00424522974151218\n",
      " -0.006201030396643063]\n"
     ]
    }
   ],
   "source": [
    "# Split the data\n",
    "def unroll(X):\n",
    "    X = np.array(X)\n",
    "    X_unroll = []\n",
    "    for i in range(len(X)):\n",
    "        list_ = np.append(X[i][:-2], X[i][-2][:5]) # flatten the svd array\n",
    "        list_ = np.append(list_, X[i][-1][:1]) # flatten the svd array        \n",
    "        X_unroll.append(list_)\n",
    "    return np.array(X_unroll)\n",
    "\n",
    "X_train, X_test, y_train, y_test = df_train_test_split(feature)\n",
    "X_train = unroll(X_train)\n",
    "X_test = unroll(X_test)\n",
    "print(\"X_train\", X_train.shape)\n",
    "print(\"X_test\", X_test.shape)\n",
    "print(\"y_train\", y_train.shape)\n",
    "print(\"y_test\", y_test.shape)\n",
    "\n",
    "print(X_train[2])"
   ]
  },
  {
   "cell_type": "markdown",
   "metadata": {},
   "source": [
    "<h3>  Train models using all of the following methods below. Be sure to drop the actual image column, and the encoding</h3>\tTake note of the differences in accuracy, and methods.\n"
   ]
  },
  {
   "cell_type": "markdown",
   "metadata": {},
   "source": [
    "### Logistic Regression"
   ]
  },
  {
   "cell_type": "code",
   "execution_count": 210,
   "metadata": {},
   "outputs": [
    {
     "name": "stderr",
     "output_type": "stream",
     "text": [
      "/anaconda2/envs/py36/lib/python3.6/site-packages/sklearn/linear_model/logistic.py:460: FutureWarning: Default multi_class will be changed to 'auto' in 0.22. Specify the multi_class option to silence this warning.\n",
      "  \"this warning.\", FutureWarning)\n",
      "/anaconda2/envs/py36/lib/python3.6/site-packages/sklearn/linear_model/logistic.py:460: FutureWarning: Default multi_class will be changed to 'auto' in 0.22. Specify the multi_class option to silence this warning.\n",
      "  \"this warning.\", FutureWarning)\n"
     ]
    },
    {
     "name": "stdout",
     "output_type": "stream",
     "text": [
      ".."
     ]
    },
    {
     "name": "stderr",
     "output_type": "stream",
     "text": [
      "/anaconda2/envs/py36/lib/python3.6/site-packages/sklearn/linear_model/logistic.py:460: FutureWarning: Default multi_class will be changed to 'auto' in 0.22. Specify the multi_class option to silence this warning.\n",
      "  \"this warning.\", FutureWarning)\n"
     ]
    },
    {
     "name": "stdout",
     "output_type": "stream",
     "text": [
      "....."
     ]
    },
    {
     "name": "stderr",
     "output_type": "stream",
     "text": [
      "/anaconda2/envs/py36/lib/python3.6/site-packages/sklearn/linear_model/logistic.py:433: FutureWarning: Default solver will be changed to 'lbfgs' in 0.22. Specify a solver to silence this warning.\n",
      "  FutureWarning)\n",
      "/anaconda2/envs/py36/lib/python3.6/site-packages/sklearn/linear_model/logistic.py:460: FutureWarning: Default multi_class will be changed to 'auto' in 0.22. Specify the multi_class option to silence this warning.\n",
      "  \"this warning.\", FutureWarning)\n",
      "/anaconda2/envs/py36/lib/python3.6/site-packages/sklearn/linear_model/logistic.py:433: FutureWarning: Default solver will be changed to 'lbfgs' in 0.22. Specify a solver to silence this warning.\n",
      "  FutureWarning)\n",
      "/anaconda2/envs/py36/lib/python3.6/site-packages/sklearn/linear_model/logistic.py:460: FutureWarning: Default multi_class will be changed to 'auto' in 0.22. Specify the multi_class option to silence this warning.\n",
      "  \"this warning.\", FutureWarning)\n"
     ]
    },
    {
     "name": "stdout",
     "output_type": "stream",
     "text": [
      "."
     ]
    },
    {
     "name": "stderr",
     "output_type": "stream",
     "text": [
      "/anaconda2/envs/py36/lib/python3.6/site-packages/sklearn/linear_model/logistic.py:433: FutureWarning: Default solver will be changed to 'lbfgs' in 0.22. Specify a solver to silence this warning.\n",
      "  FutureWarning)\n",
      "/anaconda2/envs/py36/lib/python3.6/site-packages/sklearn/linear_model/logistic.py:460: FutureWarning: Default multi_class will be changed to 'auto' in 0.22. Specify the multi_class option to silence this warning.\n",
      "  \"this warning.\", FutureWarning)\n"
     ]
    },
    {
     "name": "stdout",
     "output_type": "stream",
     "text": [
      "."
     ]
    }
   ],
   "source": [
    "from sklearn.linear_model import LogisticRegression\n",
    "\n",
    "y_predict_train = []\n",
    "y_predict_test = []\n",
    "accuracy_train = []\n",
    "accuracy_test = []\n",
    "classifier = []\n",
    "\n",
    "Logistic = LogisticRegression(random_state=42, solver='lbfgs', C=0.1, max_iter=5000)\n",
    "fit_predict(Logistic)\n",
    "Logistic = LogisticRegression(random_state=42, solver='lbfgs', C=1, max_iter=5000)\n",
    "fit_predict(Logistic)\n",
    "Logistic = LogisticRegression(random_state=42, solver='lbfgs', C=10, max_iter=5000)\n",
    "fit_predict(Logistic)\n",
    "\n",
    "Logistic = LogisticRegression(random_state=42, solver='lbfgs', multi_class='multinomial', C=0.1, max_iter=5000)\n",
    "fit_predict(Logistic)\n",
    "Logistic = LogisticRegression(random_state=42, solver='lbfgs', multi_class='multinomial', C=1, max_iter=5000)\n",
    "fit_predict(Logistic)\n",
    "Logistic = LogisticRegression(random_state=42, solver='lbfgs', multi_class='multinomial', C=10, max_iter=5000)\n",
    "fit_predict(Logistic)\n",
    "\n",
    "Logistic = LogisticRegression(random_state=42, penalty='l1', C=0.1, max_iter=5000)\n",
    "fit_predict(Logistic)\n",
    "Logistic = LogisticRegression(random_state=42, penalty='l1', C=1, max_iter=5000)\n",
    "fit_predict(Logistic)\n",
    "Logistic = LogisticRegression(random_state=42, penalty='l1', C=10, max_iter=5000)\n",
    "fit_predict(Logistic)"
   ]
  },
  {
   "cell_type": "code",
   "execution_count": 211,
   "metadata": {},
   "outputs": [
    {
     "data": {
      "text/html": [
       "<div>\n",
       "<style scoped>\n",
       "    .dataframe tbody tr th:only-of-type {\n",
       "        vertical-align: middle;\n",
       "    }\n",
       "\n",
       "    .dataframe tbody tr th {\n",
       "        vertical-align: top;\n",
       "    }\n",
       "\n",
       "    .dataframe thead th {\n",
       "        text-align: right;\n",
       "    }\n",
       "</style>\n",
       "<table border=\"1\" class=\"dataframe\">\n",
       "  <thead>\n",
       "    <tr style=\"text-align: right;\">\n",
       "      <th></th>\n",
       "      <th>accuracy_train</th>\n",
       "      <th>accuracy_test</th>\n",
       "      <th>classifier</th>\n",
       "    </tr>\n",
       "  </thead>\n",
       "  <tbody>\n",
       "    <tr>\n",
       "      <th>0</th>\n",
       "      <td>0.275000</td>\n",
       "      <td>0.275748</td>\n",
       "      <td>LogisticRegression(C=0.1, class_weight=None, d...</td>\n",
       "    </tr>\n",
       "    <tr>\n",
       "      <th>1</th>\n",
       "      <td>0.371667</td>\n",
       "      <td>0.342193</td>\n",
       "      <td>LogisticRegression(C=1, class_weight=None, dua...</td>\n",
       "    </tr>\n",
       "    <tr>\n",
       "      <th>2</th>\n",
       "      <td>0.469167</td>\n",
       "      <td>0.372093</td>\n",
       "      <td>LogisticRegression(C=10, class_weight=None, du...</td>\n",
       "    </tr>\n",
       "    <tr>\n",
       "      <th>3</th>\n",
       "      <td>0.285000</td>\n",
       "      <td>0.295681</td>\n",
       "      <td>LogisticRegression(C=0.1, class_weight=None, d...</td>\n",
       "    </tr>\n",
       "    <tr>\n",
       "      <th>4</th>\n",
       "      <td>0.381667</td>\n",
       "      <td>0.352159</td>\n",
       "      <td>LogisticRegression(C=1, class_weight=None, dua...</td>\n",
       "    </tr>\n",
       "  </tbody>\n",
       "</table>\n",
       "</div>"
      ],
      "text/plain": [
       "   accuracy_train  accuracy_test  \\\n",
       "0        0.275000       0.275748   \n",
       "1        0.371667       0.342193   \n",
       "2        0.469167       0.372093   \n",
       "3        0.285000       0.295681   \n",
       "4        0.381667       0.352159   \n",
       "\n",
       "                                          classifier  \n",
       "0  LogisticRegression(C=0.1, class_weight=None, d...  \n",
       "1  LogisticRegression(C=1, class_weight=None, dua...  \n",
       "2  LogisticRegression(C=10, class_weight=None, du...  \n",
       "3  LogisticRegression(C=0.1, class_weight=None, d...  \n",
       "4  LogisticRegression(C=1, class_weight=None, dua...  "
      ]
     },
     "execution_count": 211,
     "metadata": {},
     "output_type": "execute_result"
    }
   ],
   "source": [
    "logistic = pd.DataFrame({\n",
    "    \"accuracy_train\": accuracy_train,\n",
    "    \"accuracy_test\": accuracy_test,\n",
    "    \"classifier\": classifier})\n",
    "logistic.head()"
   ]
  },
  {
   "cell_type": "code",
   "execution_count": 212,
   "metadata": {},
   "outputs": [
    {
     "data": {
      "text/html": [
       "<div>\n",
       "<style scoped>\n",
       "    .dataframe tbody tr th:only-of-type {\n",
       "        vertical-align: middle;\n",
       "    }\n",
       "\n",
       "    .dataframe tbody tr th {\n",
       "        vertical-align: top;\n",
       "    }\n",
       "\n",
       "    .dataframe thead th {\n",
       "        text-align: right;\n",
       "    }\n",
       "</style>\n",
       "<table border=\"1\" class=\"dataframe\">\n",
       "  <thead>\n",
       "    <tr style=\"text-align: right;\">\n",
       "      <th></th>\n",
       "      <th>pred</th>\n",
       "      <th>actual</th>\n",
       "    </tr>\n",
       "  </thead>\n",
       "  <tbody>\n",
       "    <tr>\n",
       "      <th>0</th>\n",
       "      <td>19.0</td>\n",
       "      <td>14.0</td>\n",
       "    </tr>\n",
       "    <tr>\n",
       "      <th>1</th>\n",
       "      <td>14.0</td>\n",
       "      <td>14.0</td>\n",
       "    </tr>\n",
       "    <tr>\n",
       "      <th>2</th>\n",
       "      <td>12.0</td>\n",
       "      <td>14.0</td>\n",
       "    </tr>\n",
       "    <tr>\n",
       "      <th>3</th>\n",
       "      <td>14.0</td>\n",
       "      <td>14.0</td>\n",
       "    </tr>\n",
       "    <tr>\n",
       "      <th>4</th>\n",
       "      <td>16.0</td>\n",
       "      <td>14.0</td>\n",
       "    </tr>\n",
       "  </tbody>\n",
       "</table>\n",
       "</div>"
      ],
      "text/plain": [
       "   pred  actual\n",
       "0  19.0    14.0\n",
       "1  14.0    14.0\n",
       "2  12.0    14.0\n",
       "3  14.0    14.0\n",
       "4  16.0    14.0"
      ]
     },
     "execution_count": 212,
     "metadata": {},
     "output_type": "execute_result"
    }
   ],
   "source": [
    "\n",
    "for i in range(len(classifier)):\n",
    "    logistic_y_predict = pd.DataFrame({\n",
    "        \"pred\": y_predict_test[i],\n",
    "        \"actual\": y_test.iloc[i]})\n",
    "    try:\n",
    "        os.stat(\"NB3_df\")\n",
    "    except:\n",
    "        os.mkdir(\"NB3_df\")       \n",
    "    logistic_y_predict.to_hdf(\"NB3_df/logistic_y_predict\" + \"_c\" + str(i + 1) + \".h5\", \"data\", mode=\"w\")\n",
    "logistic_y_predict.head()"
   ]
  },
  {
   "cell_type": "code",
   "execution_count": 213,
   "metadata": {},
   "outputs": [
    {
     "data": {
      "image/png": "[encoded data removed]",
      "text/plain": [
       "<Figure size 720x576 with 1 Axes>"
      ]
     },
     "metadata": {
      "needs_background": "light"
     },
     "output_type": "display_data"
    },
    {
     "data": {
      "image/png": "[encoded data removed]",
      "text/plain": [
       "<Figure size 720x576 with 1 Axes>"
      ]
     },
     "metadata": {
      "needs_background": "light"
     },
     "output_type": "display_data"
    }
   ],
   "source": [
    "try:\n",
    "    os.stat(\"NB3_graph\")\n",
    "except:\n",
    "    os.mkdir(\"NB3_graph\")  \n",
    "\n",
    "plt.figure(figsize=(10, 8))\n",
    "plt.bar(np.arange(len(logistic)) - 0.2, logistic.accuracy_train, width=0.4, align='center')\n",
    "plt.bar(np.arange(len(logistic)) + 0.2, logistic.accuracy_test, width=0.4, align='center')\n",
    "\n",
    "plt.title(\"Logistic Regression\")\n",
    "plt.xlabel(\"Model\")\n",
    "plt.ylabel(\"Accuracy\")\n",
    "plt.ylim(0, 0.5)\n",
    "plt.legend([\"train\", \"test\"])\n",
    "plt.savefig(\"NB3_graph/Logistic1.jpg\")\n",
    "plt.figure(figsize=(10, 8))\n",
    "plt.plot(np.arange(len(logistic)), logistic.accuracy_train)\n",
    "plt.plot(np.arange(len(logistic)), logistic.accuracy_test)\n",
    "plt.title(\"Logistic Regression\")\n",
    "plt.xlabel(\"Model\")\n",
    "plt.ylabel(\"Accuracy\")\n",
    "plt.ylim(0, 0.5)\n",
    "plt.legend([\"train\", \"test\"])\n",
    "plt.savefig(\"NB3_graph/Logistic2.jpg\")"
   ]
  },
  {
   "cell_type": "code",
   "execution_count": 214,
   "metadata": {},
   "outputs": [
    {
     "name": "stdout",
     "output_type": "stream",
     "text": [
      "Best accuracy on test: LogisticRegression(C=10, class_weight=None, dual=False, fit_intercept=True,\n",
      "          intercept_scaling=1, max_iter=5000, multi_class='warn',\n",
      "          n_jobs=None, penalty='l1', random_state=42, solver='warn',\n",
      "          tol=0.0001, verbose=0, warm_start=False)\n",
      "Train accuracy: 0.49416666666666664\n",
      "Test accuracy: 0.3920265780730897\n"
     ]
    }
   ],
   "source": [
    "max_pos = np.argmax(logistic.accuracy_test.values)\n",
    "print(\"Best accuracy on test: {}\".format(logistic.classifier[max_pos]))\n",
    "print(\"Train accuracy: {}\".format(logistic.accuracy_train[max_pos]))\n",
    "print(\"Test accuracy: {}\".format(logistic.accuracy_test[max_pos]))"
   ]
  },
  {
   "cell_type": "markdown",
   "metadata": {},
   "source": [
    "### K-nearest Neighbors"
   ]
  },
  {
   "cell_type": "code",
   "execution_count": 215,
   "metadata": {},
   "outputs": [
    {
     "name": "stdout",
     "output_type": "stream",
     "text": [
      ".............."
     ]
    }
   ],
   "source": [
    "from sklearn.neighbors import KNeighborsClassifier\n",
    "\n",
    "accuracy_train = []\n",
    "accuracy_test = []\n",
    "classifier = []\n",
    "\n",
    "n_neighbors = np.arange(3, 30, 2)\n",
    "for k in n_neighbors:\n",
    "    KNN = KNeighborsClassifier(n_neighbors=k)\n",
    "    fit_predict(KNN)"
   ]
  },
  {
   "cell_type": "code",
   "execution_count": 216,
   "metadata": {},
   "outputs": [
    {
     "data": {
      "text/html": [
       "<div>\n",
       "<style scoped>\n",
       "    .dataframe tbody tr th:only-of-type {\n",
       "        vertical-align: middle;\n",
       "    }\n",
       "\n",
       "    .dataframe tbody tr th {\n",
       "        vertical-align: top;\n",
       "    }\n",
       "\n",
       "    .dataframe thead th {\n",
       "        text-align: right;\n",
       "    }\n",
       "</style>\n",
       "<table border=\"1\" class=\"dataframe\">\n",
       "  <thead>\n",
       "    <tr style=\"text-align: right;\">\n",
       "      <th></th>\n",
       "      <th>accuracy_train</th>\n",
       "      <th>accuracy_test</th>\n",
       "      <th>classifier</th>\n",
       "    </tr>\n",
       "  </thead>\n",
       "  <tbody>\n",
       "    <tr>\n",
       "      <th>0</th>\n",
       "      <td>0.607500</td>\n",
       "      <td>0.325581</td>\n",
       "      <td>KNeighborsClassifier(algorithm='auto', leaf_si...</td>\n",
       "    </tr>\n",
       "    <tr>\n",
       "      <th>1</th>\n",
       "      <td>0.543333</td>\n",
       "      <td>0.332226</td>\n",
       "      <td>KNeighborsClassifier(algorithm='auto', leaf_si...</td>\n",
       "    </tr>\n",
       "    <tr>\n",
       "      <th>2</th>\n",
       "      <td>0.500833</td>\n",
       "      <td>0.332226</td>\n",
       "      <td>KNeighborsClassifier(algorithm='auto', leaf_si...</td>\n",
       "    </tr>\n",
       "    <tr>\n",
       "      <th>3</th>\n",
       "      <td>0.480000</td>\n",
       "      <td>0.328904</td>\n",
       "      <td>KNeighborsClassifier(algorithm='auto', leaf_si...</td>\n",
       "    </tr>\n",
       "    <tr>\n",
       "      <th>4</th>\n",
       "      <td>0.471667</td>\n",
       "      <td>0.345515</td>\n",
       "      <td>KNeighborsClassifier(algorithm='auto', leaf_si...</td>\n",
       "    </tr>\n",
       "  </tbody>\n",
       "</table>\n",
       "</div>"
      ],
      "text/plain": [
       "   accuracy_train  accuracy_test  \\\n",
       "0        0.607500       0.325581   \n",
       "1        0.543333       0.332226   \n",
       "2        0.500833       0.332226   \n",
       "3        0.480000       0.328904   \n",
       "4        0.471667       0.345515   \n",
       "\n",
       "                                          classifier  \n",
       "0  KNeighborsClassifier(algorithm='auto', leaf_si...  \n",
       "1  KNeighborsClassifier(algorithm='auto', leaf_si...  \n",
       "2  KNeighborsClassifier(algorithm='auto', leaf_si...  \n",
       "3  KNeighborsClassifier(algorithm='auto', leaf_si...  \n",
       "4  KNeighborsClassifier(algorithm='auto', leaf_si...  "
      ]
     },
     "execution_count": 216,
     "metadata": {},
     "output_type": "execute_result"
    }
   ],
   "source": [
    "knn = pd.DataFrame({\n",
    "    \"accuracy_train\": accuracy_train,\n",
    "    \"accuracy_test\": accuracy_test,\n",
    "    \"classifier\": classifier})\n",
    "knn.head()"
   ]
  },
  {
   "cell_type": "code",
   "execution_count": 217,
   "metadata": {},
   "outputs": [
    {
     "data": {
      "text/html": [
       "<div>\n",
       "<style scoped>\n",
       "    .dataframe tbody tr th:only-of-type {\n",
       "        vertical-align: middle;\n",
       "    }\n",
       "\n",
       "    .dataframe tbody tr th {\n",
       "        vertical-align: top;\n",
       "    }\n",
       "\n",
       "    .dataframe thead th {\n",
       "        text-align: right;\n",
       "    }\n",
       "</style>\n",
       "<table border=\"1\" class=\"dataframe\">\n",
       "  <thead>\n",
       "    <tr style=\"text-align: right;\">\n",
       "      <th></th>\n",
       "      <th>pred</th>\n",
       "      <th>actual</th>\n",
       "    </tr>\n",
       "  </thead>\n",
       "  <tbody>\n",
       "    <tr>\n",
       "      <th>0</th>\n",
       "      <td>17.0</td>\n",
       "      <td>16.0</td>\n",
       "    </tr>\n",
       "    <tr>\n",
       "      <th>1</th>\n",
       "      <td>13.0</td>\n",
       "      <td>16.0</td>\n",
       "    </tr>\n",
       "    <tr>\n",
       "      <th>2</th>\n",
       "      <td>12.0</td>\n",
       "      <td>16.0</td>\n",
       "    </tr>\n",
       "    <tr>\n",
       "      <th>3</th>\n",
       "      <td>8.0</td>\n",
       "      <td>16.0</td>\n",
       "    </tr>\n",
       "    <tr>\n",
       "      <th>4</th>\n",
       "      <td>5.0</td>\n",
       "      <td>16.0</td>\n",
       "    </tr>\n",
       "  </tbody>\n",
       "</table>\n",
       "</div>"
      ],
      "text/plain": [
       "   pred  actual\n",
       "0  17.0    16.0\n",
       "1  13.0    16.0\n",
       "2  12.0    16.0\n",
       "3   8.0    16.0\n",
       "4   5.0    16.0"
      ]
     },
     "execution_count": 217,
     "metadata": {},
     "output_type": "execute_result"
    }
   ],
   "source": [
    "for i in range(len(classifier)):\n",
    "    knn_y_predict = pd.DataFrame({\n",
    "        \"pred\": y_predict_test[i],\n",
    "        \"actual\": y_test.iloc[i]})\n",
    "    knn_y_predict.to_hdf(\"NB3_df/knn_y_predict\" + \"_c\" + str(i + 1) + \".h5\", \"data\", mode=\"w\")\n",
    "knn_y_predict.head()"
   ]
  },
  {
   "cell_type": "code",
   "execution_count": 218,
   "metadata": {},
   "outputs": [
    {
     "data": {
      "image/png": "[encoded data removed]",
      "text/plain": [
       "<Figure size 720x576 with 1 Axes>"
      ]
     },
     "metadata": {
      "needs_background": "light"
     },
     "output_type": "display_data"
    },
    {
     "data": {
      "image/png": "[encoded data removed]",
      "text/plain": [
       "<Figure size 720x576 with 1 Axes>"
      ]
     },
     "metadata": {
      "needs_background": "light"
     },
     "output_type": "display_data"
    }
   ],
   "source": [
    "plt.figure(figsize=(10, 8))\n",
    "plt.bar(np.arange(len(knn)) - 0.2, knn.accuracy_train, width=0.4, align='center')\n",
    "plt.bar(np.arange(len(knn)) + 0.2, knn.accuracy_test, width=0.4, align='center')\n",
    "plt.title(\"KNN\")\n",
    "plt.xlabel(\"Model\")\n",
    "plt.ylabel(\"Accuracy\")\n",
    "plt.ylim(0, 0.45)\n",
    "plt.legend([\"train\", \"test\"])\n",
    "plt.savefig(\"NB3_graph/KNN1.jpg\")\n",
    "\n",
    "plt.figure(figsize=(10, 8))\n",
    "plt.plot(np.arange(len(knn)), knn.accuracy_train)\n",
    "plt.plot(np.arange(len(knn)), knn.accuracy_test)\n",
    "plt.title(\"KNN\")\n",
    "plt.xlabel(\"Model\")\n",
    "plt.ylabel(\"Accuracy\")\n",
    "plt.ylim(0, 0.45)\n",
    "plt.legend([\"train\", \"test\"])\n",
    "plt.savefig(\"NB3_graph/KNN2.jpg\")"
   ]
  },
  {
   "cell_type": "code",
   "execution_count": 219,
   "metadata": {},
   "outputs": [
    {
     "name": "stdout",
     "output_type": "stream",
     "text": [
      "Best accuracy on test: KNeighborsClassifier(algorithm='auto', leaf_size=30, metric='minkowski',\n",
      "           metric_params=None, n_jobs=None, n_neighbors=17, p=2,\n",
      "           weights='uniform')\n",
      "Train accuracy: 0.44916666666666666\n",
      "Test accuracy: 0.36212624584717606\n"
     ]
    }
   ],
   "source": [
    "max_pos = np.argmax(knn.accuracy_test.values)\n",
    "print(\"Best accuracy on test: {}\".format(knn.classifier[max_pos]))\n",
    "print(\"Train accuracy: {}\".format(knn.accuracy_train[max_pos]))\n",
    "print(\"Test accuracy: {}\".format(knn.accuracy_test[max_pos]))"
   ]
  },
  {
   "cell_type": "markdown",
   "metadata": {},
   "source": [
    "### Classification Tree"
   ]
  },
  {
   "cell_type": "code",
   "execution_count": 220,
   "metadata": {},
   "outputs": [
    {
     "name": "stdout",
     "output_type": "stream",
     "text": [
      "............................"
     ]
    }
   ],
   "source": [
    "from sklearn.tree import DecisionTreeClassifier\n",
    "\n",
    "accuracy_train = []\n",
    "accuracy_test = []\n",
    "classifier = []\n",
    "\n",
    "for c in ['gini', 'entropy']:\n",
    "    for s in ['best', 'random']:\n",
    "        for min_s in np.arange(3, 10):\n",
    "            DecisionTree = DecisionTreeClassifier(criterion=c, splitter = s, min_samples_split=min_s)\n",
    "            fit_predict(DecisionTree)"
   ]
  },
  {
   "cell_type": "code",
   "execution_count": 221,
   "metadata": {},
   "outputs": [
    {
     "data": {
      "text/html": [
       "<div>\n",
       "<style scoped>\n",
       "    .dataframe tbody tr th:only-of-type {\n",
       "        vertical-align: middle;\n",
       "    }\n",
       "\n",
       "    .dataframe tbody tr th {\n",
       "        vertical-align: top;\n",
       "    }\n",
       "\n",
       "    .dataframe thead th {\n",
       "        text-align: right;\n",
       "    }\n",
       "</style>\n",
       "<table border=\"1\" class=\"dataframe\">\n",
       "  <thead>\n",
       "    <tr style=\"text-align: right;\">\n",
       "      <th></th>\n",
       "      <th>accuracy_train</th>\n",
       "      <th>accuracy_test</th>\n",
       "      <th>classifier</th>\n",
       "    </tr>\n",
       "  </thead>\n",
       "  <tbody>\n",
       "    <tr>\n",
       "      <th>0</th>\n",
       "      <td>0.944167</td>\n",
       "      <td>0.308970</td>\n",
       "      <td>DecisionTreeClassifier(class_weight=None, crit...</td>\n",
       "    </tr>\n",
       "    <tr>\n",
       "      <th>1</th>\n",
       "      <td>0.894167</td>\n",
       "      <td>0.312292</td>\n",
       "      <td>DecisionTreeClassifier(class_weight=None, crit...</td>\n",
       "    </tr>\n",
       "    <tr>\n",
       "      <th>2</th>\n",
       "      <td>0.850000</td>\n",
       "      <td>0.308970</td>\n",
       "      <td>DecisionTreeClassifier(class_weight=None, crit...</td>\n",
       "    </tr>\n",
       "    <tr>\n",
       "      <th>3</th>\n",
       "      <td>0.814167</td>\n",
       "      <td>0.315615</td>\n",
       "      <td>DecisionTreeClassifier(class_weight=None, crit...</td>\n",
       "    </tr>\n",
       "    <tr>\n",
       "      <th>4</th>\n",
       "      <td>0.776667</td>\n",
       "      <td>0.312292</td>\n",
       "      <td>DecisionTreeClassifier(class_weight=None, crit...</td>\n",
       "    </tr>\n",
       "  </tbody>\n",
       "</table>\n",
       "</div>"
      ],
      "text/plain": [
       "   accuracy_train  accuracy_test  \\\n",
       "0        0.944167       0.308970   \n",
       "1        0.894167       0.312292   \n",
       "2        0.850000       0.308970   \n",
       "3        0.814167       0.315615   \n",
       "4        0.776667       0.312292   \n",
       "\n",
       "                                          classifier  \n",
       "0  DecisionTreeClassifier(class_weight=None, crit...  \n",
       "1  DecisionTreeClassifier(class_weight=None, crit...  \n",
       "2  DecisionTreeClassifier(class_weight=None, crit...  \n",
       "3  DecisionTreeClassifier(class_weight=None, crit...  \n",
       "4  DecisionTreeClassifier(class_weight=None, crit...  "
      ]
     },
     "execution_count": 221,
     "metadata": {},
     "output_type": "execute_result"
    }
   ],
   "source": [
    "dt = pd.DataFrame({\n",
    "    \"accuracy_train\": accuracy_train,\n",
    "    \"accuracy_test\": accuracy_test,\n",
    "    \"classifier\": classifier})\n",
    "dt.head()"
   ]
  },
  {
   "cell_type": "code",
   "execution_count": 222,
   "metadata": {},
   "outputs": [
    {
     "data": {
      "text/html": [
       "<div>\n",
       "<style scoped>\n",
       "    .dataframe tbody tr th:only-of-type {\n",
       "        vertical-align: middle;\n",
       "    }\n",
       "\n",
       "    .dataframe tbody tr th {\n",
       "        vertical-align: top;\n",
       "    }\n",
       "\n",
       "    .dataframe thead th {\n",
       "        text-align: right;\n",
       "    }\n",
       "</style>\n",
       "<table border=\"1\" class=\"dataframe\">\n",
       "  <thead>\n",
       "    <tr style=\"text-align: right;\">\n",
       "      <th></th>\n",
       "      <th>pred</th>\n",
       "      <th>actual</th>\n",
       "    </tr>\n",
       "  </thead>\n",
       "  <tbody>\n",
       "    <tr>\n",
       "      <th>0</th>\n",
       "      <td>5.0</td>\n",
       "      <td>18.0</td>\n",
       "    </tr>\n",
       "    <tr>\n",
       "      <th>1</th>\n",
       "      <td>8.0</td>\n",
       "      <td>18.0</td>\n",
       "    </tr>\n",
       "    <tr>\n",
       "      <th>2</th>\n",
       "      <td>12.0</td>\n",
       "      <td>18.0</td>\n",
       "    </tr>\n",
       "    <tr>\n",
       "      <th>3</th>\n",
       "      <td>8.0</td>\n",
       "      <td>18.0</td>\n",
       "    </tr>\n",
       "    <tr>\n",
       "      <th>4</th>\n",
       "      <td>19.0</td>\n",
       "      <td>18.0</td>\n",
       "    </tr>\n",
       "  </tbody>\n",
       "</table>\n",
       "</div>"
      ],
      "text/plain": [
       "   pred  actual\n",
       "0   5.0    18.0\n",
       "1   8.0    18.0\n",
       "2  12.0    18.0\n",
       "3   8.0    18.0\n",
       "4  19.0    18.0"
      ]
     },
     "execution_count": 222,
     "metadata": {},
     "output_type": "execute_result"
    }
   ],
   "source": [
    "for i in range(len(classifier)):\n",
    "    dt_y_predict = pd.DataFrame({\n",
    "        \"pred\": y_predict_test[i],\n",
    "        \"actual\": y_test.iloc[i]})\n",
    "    dt_y_predict.to_hdf(\"NB3_df/dt_y_predict\" + \"_c\" + str(i + 1) + \".h5\", \"data\", mode=\"w\")\n",
    "dt_y_predict.head()"
   ]
  },
  {
   "cell_type": "code",
   "execution_count": 223,
   "metadata": {},
   "outputs": [
    {
     "data": {
      "image/png": "[encoded data removed]",
      "text/plain": [
       "<Figure size 720x576 with 1 Axes>"
      ]
     },
     "metadata": {
      "needs_background": "light"
     },
     "output_type": "display_data"
    },
    {
     "data": {
      "image/png": "[encoded data removed]",
      "text/plain": [
       "<Figure size 720x576 with 1 Axes>"
      ]
     },
     "metadata": {
      "needs_background": "light"
     },
     "output_type": "display_data"
    }
   ],
   "source": [
    "plt.figure(figsize=(10, 8))\n",
    "plt.bar(np.arange(len(dt)) - 0.2, dt.accuracy_train, width=0.4, align='center')\n",
    "plt.bar(np.arange(len(dt)) + 0.2, dt.accuracy_test, width=0.4, align='center')\n",
    "plt.title(\"Decision Tree\")\n",
    "plt.xlabel(\"Model\")\n",
    "plt.ylabel(\"Accuracy\")\n",
    "plt.ylim(0, 1)\n",
    "plt.legend([\"train\", \"test\"])\n",
    "plt.savefig(\"NB3_graph/Decision Tree1.jpg\")\n",
    "\n",
    "plt.figure(figsize=(10, 8))\n",
    "plt.plot(np.arange(len(dt)), dt.accuracy_train)\n",
    "plt.plot(np.arange(len(dt)), dt.accuracy_test)\n",
    "plt.title(\"Decision Tree\")\n",
    "plt.xlabel(\"Model\")\n",
    "plt.ylabel(\"Accuracy\")\n",
    "plt.ylim(0, 1)\n",
    "plt.legend([\"train\", \"test\"])\n",
    "plt.savefig(\"NB3_graph/Decision Tree2.jpg\")"
   ]
  },
  {
   "cell_type": "code",
   "execution_count": 224,
   "metadata": {},
   "outputs": [
    {
     "name": "stdout",
     "output_type": "stream",
     "text": [
      "Best accuracy on test: DecisionTreeClassifier(class_weight=None, criterion='entropy', max_depth=None,\n",
      "            max_features=None, max_leaf_nodes=None,\n",
      "            min_impurity_decrease=0.0, min_impurity_split=None,\n",
      "            min_samples_leaf=1, min_samples_split=7,\n",
      "            min_weight_fraction_leaf=0.0, presort=False, random_state=None,\n",
      "            splitter='best')\n",
      "Train accuracy: 0.7791666666666667\n",
      "Test accuracy: 0.33554817275747506\n"
     ]
    }
   ],
   "source": [
    "max_pos = np.argmax(dt.accuracy_test.values)\n",
    "print(\"Best accuracy on test: {}\".format(dt.classifier[max_pos]))\n",
    "print(\"Train accuracy: {}\".format(dt.accuracy_train[max_pos]))\n",
    "print(\"Test accuracy: {}\".format(dt.accuracy_test[max_pos]))"
   ]
  },
  {
   "cell_type": "markdown",
   "metadata": {},
   "source": [
    "### Random Forest"
   ]
  },
  {
   "cell_type": "code",
   "execution_count": 225,
   "metadata": {},
   "outputs": [
    {
     "name": "stdout",
     "output_type": "stream",
     "text": [
      ".............................."
     ]
    }
   ],
   "source": [
    "from sklearn.ensemble import RandomForestClassifier\n",
    "\n",
    "accuracy_train = []\n",
    "accuracy_test = []\n",
    "classifier = []\n",
    "\n",
    "for n in np.arange(10, 100, 20):\n",
    "    for d in np.arange(2, 8):\n",
    "        RandomForest = RandomForestClassifier(n_estimators=n, max_depth=d)\n",
    "        fit_predict(RandomForest)"
   ]
  },
  {
   "cell_type": "code",
   "execution_count": 226,
   "metadata": {},
   "outputs": [
    {
     "data": {
      "text/html": [
       "<div>\n",
       "<style scoped>\n",
       "    .dataframe tbody tr th:only-of-type {\n",
       "        vertical-align: middle;\n",
       "    }\n",
       "\n",
       "    .dataframe tbody tr th {\n",
       "        vertical-align: top;\n",
       "    }\n",
       "\n",
       "    .dataframe thead th {\n",
       "        text-align: right;\n",
       "    }\n",
       "</style>\n",
       "<table border=\"1\" class=\"dataframe\">\n",
       "  <thead>\n",
       "    <tr style=\"text-align: right;\">\n",
       "      <th></th>\n",
       "      <th>accuracy_train</th>\n",
       "      <th>accuracy_test</th>\n",
       "      <th>classifier</th>\n",
       "    </tr>\n",
       "  </thead>\n",
       "  <tbody>\n",
       "    <tr>\n",
       "      <th>0</th>\n",
       "      <td>0.263333</td>\n",
       "      <td>0.282392</td>\n",
       "      <td>(DecisionTreeClassifier(class_weight=None, cri...</td>\n",
       "    </tr>\n",
       "    <tr>\n",
       "      <th>1</th>\n",
       "      <td>0.313333</td>\n",
       "      <td>0.312292</td>\n",
       "      <td>(DecisionTreeClassifier(class_weight=None, cri...</td>\n",
       "    </tr>\n",
       "    <tr>\n",
       "      <th>2</th>\n",
       "      <td>0.338333</td>\n",
       "      <td>0.308970</td>\n",
       "      <td>(DecisionTreeClassifier(class_weight=None, cri...</td>\n",
       "    </tr>\n",
       "    <tr>\n",
       "      <th>3</th>\n",
       "      <td>0.405833</td>\n",
       "      <td>0.338870</td>\n",
       "      <td>(DecisionTreeClassifier(class_weight=None, cri...</td>\n",
       "    </tr>\n",
       "    <tr>\n",
       "      <th>4</th>\n",
       "      <td>0.482500</td>\n",
       "      <td>0.335548</td>\n",
       "      <td>(DecisionTreeClassifier(class_weight=None, cri...</td>\n",
       "    </tr>\n",
       "  </tbody>\n",
       "</table>\n",
       "</div>"
      ],
      "text/plain": [
       "   accuracy_train  accuracy_test  \\\n",
       "0        0.263333       0.282392   \n",
       "1        0.313333       0.312292   \n",
       "2        0.338333       0.308970   \n",
       "3        0.405833       0.338870   \n",
       "4        0.482500       0.335548   \n",
       "\n",
       "                                          classifier  \n",
       "0  (DecisionTreeClassifier(class_weight=None, cri...  \n",
       "1  (DecisionTreeClassifier(class_weight=None, cri...  \n",
       "2  (DecisionTreeClassifier(class_weight=None, cri...  \n",
       "3  (DecisionTreeClassifier(class_weight=None, cri...  \n",
       "4  (DecisionTreeClassifier(class_weight=None, cri...  "
      ]
     },
     "execution_count": 226,
     "metadata": {},
     "output_type": "execute_result"
    }
   ],
   "source": [
    "rf = pd.DataFrame({\n",
    "    \"accuracy_train\": accuracy_train,\n",
    "    \"accuracy_test\": accuracy_test,\n",
    "    \"classifier\": classifier})\n",
    "rf.head()"
   ]
  },
  {
   "cell_type": "code",
   "execution_count": 227,
   "metadata": {},
   "outputs": [
    {
     "data": {
      "text/html": [
       "<div>\n",
       "<style scoped>\n",
       "    .dataframe tbody tr th:only-of-type {\n",
       "        vertical-align: middle;\n",
       "    }\n",
       "\n",
       "    .dataframe tbody tr th {\n",
       "        vertical-align: top;\n",
       "    }\n",
       "\n",
       "    .dataframe thead th {\n",
       "        text-align: right;\n",
       "    }\n",
       "</style>\n",
       "<table border=\"1\" class=\"dataframe\">\n",
       "  <thead>\n",
       "    <tr style=\"text-align: right;\">\n",
       "      <th></th>\n",
       "      <th>pred</th>\n",
       "      <th>actual</th>\n",
       "    </tr>\n",
       "  </thead>\n",
       "  <tbody>\n",
       "    <tr>\n",
       "      <th>0</th>\n",
       "      <td>5.0</td>\n",
       "      <td>12.0</td>\n",
       "    </tr>\n",
       "    <tr>\n",
       "      <th>1</th>\n",
       "      <td>8.0</td>\n",
       "      <td>12.0</td>\n",
       "    </tr>\n",
       "    <tr>\n",
       "      <th>2</th>\n",
       "      <td>12.0</td>\n",
       "      <td>12.0</td>\n",
       "    </tr>\n",
       "    <tr>\n",
       "      <th>3</th>\n",
       "      <td>8.0</td>\n",
       "      <td>12.0</td>\n",
       "    </tr>\n",
       "    <tr>\n",
       "      <th>4</th>\n",
       "      <td>19.0</td>\n",
       "      <td>12.0</td>\n",
       "    </tr>\n",
       "  </tbody>\n",
       "</table>\n",
       "</div>"
      ],
      "text/plain": [
       "   pred  actual\n",
       "0   5.0    12.0\n",
       "1   8.0    12.0\n",
       "2  12.0    12.0\n",
       "3   8.0    12.0\n",
       "4  19.0    12.0"
      ]
     },
     "execution_count": 227,
     "metadata": {},
     "output_type": "execute_result"
    }
   ],
   "source": [
    "for i in range(len(classifier)):\n",
    "    rf_y_predict = pd.DataFrame({\n",
    "        \"pred\": y_predict_test[i],\n",
    "        \"actual\": y_test.iloc[i]})\n",
    "    rf_y_predict.to_hdf(\"NB3_df/rf_y_predict\" + \"_c\" + str(i + 1) + \".h5\", \"data\", mode=\"w\")\n",
    "rf_y_predict.head()"
   ]
  },
  {
   "cell_type": "code",
   "execution_count": 228,
   "metadata": {},
   "outputs": [
    {
     "data": {
      "image/png": "[encoded data removed]",
      "text/plain": [
       "<Figure size 720x576 with 1 Axes>"
      ]
     },
     "metadata": {
      "needs_background": "light"
     },
     "output_type": "display_data"
    },
    {
     "data": {
      "image/png": "[encoded data removed]",
      "text/plain": [
       "<Figure size 720x576 with 1 Axes>"
      ]
     },
     "metadata": {
      "needs_background": "light"
     },
     "output_type": "display_data"
    }
   ],
   "source": [
    "plt.figure(figsize=(10, 8))\n",
    "plt.bar(np.arange(len(rf)) - 0.2, rf.accuracy_train, width=0.4, align='center')\n",
    "plt.bar(np.arange(len(rf)) + 0.2, rf.accuracy_test, width=0.4, align='center')\n",
    "plt.title(\"Random Forest\")\n",
    "plt.xlabel(\"Model\")\n",
    "plt.ylabel(\"Accuracy\")\n",
    "plt.ylim(0, 0.7)\n",
    "plt.legend([\"train\", \"test\"])\n",
    "plt.savefig(\"NB3_graph/Random Forest1.jpg\")\n",
    "\n",
    "plt.figure(figsize=(10, 8))\n",
    "plt.plot(np.arange(len(rf)), rf.accuracy_train)\n",
    "plt.plot(np.arange(len(rf)), rf.accuracy_test)\n",
    "plt.title(\"Random Forest\")\n",
    "plt.xlabel(\"Model\")\n",
    "plt.ylabel(\"Accuracy\")\n",
    "plt.ylim(0, 0.7)\n",
    "plt.legend([\"train\", \"test\"])\n",
    "plt.savefig(\"NB3_graph/Random Forest2.jpg\")"
   ]
  },
  {
   "cell_type": "code",
   "execution_count": 229,
   "metadata": {},
   "outputs": [
    {
     "name": "stdout",
     "output_type": "stream",
     "text": [
      "Best accuracy on test: RandomForestClassifier(bootstrap=True, class_weight=None, criterion='gini',\n",
      "            max_depth=7, max_features='auto', max_leaf_nodes=None,\n",
      "            min_impurity_decrease=0.0, min_impurity_split=None,\n",
      "            min_samples_leaf=1, min_samples_split=2,\n",
      "            min_weight_fraction_leaf=0.0, n_estimators=50, n_jobs=None,\n",
      "            oob_score=False, random_state=None, verbose=0,\n",
      "            warm_start=False)\n",
      "Train accuracy: 0.61\n",
      "Test accuracy: 0.3654485049833887\n"
     ]
    }
   ],
   "source": [
    "max_pos = np.argmax(rf.accuracy_test.values)\n",
    "print(\"Best accuracy on test: {}\".format(rf.classifier[max_pos]))\n",
    "print(\"Train accuracy: {}\".format(rf.accuracy_train[max_pos]))\n",
    "print(\"Test accuracy: {}\".format(rf.accuracy_test[max_pos]))"
   ]
  },
  {
   "cell_type": "markdown",
   "metadata": {},
   "source": [
    "### Support Vector Machine"
   ]
  },
  {
   "cell_type": "code",
   "execution_count": 230,
   "metadata": {},
   "outputs": [
    {
     "name": "stdout",
     "output_type": "stream",
     "text": [
      ".5 linear\n",
      ".10 linear\n",
      ".20 linear\n",
      ".5 rbf\n"
     ]
    },
    {
     "name": "stderr",
     "output_type": "stream",
     "text": [
      "/anaconda2/envs/py36/lib/python3.6/site-packages/sklearn/svm/base.py:196: FutureWarning: The default value of gamma will change from 'auto' to 'scale' in version 0.22 to account better for unscaled features. Set gamma explicitly to 'auto' or 'scale' to avoid this warning.\n",
      "  \"avoid this warning.\", FutureWarning)\n",
      "/anaconda2/envs/py36/lib/python3.6/site-packages/sklearn/svm/base.py:196: FutureWarning: The default value of gamma will change from 'auto' to 'scale' in version 0.22 to account better for unscaled features. Set gamma explicitly to 'auto' or 'scale' to avoid this warning.\n",
      "  \"avoid this warning.\", FutureWarning)\n"
     ]
    },
    {
     "name": "stdout",
     "output_type": "stream",
     "text": [
      ".10 rbf\n",
      ".20 rbf\n"
     ]
    },
    {
     "name": "stderr",
     "output_type": "stream",
     "text": [
      "/anaconda2/envs/py36/lib/python3.6/site-packages/sklearn/svm/base.py:196: FutureWarning: The default value of gamma will change from 'auto' to 'scale' in version 0.22 to account better for unscaled features. Set gamma explicitly to 'auto' or 'scale' to avoid this warning.\n",
      "  \"avoid this warning.\", FutureWarning)\n",
      "/anaconda2/envs/py36/lib/python3.6/site-packages/sklearn/svm/base.py:196: FutureWarning: The default value of gamma will change from 'auto' to 'scale' in version 0.22 to account better for unscaled features. Set gamma explicitly to 'auto' or 'scale' to avoid this warning.\n",
      "  \"avoid this warning.\", FutureWarning)\n"
     ]
    },
    {
     "name": "stdout",
     "output_type": "stream",
     "text": [
      ".5 sigmoid\n"
     ]
    },
    {
     "name": "stderr",
     "output_type": "stream",
     "text": [
      "/anaconda2/envs/py36/lib/python3.6/site-packages/sklearn/svm/base.py:196: FutureWarning: The default value of gamma will change from 'auto' to 'scale' in version 0.22 to account better for unscaled features. Set gamma explicitly to 'auto' or 'scale' to avoid this warning.\n",
      "  \"avoid this warning.\", FutureWarning)\n"
     ]
    },
    {
     "name": "stdout",
     "output_type": "stream",
     "text": [
      ".10 sigmoid\n"
     ]
    },
    {
     "name": "stderr",
     "output_type": "stream",
     "text": [
      "/anaconda2/envs/py36/lib/python3.6/site-packages/sklearn/svm/base.py:196: FutureWarning: The default value of gamma will change from 'auto' to 'scale' in version 0.22 to account better for unscaled features. Set gamma explicitly to 'auto' or 'scale' to avoid this warning.\n",
      "  \"avoid this warning.\", FutureWarning)\n"
     ]
    },
    {
     "name": "stdout",
     "output_type": "stream",
     "text": [
      ".20 sigmoid\n"
     ]
    },
    {
     "name": "stderr",
     "output_type": "stream",
     "text": [
      "/anaconda2/envs/py36/lib/python3.6/site-packages/sklearn/svm/base.py:196: FutureWarning: The default value of gamma will change from 'auto' to 'scale' in version 0.22 to account better for unscaled features. Set gamma explicitly to 'auto' or 'scale' to avoid this warning.\n",
      "  \"avoid this warning.\", FutureWarning)\n"
     ]
    },
    {
     "name": "stdout",
     "output_type": "stream",
     "text": [
      ".5 rbf\n"
     ]
    },
    {
     "name": "stderr",
     "output_type": "stream",
     "text": [
      "/anaconda2/envs/py36/lib/python3.6/site-packages/sklearn/svm/base.py:196: FutureWarning: The default value of gamma will change from 'auto' to 'scale' in version 0.22 to account better for unscaled features. Set gamma explicitly to 'auto' or 'scale' to avoid this warning.\n",
      "  \"avoid this warning.\", FutureWarning)\n"
     ]
    },
    {
     "name": "stdout",
     "output_type": "stream",
     "text": [
      ".10 rbf\n"
     ]
    },
    {
     "name": "stderr",
     "output_type": "stream",
     "text": [
      "/anaconda2/envs/py36/lib/python3.6/site-packages/sklearn/svm/base.py:196: FutureWarning: The default value of gamma will change from 'auto' to 'scale' in version 0.22 to account better for unscaled features. Set gamma explicitly to 'auto' or 'scale' to avoid this warning.\n",
      "  \"avoid this warning.\", FutureWarning)\n"
     ]
    },
    {
     "name": "stdout",
     "output_type": "stream",
     "text": [
      ".20 rbf\n"
     ]
    }
   ],
   "source": [
    "from sklearn.svm import SVC\n",
    "\n",
    "accuracy_train = []\n",
    "accuracy_test = []\n",
    "classifier = []\n",
    "\n",
    "for k in ['linear', 'rbf', 'sigmoid', 'rbf']:\n",
    "    for c in [5, 10, 20]:\n",
    "        SVM = SVC(C=c, kernel=k, random_state=42)\n",
    "        fit_predict(SVM)\n",
    "        print(c, k)"
   ]
  },
  {
   "cell_type": "code",
   "execution_count": 231,
   "metadata": {},
   "outputs": [
    {
     "data": {
      "text/html": [
       "<div>\n",
       "<style scoped>\n",
       "    .dataframe tbody tr th:only-of-type {\n",
       "        vertical-align: middle;\n",
       "    }\n",
       "\n",
       "    .dataframe tbody tr th {\n",
       "        vertical-align: top;\n",
       "    }\n",
       "\n",
       "    .dataframe thead th {\n",
       "        text-align: right;\n",
       "    }\n",
       "</style>\n",
       "<table border=\"1\" class=\"dataframe\">\n",
       "  <thead>\n",
       "    <tr style=\"text-align: right;\">\n",
       "      <th></th>\n",
       "      <th>accuracy_train</th>\n",
       "      <th>accuracy_test</th>\n",
       "      <th>classifier</th>\n",
       "    </tr>\n",
       "  </thead>\n",
       "  <tbody>\n",
       "    <tr>\n",
       "      <th>0</th>\n",
       "      <td>0.485000</td>\n",
       "      <td>0.368771</td>\n",
       "      <td>SVC(C=5, cache_size=200, class_weight=None, co...</td>\n",
       "    </tr>\n",
       "    <tr>\n",
       "      <th>1</th>\n",
       "      <td>0.499167</td>\n",
       "      <td>0.388704</td>\n",
       "      <td>SVC(C=10, cache_size=200, class_weight=None, c...</td>\n",
       "    </tr>\n",
       "    <tr>\n",
       "      <th>2</th>\n",
       "      <td>0.516667</td>\n",
       "      <td>0.408638</td>\n",
       "      <td>SVC(C=20, cache_size=200, class_weight=None, c...</td>\n",
       "    </tr>\n",
       "    <tr>\n",
       "      <th>3</th>\n",
       "      <td>0.336667</td>\n",
       "      <td>0.342193</td>\n",
       "      <td>SVC(C=5, cache_size=200, class_weight=None, co...</td>\n",
       "    </tr>\n",
       "    <tr>\n",
       "      <th>4</th>\n",
       "      <td>0.398333</td>\n",
       "      <td>0.348837</td>\n",
       "      <td>SVC(C=10, cache_size=200, class_weight=None, c...</td>\n",
       "    </tr>\n",
       "  </tbody>\n",
       "</table>\n",
       "</div>"
      ],
      "text/plain": [
       "   accuracy_train  accuracy_test  \\\n",
       "0        0.485000       0.368771   \n",
       "1        0.499167       0.388704   \n",
       "2        0.516667       0.408638   \n",
       "3        0.336667       0.342193   \n",
       "4        0.398333       0.348837   \n",
       "\n",
       "                                          classifier  \n",
       "0  SVC(C=5, cache_size=200, class_weight=None, co...  \n",
       "1  SVC(C=10, cache_size=200, class_weight=None, c...  \n",
       "2  SVC(C=20, cache_size=200, class_weight=None, c...  \n",
       "3  SVC(C=5, cache_size=200, class_weight=None, co...  \n",
       "4  SVC(C=10, cache_size=200, class_weight=None, c...  "
      ]
     },
     "execution_count": 231,
     "metadata": {},
     "output_type": "execute_result"
    }
   ],
   "source": [
    "svm = pd.DataFrame({\n",
    "    \"accuracy_train\": accuracy_train,\n",
    "    \"accuracy_test\": accuracy_test,\n",
    "    \"classifier\": classifier})\n",
    "svm.head()"
   ]
  },
  {
   "cell_type": "code",
   "execution_count": 232,
   "metadata": {},
   "outputs": [
    {
     "data": {
      "text/html": [
       "<div>\n",
       "<style scoped>\n",
       "    .dataframe tbody tr th:only-of-type {\n",
       "        vertical-align: middle;\n",
       "    }\n",
       "\n",
       "    .dataframe tbody tr th {\n",
       "        vertical-align: top;\n",
       "    }\n",
       "\n",
       "    .dataframe thead th {\n",
       "        text-align: right;\n",
       "    }\n",
       "</style>\n",
       "<table border=\"1\" class=\"dataframe\">\n",
       "  <thead>\n",
       "    <tr style=\"text-align: right;\">\n",
       "      <th></th>\n",
       "      <th>pred</th>\n",
       "      <th>actual</th>\n",
       "    </tr>\n",
       "  </thead>\n",
       "  <tbody>\n",
       "    <tr>\n",
       "      <th>0</th>\n",
       "      <td>17.0</td>\n",
       "      <td>4.0</td>\n",
       "    </tr>\n",
       "    <tr>\n",
       "      <th>1</th>\n",
       "      <td>13.0</td>\n",
       "      <td>4.0</td>\n",
       "    </tr>\n",
       "    <tr>\n",
       "      <th>2</th>\n",
       "      <td>12.0</td>\n",
       "      <td>4.0</td>\n",
       "    </tr>\n",
       "    <tr>\n",
       "      <th>3</th>\n",
       "      <td>8.0</td>\n",
       "      <td>4.0</td>\n",
       "    </tr>\n",
       "    <tr>\n",
       "      <th>4</th>\n",
       "      <td>4.0</td>\n",
       "      <td>4.0</td>\n",
       "    </tr>\n",
       "  </tbody>\n",
       "</table>\n",
       "</div>"
      ],
      "text/plain": [
       "   pred  actual\n",
       "0  17.0     4.0\n",
       "1  13.0     4.0\n",
       "2  12.0     4.0\n",
       "3   8.0     4.0\n",
       "4   4.0     4.0"
      ]
     },
     "execution_count": 232,
     "metadata": {},
     "output_type": "execute_result"
    }
   ],
   "source": [
    "for i in range(len(classifier)):\n",
    "    svm_y_predict = pd.DataFrame({\n",
    "        \"pred\": y_predict_test[i],\n",
    "        \"actual\": y_test.iloc[i]})\n",
    "    svm_y_predict.to_hdf(\"NB3_df/svm_y_predict\" + \"_c\" + str(i + 1) + \".h5\", \"data\", mode=\"w\")\n",
    "svm_y_predict.head()"
   ]
  },
  {
   "cell_type": "code",
   "execution_count": 233,
   "metadata": {},
   "outputs": [
    {
     "data": {
      "image/png": "[encoded data removed]",
      "text/plain": [
       "<Figure size 720x576 with 1 Axes>"
      ]
     },
     "metadata": {
      "needs_background": "light"
     },
     "output_type": "display_data"
    },
    {
     "data": {
      "image/png": "[encoded data removed]",
      "text/plain": [
       "<Figure size 720x576 with 1 Axes>"
      ]
     },
     "metadata": {
      "needs_background": "light"
     },
     "output_type": "display_data"
    }
   ],
   "source": [
    "plt.figure(figsize=(10, 8))\n",
    "plt.bar(np.arange(len(svm)) - 0.2, svm.accuracy_train, width=0.4, align='center')\n",
    "plt.bar(np.arange(len(svm)) + 0.2, svm.accuracy_test, width=0.4, align='center')\n",
    "\n",
    "plt.title(\"SVM\")\n",
    "plt.ylabel(\"Model\")\n",
    "plt.ylabel(\"Accuracy\")\n",
    "plt.ylim(0, 1)\n",
    "plt.legend([\"train\", \"test\"])\n",
    "plt.savefig(\"SVM1.jpg\")\n",
    "\n",
    "plt.figure(figsize=(10, 8))\n",
    "plt.plot(np.arange(len(svm)), svm.accuracy_train)\n",
    "plt.plot(np.arange(len(svm)), svm.accuracy_test)\n",
    "plt.title(\"SVM\")\n",
    "plt.xlabel(\"Model\")\n",
    "plt.ylabel(\"Accuracy\")\n",
    "plt.ylim(0, 1)\n",
    "plt.legend([\"train\", \"test\"])\n",
    "plt.savefig(\"SVM2.jpg\")"
   ]
  },
  {
   "cell_type": "code",
   "execution_count": 234,
   "metadata": {},
   "outputs": [
    {
     "name": "stdout",
     "output_type": "stream",
     "text": [
      "Best accuracy on test: SVC(C=20, cache_size=200, class_weight=None, coef0=0.0,\n",
      "  decision_function_shape='ovr', degree=3, gamma='auto_deprecated',\n",
      "  kernel='linear', max_iter=-1, probability=False, random_state=42,\n",
      "  shrinking=True, tol=0.001, verbose=False)\n",
      "Train accuracy: 0.5166666666666667\n",
      "Test accuracy: 0.40863787375415284\n"
     ]
    }
   ],
   "source": [
    "max_pos = np.argmax(svm.accuracy_test.values)\n",
    "print(\"Best accuracy on test: {}\".format(svm.classifier[max_pos]))\n",
    "print(\"Train accuracy: {}\".format(svm.accuracy_train[max_pos]))\n",
    "print(\"Test accuracy: {}\".format(svm.accuracy_test[max_pos]))"
   ]
  },
  {
   "cell_type": "code",
   "execution_count": null,
   "metadata": {},
   "outputs": [],
   "source": []
  },
  {
   "cell_type": "code",
   "execution_count": null,
   "metadata": {},
   "outputs": [],
   "source": []
  }
 ],
 "metadata": {
  "kernelspec": {
   "display_name": "Python 3",
   "language": "python",
   "name": "python3"
  },
  "language_info": {
   "codemirror_mode": {
    "name": "ipython",
    "version": 3
   },
   "file_extension": ".py",
   "mimetype": "text/x-python",
   "name": "python",
   "nbconvert_exporter": "python",
   "pygments_lexer": "ipython3",
   "version": "3.6.8"
  }
 },
 "nbformat": 4,
 "nbformat_minor": 2
}

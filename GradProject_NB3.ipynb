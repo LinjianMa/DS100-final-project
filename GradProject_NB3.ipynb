{
 "cells": [
  {
   "cell_type": "markdown",
   "metadata": {},
   "source": [
    "\n",
    "<h1> DS200A Computer Vision Assignment</h1>"
   ]
  },
  {
   "cell_type": "markdown",
   "metadata": {},
   "source": [
    "<h2>  Part Three: Classifier training and performance assessment. </h2>\t"
   ]
  },
  {
   "cell_type": "code",
   "execution_count": 1,
   "metadata": {},
   "outputs": [],
   "source": [
    "import numpy as np\n",
    "import pandas as pd\n",
    "import matplotlib.pyplot as plt\n",
    "import seaborn as sns\n",
    "import sklearn\n",
    "from sklearn.model_selection import train_test_split\n",
    "from sklearn.metrics import accuracy_score\n",
    "import os\n",
    "%matplotlib inline"
   ]
  },
  {
   "cell_type": "markdown",
   "metadata": {},
   "source": [
    "#### Util functions"
   ]
  },
  {
   "cell_type": "code",
   "execution_count": 2,
   "metadata": {},
   "outputs": [],
   "source": [
    "def df_train_test_split(df, index = 0):\n",
    "    '''\n",
    "    Split the data into a training set, and test set \n",
    "    '''\n",
    "    y = df.iloc[:,0]\n",
    "    X = df.iloc[:,1:]\n",
    "    length = len(df)/5\n",
    "#     X_train, X_test, y_train, y_test = train_test_split(X, y, test_size=0.2, shuffle=True, random_state=62)\n",
    "    index1 = int(index*length)\n",
    "    index2 = int((index+1)*length)\n",
    "    X_train1 = X[:index1]\n",
    "    X_train2 = X[index2:]\n",
    "    X_test = X[index1:index2]\n",
    "    X_train = X_train1.append(X_train2, ignore_index=True)\n",
    "    y_train1 = y[:index1]\n",
    "    y_train2 = y[index2:]\n",
    "    y_test = y[index1:index2]\n",
    "    y_train = y_train1.append(y_train2, ignore_index=True)\n",
    "    return X_train, X_test, y_train, y_test\n",
    "\n",
    "def accuracy(pred, actual):\n",
    "    '''\n",
    "    Calculate the accuracy percentage of the predicted values\n",
    "    '''\n",
    "    return accuracy_score(pred, actual)\n",
    "\n",
    "def fit_predict(model):\n",
    "    '''\n",
    "    Fit the model and calculate the accuracy on both training and test set    \n",
    "    '''\n",
    "    y_predict_on_train = []\n",
    "    y_predict_on_test = []\n",
    "    accuracy_on_train = []\n",
    "    accuracy_on_test = []\n",
    "    for index in [0,1,2,3,4]:\n",
    "        X_train, X_test, y_train, y_test = df_train_test_split(feature,index)\n",
    "        X_train = flatten(X_train)\n",
    "        X_test = flatten(X_test)\n",
    "        model.fit(X_train, y_train)\n",
    "        y_predict_on_train.append(model.predict(X_train))\n",
    "        y_predict_on_test.append(model.predict(X_test))\n",
    "        accuracy_on_train.append(accuracy(y_predict_on_train[index], y_train))\n",
    "        accuracy_on_test.append(accuracy(y_predict_on_test[index], y_test))\n",
    "    \n",
    "#     y_predict_train.append(np.array(y_predict_on_train).mean())\n",
    "#     y_predict_test.append(np.array(y_predict_on_test).mean())\n",
    "    accuracy_train.append(np.array(accuracy_on_train).mean())\n",
    "    accuracy_test.append(np.array(accuracy_on_test).mean())\n",
    "    classifier.append(model)\n",
    "    \n",
    "    print(\".\", end=\"\")\n",
    "\n",
    "def flatten(X):\n",
    "    '''\n",
    "    flatten the elements in X which is an array    \n",
    "    '''\n",
    "    X = np.array(X)\n",
    "    X_flatten = []\n",
    "    for i in range(len(X)):\n",
    "        list_ = np.append(X[i][:-2], X[i][-2]) # flatten the svd array\n",
    "        list_ = np.append(list_, X[i][-1]) # flatten the canny_svd array        \n",
    "        X_flatten.append(list_)\n",
    "    return np.array(X_flatten)\n",
    "\n",
    "def print_best_model(model):\n",
    "    '''\n",
    "    print the statistics related to the best chosen model\n",
    "    '''\n",
    "    max_pos = np.argmax(model.accuracy_test.values)\n",
    "    print(\"Best hyperparameter in the model is {}\".format(model.classifier[max_pos]))\n",
    "    print(\"Train accuracy: {}\".format(model.accuracy_train[max_pos]))\n",
    "    print(\"Test accuracy: {}\".format(model.accuracy_test[max_pos]))\n",
    "    \n",
    "def bar_plot(model, title=\"Logistic Regression\", filename=\"Logistic\", ymax=0.5):\n",
    "    '''\n",
    "    bar plot to compare different hyperparameters in a model\n",
    "    '''\n",
    "    try:\n",
    "        os.stat(\"NB3_graph\")\n",
    "    except:\n",
    "        os.mkdir(\"NB3_graph\")  \n",
    "\n",
    "    plt.figure(figsize=(10, 10))\n",
    "    plt.bar(np.arange(len(model)) - 0.2, model.accuracy_train, width=0.4, align='center')\n",
    "    plt.bar(np.arange(len(model)) + 0.2, model.accuracy_test, width=0.4, align='center')\n",
    "    plt.xticks(range(len(parameters)), parameters, rotation='vertical')\n",
    "    plt.tight_layout()\n",
    "    plt.title(title)\n",
    "    plt.xlabel(\"Model\")\n",
    "    plt.ylabel(\"Accuracy\")\n",
    "    plt.ylim(0, ymax)\n",
    "    plt.legend([\"train\", \"validation\"])\n",
    "    plt.savefig(\"NB3_graph/\"+filename+\".pdf\")"
   ]
  },
  {
   "cell_type": "markdown",
   "metadata": {},
   "source": [
    "#### Load the data from nb2"
   ]
  },
  {
   "cell_type": "code",
   "execution_count": 3,
   "metadata": {
    "scrolled": false
   },
   "outputs": [
    {
     "name": "stdout",
     "output_type": "stream",
     "text": [
      "feature (1501, 24)\n"
     ]
    },
    {
     "data": {
      "text/html": [
       "<div>\n",
       "<style scoped>\n",
       "    .dataframe tbody tr th:only-of-type {\n",
       "        vertical-align: middle;\n",
       "    }\n",
       "\n",
       "    .dataframe tbody tr th {\n",
       "        vertical-align: top;\n",
       "    }\n",
       "\n",
       "    .dataframe thead th {\n",
       "        text-align: right;\n",
       "    }\n",
       "</style>\n",
       "<table border=\"1\" class=\"dataframe\">\n",
       "  <thead>\n",
       "    <tr style=\"text-align: right;\">\n",
       "      <th></th>\n",
       "      <th>Encoding</th>\n",
       "      <th>size</th>\n",
       "      <th>avg_red</th>\n",
       "      <th>avg_green</th>\n",
       "      <th>avg_blue</th>\n",
       "      <th>avg_gray</th>\n",
       "      <th>std_red</th>\n",
       "      <th>std_green</th>\n",
       "      <th>std_blue</th>\n",
       "      <th>std_grey</th>\n",
       "      <th>...</th>\n",
       "      <th>avg_y</th>\n",
       "      <th>avg_cb</th>\n",
       "      <th>avg_cr</th>\n",
       "      <th>std_y</th>\n",
       "      <th>std_cb</th>\n",
       "      <th>std_cr</th>\n",
       "      <th>avg_hog</th>\n",
       "      <th>std_hog</th>\n",
       "      <th>svd</th>\n",
       "      <th>canny_svd</th>\n",
       "    </tr>\n",
       "  </thead>\n",
       "  <tbody>\n",
       "    <tr>\n",
       "      <th>0</th>\n",
       "      <td>0.0</td>\n",
       "      <td>0.195816</td>\n",
       "      <td>0.719042</td>\n",
       "      <td>0.693139</td>\n",
       "      <td>0.584908</td>\n",
       "      <td>0.794578</td>\n",
       "      <td>0.221203</td>\n",
       "      <td>0.251137</td>\n",
       "      <td>0.312346</td>\n",
       "      <td>0.354078</td>\n",
       "      <td>...</td>\n",
       "      <td>0.654084</td>\n",
       "      <td>0.450585</td>\n",
       "      <td>0.521069</td>\n",
       "      <td>0.209788</td>\n",
       "      <td>0.057982</td>\n",
       "      <td>0.042520</td>\n",
       "      <td>0.069350</td>\n",
       "      <td>0.086811</td>\n",
       "      <td>[-0.9411725618842666, 0.008966214811940402, -0...</td>\n",
       "      <td>[-4.131265285862971e-06, -2.5885726321449823e-07]</td>\n",
       "    </tr>\n",
       "    <tr>\n",
       "      <th>1</th>\n",
       "      <td>0.0</td>\n",
       "      <td>0.221352</td>\n",
       "      <td>0.826431</td>\n",
       "      <td>0.742275</td>\n",
       "      <td>0.646295</td>\n",
       "      <td>0.920591</td>\n",
       "      <td>0.216836</td>\n",
       "      <td>0.292104</td>\n",
       "      <td>0.276149</td>\n",
       "      <td>0.315872</td>\n",
       "      <td>...</td>\n",
       "      <td>0.712441</td>\n",
       "      <td>0.447331</td>\n",
       "      <td>0.545779</td>\n",
       "      <td>0.222930</td>\n",
       "      <td>0.024625</td>\n",
       "      <td>0.069641</td>\n",
       "      <td>0.074722</td>\n",
       "      <td>0.082233</td>\n",
       "      <td>[-0.9452094848143205, -0.1284002312458272, -0....</td>\n",
       "      <td>[-4.131265285862971e-06, -2.5885726321449823e-07]</td>\n",
       "    </tr>\n",
       "    <tr>\n",
       "      <th>2</th>\n",
       "      <td>0.0</td>\n",
       "      <td>0.194535</td>\n",
       "      <td>0.667152</td>\n",
       "      <td>0.579563</td>\n",
       "      <td>0.438250</td>\n",
       "      <td>0.696626</td>\n",
       "      <td>0.252515</td>\n",
       "      <td>0.267002</td>\n",
       "      <td>0.352605</td>\n",
       "      <td>0.448270</td>\n",
       "      <td>...</td>\n",
       "      <td>0.569144</td>\n",
       "      <td>0.426911</td>\n",
       "      <td>0.550525</td>\n",
       "      <td>0.219960</td>\n",
       "      <td>0.101463</td>\n",
       "      <td>0.074436</td>\n",
       "      <td>0.068713</td>\n",
       "      <td>0.085799</td>\n",
       "      <td>[-0.9194251189689553, -0.04598015488281377, 0....</td>\n",
       "      <td>[-4.131265285862971e-06, -2.5885726321449823e-07]</td>\n",
       "    </tr>\n",
       "    <tr>\n",
       "      <th>3</th>\n",
       "      <td>0.0</td>\n",
       "      <td>0.200430</td>\n",
       "      <td>0.596705</td>\n",
       "      <td>0.520189</td>\n",
       "      <td>0.305558</td>\n",
       "      <td>0.672473</td>\n",
       "      <td>0.253041</td>\n",
       "      <td>0.246156</td>\n",
       "      <td>0.327109</td>\n",
       "      <td>0.379313</td>\n",
       "      <td>...</td>\n",
       "      <td>0.508131</td>\n",
       "      <td>0.396350</td>\n",
       "      <td>0.550898</td>\n",
       "      <td>0.210079</td>\n",
       "      <td>0.088122</td>\n",
       "      <td>0.061079</td>\n",
       "      <td>0.074841</td>\n",
       "      <td>0.080767</td>\n",
       "      <td>[-0.8658767978779213, 0.005307098609816353, 0....</td>\n",
       "      <td>[0.017231397222499324, -0.012404929949506977]</td>\n",
       "    </tr>\n",
       "    <tr>\n",
       "      <th>4</th>\n",
       "      <td>0.0</td>\n",
       "      <td>0.208560</td>\n",
       "      <td>0.578031</td>\n",
       "      <td>0.590215</td>\n",
       "      <td>0.338247</td>\n",
       "      <td>0.624215</td>\n",
       "      <td>0.289629</td>\n",
       "      <td>0.279945</td>\n",
       "      <td>0.370162</td>\n",
       "      <td>0.447237</td>\n",
       "      <td>...</td>\n",
       "      <td>0.541838</td>\n",
       "      <td>0.393098</td>\n",
       "      <td>0.514607</td>\n",
       "      <td>0.243142</td>\n",
       "      <td>0.105869</td>\n",
       "      <td>0.027735</td>\n",
       "      <td>0.069497</td>\n",
       "      <td>0.086694</td>\n",
       "      <td>[-0.887418659157311, 0.015802314068069624, 0.1...</td>\n",
       "      <td>[-4.131265285862971e-06, -2.5885726321449823e-07]</td>\n",
       "    </tr>\n",
       "  </tbody>\n",
       "</table>\n",
       "<p>5 rows × 23 columns</p>\n",
       "</div>"
      ],
      "text/plain": [
       "   Encoding      size   avg_red  avg_green  avg_blue  avg_gray   std_red  \\\n",
       "0       0.0  0.195816  0.719042   0.693139  0.584908  0.794578  0.221203   \n",
       "1       0.0  0.221352  0.826431   0.742275  0.646295  0.920591  0.216836   \n",
       "2       0.0  0.194535  0.667152   0.579563  0.438250  0.696626  0.252515   \n",
       "3       0.0  0.200430  0.596705   0.520189  0.305558  0.672473  0.253041   \n",
       "4       0.0  0.208560  0.578031   0.590215  0.338247  0.624215  0.289629   \n",
       "\n",
       "   std_green  std_blue  std_grey  ...     avg_y    avg_cb    avg_cr     std_y  \\\n",
       "0   0.251137  0.312346  0.354078  ...  0.654084  0.450585  0.521069  0.209788   \n",
       "1   0.292104  0.276149  0.315872  ...  0.712441  0.447331  0.545779  0.222930   \n",
       "2   0.267002  0.352605  0.448270  ...  0.569144  0.426911  0.550525  0.219960   \n",
       "3   0.246156  0.327109  0.379313  ...  0.508131  0.396350  0.550898  0.210079   \n",
       "4   0.279945  0.370162  0.447237  ...  0.541838  0.393098  0.514607  0.243142   \n",
       "\n",
       "     std_cb    std_cr   avg_hog   std_hog  \\\n",
       "0  0.057982  0.042520  0.069350  0.086811   \n",
       "1  0.024625  0.069641  0.074722  0.082233   \n",
       "2  0.101463  0.074436  0.068713  0.085799   \n",
       "3  0.088122  0.061079  0.074841  0.080767   \n",
       "4  0.105869  0.027735  0.069497  0.086694   \n",
       "\n",
       "                                                 svd  \\\n",
       "0  [-0.9411725618842666, 0.008966214811940402, -0...   \n",
       "1  [-0.9452094848143205, -0.1284002312458272, -0....   \n",
       "2  [-0.9194251189689553, -0.04598015488281377, 0....   \n",
       "3  [-0.8658767978779213, 0.005307098609816353, 0....   \n",
       "4  [-0.887418659157311, 0.015802314068069624, 0.1...   \n",
       "\n",
       "                                           canny_svd  \n",
       "0  [-4.131265285862971e-06, -2.5885726321449823e-07]  \n",
       "1  [-4.131265285862971e-06, -2.5885726321449823e-07]  \n",
       "2  [-4.131265285862971e-06, -2.5885726321449823e-07]  \n",
       "3      [0.017231397222499324, -0.012404929949506977]  \n",
       "4  [-4.131265285862971e-06, -2.5885726321449823e-07]  \n",
       "\n",
       "[5 rows x 23 columns]"
      ]
     },
     "execution_count": 3,
     "metadata": {},
     "output_type": "execute_result"
    }
   ],
   "source": [
    "feature = pd.read_hdf(\"feature.h5\", \"data\")\n",
    "print(\"feature\", feature.shape)\n",
    "del feature[\"Pictures\"]\n",
    "feature.head()"
   ]
  },
  {
   "cell_type": "code",
   "execution_count": 4,
   "metadata": {},
   "outputs": [
    {
     "data": {
      "text/html": [
       "<div>\n",
       "<style scoped>\n",
       "    .dataframe tbody tr th:only-of-type {\n",
       "        vertical-align: middle;\n",
       "    }\n",
       "\n",
       "    .dataframe tbody tr th {\n",
       "        vertical-align: top;\n",
       "    }\n",
       "\n",
       "    .dataframe thead th {\n",
       "        text-align: right;\n",
       "    }\n",
       "</style>\n",
       "<table border=\"1\" class=\"dataframe\">\n",
       "  <thead>\n",
       "    <tr style=\"text-align: right;\">\n",
       "      <th></th>\n",
       "      <th>Encoding</th>\n",
       "      <th>size</th>\n",
       "      <th>avg_red</th>\n",
       "      <th>avg_green</th>\n",
       "      <th>avg_blue</th>\n",
       "      <th>avg_gray</th>\n",
       "      <th>std_red</th>\n",
       "      <th>std_green</th>\n",
       "      <th>std_blue</th>\n",
       "      <th>std_grey</th>\n",
       "      <th>...</th>\n",
       "      <th>avg_y</th>\n",
       "      <th>avg_cb</th>\n",
       "      <th>avg_cr</th>\n",
       "      <th>std_y</th>\n",
       "      <th>std_cb</th>\n",
       "      <th>std_cr</th>\n",
       "      <th>avg_hog</th>\n",
       "      <th>std_hog</th>\n",
       "      <th>svd</th>\n",
       "      <th>canny_svd</th>\n",
       "    </tr>\n",
       "  </thead>\n",
       "  <tbody>\n",
       "    <tr>\n",
       "      <th>1025</th>\n",
       "      <td>13.0</td>\n",
       "      <td>0.554592</td>\n",
       "      <td>0.410480</td>\n",
       "      <td>0.297470</td>\n",
       "      <td>0.222311</td>\n",
       "      <td>0.560958</td>\n",
       "      <td>0.219715</td>\n",
       "      <td>0.215602</td>\n",
       "      <td>0.211434</td>\n",
       "      <td>0.321593</td>\n",
       "      <td>...</td>\n",
       "      <td>0.339881</td>\n",
       "      <td>0.452199</td>\n",
       "      <td>0.556965</td>\n",
       "      <td>0.182864</td>\n",
       "      <td>0.027567</td>\n",
       "      <td>0.032708</td>\n",
       "      <td>0.091272</td>\n",
       "      <td>0.063365</td>\n",
       "      <td>[-0.7370834298303202, -0.29136326638255444, -0...</td>\n",
       "      <td>[0.08180485687111783, -0.0009498508033391629]</td>\n",
       "    </tr>\n",
       "    <tr>\n",
       "      <th>29</th>\n",
       "      <td>0.0</td>\n",
       "      <td>0.220473</td>\n",
       "      <td>0.547048</td>\n",
       "      <td>0.496838</td>\n",
       "      <td>0.456407</td>\n",
       "      <td>0.736538</td>\n",
       "      <td>0.366593</td>\n",
       "      <td>0.363409</td>\n",
       "      <td>0.361135</td>\n",
       "      <td>0.404482</td>\n",
       "      <td>...</td>\n",
       "      <td>0.498376</td>\n",
       "      <td>0.476761</td>\n",
       "      <td>0.526902</td>\n",
       "      <td>0.308871</td>\n",
       "      <td>0.053712</td>\n",
       "      <td>0.046490</td>\n",
       "      <td>0.062914</td>\n",
       "      <td>0.091447</td>\n",
       "      <td>[-0.8927528332053952, 0.19386869110457242, 0.0...</td>\n",
       "      <td>[-4.131265285862971e-06, -2.5885726321449823e-07]</td>\n",
       "    </tr>\n",
       "    <tr>\n",
       "      <th>131</th>\n",
       "      <td>1.0</td>\n",
       "      <td>0.137400</td>\n",
       "      <td>0.681944</td>\n",
       "      <td>0.612785</td>\n",
       "      <td>0.557543</td>\n",
       "      <td>0.807795</td>\n",
       "      <td>0.262595</td>\n",
       "      <td>0.313105</td>\n",
       "      <td>0.324413</td>\n",
       "      <td>0.374458</td>\n",
       "      <td>...</td>\n",
       "      <td>0.601370</td>\n",
       "      <td>0.467447</td>\n",
       "      <td>0.536282</td>\n",
       "      <td>0.254372</td>\n",
       "      <td>0.034486</td>\n",
       "      <td>0.042775</td>\n",
       "      <td>0.076449</td>\n",
       "      <td>0.080631</td>\n",
       "      <td>[-0.9499039089699307, -0.006068736517266654, 0...</td>\n",
       "      <td>[-4.131265285862971e-06, -2.5885726321449823e-07]</td>\n",
       "    </tr>\n",
       "    <tr>\n",
       "      <th>166</th>\n",
       "      <td>2.0</td>\n",
       "      <td>0.293664</td>\n",
       "      <td>0.649271</td>\n",
       "      <td>0.615258</td>\n",
       "      <td>0.594175</td>\n",
       "      <td>0.758423</td>\n",
       "      <td>0.240670</td>\n",
       "      <td>0.296588</td>\n",
       "      <td>0.314953</td>\n",
       "      <td>0.363055</td>\n",
       "      <td>...</td>\n",
       "      <td>0.597813</td>\n",
       "      <td>0.487659</td>\n",
       "      <td>0.518406</td>\n",
       "      <td>0.238314</td>\n",
       "      <td>0.037476</td>\n",
       "      <td>0.051397</td>\n",
       "      <td>0.065004</td>\n",
       "      <td>0.090112</td>\n",
       "      <td>[-0.9299179662359958, -0.024287595732705846, -...</td>\n",
       "      <td>[0.007863110575450673, 0.01079281207613487]</td>\n",
       "    </tr>\n",
       "    <tr>\n",
       "      <th>681</th>\n",
       "      <td>9.0</td>\n",
       "      <td>0.478500</td>\n",
       "      <td>0.535181</td>\n",
       "      <td>0.561528</td>\n",
       "      <td>0.523975</td>\n",
       "      <td>0.775065</td>\n",
       "      <td>0.346446</td>\n",
       "      <td>0.329154</td>\n",
       "      <td>0.340405</td>\n",
       "      <td>0.402171</td>\n",
       "      <td>...</td>\n",
       "      <td>0.534556</td>\n",
       "      <td>0.489372</td>\n",
       "      <td>0.493071</td>\n",
       "      <td>0.287838</td>\n",
       "      <td>0.015731</td>\n",
       "      <td>0.015659</td>\n",
       "      <td>0.078750</td>\n",
       "      <td>0.077060</td>\n",
       "      <td>[-0.9301188835992629, 0.13802803893518037, 0.0...</td>\n",
       "      <td>[0.023358835814475117, 0.013605456674373483]</td>\n",
       "    </tr>\n",
       "  </tbody>\n",
       "</table>\n",
       "<p>5 rows × 23 columns</p>\n",
       "</div>"
      ],
      "text/plain": [
       "      Encoding      size   avg_red  avg_green  avg_blue  avg_gray   std_red  \\\n",
       "1025      13.0  0.554592  0.410480   0.297470  0.222311  0.560958  0.219715   \n",
       "29         0.0  0.220473  0.547048   0.496838  0.456407  0.736538  0.366593   \n",
       "131        1.0  0.137400  0.681944   0.612785  0.557543  0.807795  0.262595   \n",
       "166        2.0  0.293664  0.649271   0.615258  0.594175  0.758423  0.240670   \n",
       "681        9.0  0.478500  0.535181   0.561528  0.523975  0.775065  0.346446   \n",
       "\n",
       "      std_green  std_blue  std_grey  ...     avg_y    avg_cb    avg_cr  \\\n",
       "1025   0.215602  0.211434  0.321593  ...  0.339881  0.452199  0.556965   \n",
       "29     0.363409  0.361135  0.404482  ...  0.498376  0.476761  0.526902   \n",
       "131    0.313105  0.324413  0.374458  ...  0.601370  0.467447  0.536282   \n",
       "166    0.296588  0.314953  0.363055  ...  0.597813  0.487659  0.518406   \n",
       "681    0.329154  0.340405  0.402171  ...  0.534556  0.489372  0.493071   \n",
       "\n",
       "         std_y    std_cb    std_cr   avg_hog   std_hog  \\\n",
       "1025  0.182864  0.027567  0.032708  0.091272  0.063365   \n",
       "29    0.308871  0.053712  0.046490  0.062914  0.091447   \n",
       "131   0.254372  0.034486  0.042775  0.076449  0.080631   \n",
       "166   0.238314  0.037476  0.051397  0.065004  0.090112   \n",
       "681   0.287838  0.015731  0.015659  0.078750  0.077060   \n",
       "\n",
       "                                                    svd  \\\n",
       "1025  [-0.7370834298303202, -0.29136326638255444, -0...   \n",
       "29    [-0.8927528332053952, 0.19386869110457242, 0.0...   \n",
       "131   [-0.9499039089699307, -0.006068736517266654, 0...   \n",
       "166   [-0.9299179662359958, -0.024287595732705846, -...   \n",
       "681   [-0.9301188835992629, 0.13802803893518037, 0.0...   \n",
       "\n",
       "                                              canny_svd  \n",
       "1025      [0.08180485687111783, -0.0009498508033391629]  \n",
       "29    [-4.131265285862971e-06, -2.5885726321449823e-07]  \n",
       "131   [-4.131265285862971e-06, -2.5885726321449823e-07]  \n",
       "166         [0.007863110575450673, 0.01079281207613487]  \n",
       "681        [0.023358835814475117, 0.013605456674373483]  \n",
       "\n",
       "[5 rows x 23 columns]"
      ]
     },
     "execution_count": 4,
     "metadata": {},
     "output_type": "execute_result"
    }
   ],
   "source": [
    "# shuffle the data\n",
    "feature = feature.sample(frac=1)\n",
    "feature.head()"
   ]
  },
  {
   "cell_type": "markdown",
   "metadata": {},
   "source": [
    "<h3>  Train models using all of the following methods below. Be sure to drop the actual image column, and the encoding</h3>\tTake note of the differences in accuracy, and methods.\n"
   ]
  },
  {
   "cell_type": "markdown",
   "metadata": {},
   "source": [
    "### Logistic Regression"
   ]
  },
  {
   "cell_type": "code",
   "execution_count": 5,
   "metadata": {
    "scrolled": true
   },
   "outputs": [
    {
     "name": "stderr",
     "output_type": "stream",
     "text": [
      "/anaconda2/envs/py36/lib/python3.6/site-packages/sklearn/linear_model/logistic.py:460: FutureWarning: Default multi_class will be changed to 'auto' in 0.22. Specify the multi_class option to silence this warning.\n",
      "  \"this warning.\", FutureWarning)\n",
      "/anaconda2/envs/py36/lib/python3.6/site-packages/sklearn/linear_model/logistic.py:460: FutureWarning: Default multi_class will be changed to 'auto' in 0.22. Specify the multi_class option to silence this warning.\n",
      "  \"this warning.\", FutureWarning)\n",
      "/anaconda2/envs/py36/lib/python3.6/site-packages/sklearn/linear_model/logistic.py:460: FutureWarning: Default multi_class will be changed to 'auto' in 0.22. Specify the multi_class option to silence this warning.\n",
      "  \"this warning.\", FutureWarning)\n",
      "/anaconda2/envs/py36/lib/python3.6/site-packages/sklearn/linear_model/logistic.py:460: FutureWarning: Default multi_class will be changed to 'auto' in 0.22. Specify the multi_class option to silence this warning.\n",
      "  \"this warning.\", FutureWarning)\n",
      "/anaconda2/envs/py36/lib/python3.6/site-packages/sklearn/linear_model/logistic.py:460: FutureWarning: Default multi_class will be changed to 'auto' in 0.22. Specify the multi_class option to silence this warning.\n",
      "  \"this warning.\", FutureWarning)\n"
     ]
    },
    {
     "name": "stdout",
     "output_type": "stream",
     "text": [
      ".."
     ]
    },
    {
     "name": "stderr",
     "output_type": "stream",
     "text": [
      "/anaconda2/envs/py36/lib/python3.6/site-packages/sklearn/linear_model/logistic.py:433: FutureWarning: Default solver will be changed to 'lbfgs' in 0.22. Specify a solver to silence this warning.\n",
      "  FutureWarning)\n",
      "/anaconda2/envs/py36/lib/python3.6/site-packages/sklearn/linear_model/logistic.py:460: FutureWarning: Default multi_class will be changed to 'auto' in 0.22. Specify the multi_class option to silence this warning.\n",
      "  \"this warning.\", FutureWarning)\n",
      "/anaconda2/envs/py36/lib/python3.6/site-packages/sklearn/linear_model/logistic.py:433: FutureWarning: Default solver will be changed to 'lbfgs' in 0.22. Specify a solver to silence this warning.\n",
      "  FutureWarning)\n",
      "/anaconda2/envs/py36/lib/python3.6/site-packages/sklearn/linear_model/logistic.py:460: FutureWarning: Default multi_class will be changed to 'auto' in 0.22. Specify the multi_class option to silence this warning.\n",
      "  \"this warning.\", FutureWarning)\n",
      "/anaconda2/envs/py36/lib/python3.6/site-packages/sklearn/linear_model/logistic.py:433: FutureWarning: Default solver will be changed to 'lbfgs' in 0.22. Specify a solver to silence this warning.\n",
      "  FutureWarning)\n",
      "/anaconda2/envs/py36/lib/python3.6/site-packages/sklearn/linear_model/logistic.py:460: FutureWarning: Default multi_class will be changed to 'auto' in 0.22. Specify the multi_class option to silence this warning.\n",
      "  \"this warning.\", FutureWarning)\n",
      "/anaconda2/envs/py36/lib/python3.6/site-packages/sklearn/linear_model/logistic.py:433: FutureWarning: Default solver will be changed to 'lbfgs' in 0.22. Specify a solver to silence this warning.\n",
      "  FutureWarning)\n",
      "/anaconda2/envs/py36/lib/python3.6/site-packages/sklearn/linear_model/logistic.py:460: FutureWarning: Default multi_class will be changed to 'auto' in 0.22. Specify the multi_class option to silence this warning.\n",
      "  \"this warning.\", FutureWarning)\n",
      "/anaconda2/envs/py36/lib/python3.6/site-packages/sklearn/linear_model/logistic.py:433: FutureWarning: Default solver will be changed to 'lbfgs' in 0.22. Specify a solver to silence this warning.\n",
      "  FutureWarning)\n",
      "/anaconda2/envs/py36/lib/python3.6/site-packages/sklearn/linear_model/logistic.py:460: FutureWarning: Default multi_class will be changed to 'auto' in 0.22. Specify the multi_class option to silence this warning.\n",
      "  \"this warning.\", FutureWarning)\n",
      "/anaconda2/envs/py36/lib/python3.6/site-packages/sklearn/linear_model/logistic.py:460: FutureWarning: Default multi_class will be changed to 'auto' in 0.22. Specify the multi_class option to silence this warning.\n",
      "  \"this warning.\", FutureWarning)\n"
     ]
    },
    {
     "name": "stdout",
     "output_type": "stream",
     "text": [
      "."
     ]
    },
    {
     "name": "stderr",
     "output_type": "stream",
     "text": [
      "/anaconda2/envs/py36/lib/python3.6/site-packages/sklearn/linear_model/logistic.py:460: FutureWarning: Default multi_class will be changed to 'auto' in 0.22. Specify the multi_class option to silence this warning.\n",
      "  \"this warning.\", FutureWarning)\n",
      "/anaconda2/envs/py36/lib/python3.6/site-packages/sklearn/linear_model/logistic.py:460: FutureWarning: Default multi_class will be changed to 'auto' in 0.22. Specify the multi_class option to silence this warning.\n",
      "  \"this warning.\", FutureWarning)\n",
      "/anaconda2/envs/py36/lib/python3.6/site-packages/sklearn/linear_model/logistic.py:460: FutureWarning: Default multi_class will be changed to 'auto' in 0.22. Specify the multi_class option to silence this warning.\n",
      "  \"this warning.\", FutureWarning)\n",
      "/anaconda2/envs/py36/lib/python3.6/site-packages/sklearn/linear_model/logistic.py:460: FutureWarning: Default multi_class will be changed to 'auto' in 0.22. Specify the multi_class option to silence this warning.\n",
      "  \"this warning.\", FutureWarning)\n"
     ]
    },
    {
     "name": "stdout",
     "output_type": "stream",
     "text": [
      ".."
     ]
    },
    {
     "name": "stderr",
     "output_type": "stream",
     "text": [
      "/anaconda2/envs/py36/lib/python3.6/site-packages/sklearn/linear_model/logistic.py:433: FutureWarning: Default solver will be changed to 'lbfgs' in 0.22. Specify a solver to silence this warning.\n",
      "  FutureWarning)\n",
      "/anaconda2/envs/py36/lib/python3.6/site-packages/sklearn/linear_model/logistic.py:460: FutureWarning: Default multi_class will be changed to 'auto' in 0.22. Specify the multi_class option to silence this warning.\n",
      "  \"this warning.\", FutureWarning)\n",
      "/anaconda2/envs/py36/lib/python3.6/site-packages/sklearn/linear_model/logistic.py:433: FutureWarning: Default solver will be changed to 'lbfgs' in 0.22. Specify a solver to silence this warning.\n",
      "  FutureWarning)\n",
      "/anaconda2/envs/py36/lib/python3.6/site-packages/sklearn/linear_model/logistic.py:460: FutureWarning: Default multi_class will be changed to 'auto' in 0.22. Specify the multi_class option to silence this warning.\n",
      "  \"this warning.\", FutureWarning)\n",
      "/anaconda2/envs/py36/lib/python3.6/site-packages/sklearn/linear_model/logistic.py:433: FutureWarning: Default solver will be changed to 'lbfgs' in 0.22. Specify a solver to silence this warning.\n",
      "  FutureWarning)\n",
      "/anaconda2/envs/py36/lib/python3.6/site-packages/sklearn/linear_model/logistic.py:460: FutureWarning: Default multi_class will be changed to 'auto' in 0.22. Specify the multi_class option to silence this warning.\n",
      "  \"this warning.\", FutureWarning)\n",
      "/anaconda2/envs/py36/lib/python3.6/site-packages/sklearn/linear_model/logistic.py:433: FutureWarning: Default solver will be changed to 'lbfgs' in 0.22. Specify a solver to silence this warning.\n",
      "  FutureWarning)\n",
      "/anaconda2/envs/py36/lib/python3.6/site-packages/sklearn/linear_model/logistic.py:460: FutureWarning: Default multi_class will be changed to 'auto' in 0.22. Specify the multi_class option to silence this warning.\n",
      "  \"this warning.\", FutureWarning)\n",
      "/anaconda2/envs/py36/lib/python3.6/site-packages/sklearn/linear_model/logistic.py:433: FutureWarning: Default solver will be changed to 'lbfgs' in 0.22. Specify a solver to silence this warning.\n",
      "  FutureWarning)\n",
      "/anaconda2/envs/py36/lib/python3.6/site-packages/sklearn/linear_model/logistic.py:460: FutureWarning: Default multi_class will be changed to 'auto' in 0.22. Specify the multi_class option to silence this warning.\n",
      "  \"this warning.\", FutureWarning)\n"
     ]
    },
    {
     "name": "stdout",
     "output_type": "stream",
     "text": [
      "."
     ]
    },
    {
     "name": "stderr",
     "output_type": "stream",
     "text": [
      "/anaconda2/envs/py36/lib/python3.6/site-packages/sklearn/linear_model/logistic.py:460: FutureWarning: Default multi_class will be changed to 'auto' in 0.22. Specify the multi_class option to silence this warning.\n",
      "  \"this warning.\", FutureWarning)\n",
      "/anaconda2/envs/py36/lib/python3.6/site-packages/sklearn/linear_model/logistic.py:460: FutureWarning: Default multi_class will be changed to 'auto' in 0.22. Specify the multi_class option to silence this warning.\n",
      "  \"this warning.\", FutureWarning)\n",
      "/anaconda2/envs/py36/lib/python3.6/site-packages/sklearn/linear_model/logistic.py:460: FutureWarning: Default multi_class will be changed to 'auto' in 0.22. Specify the multi_class option to silence this warning.\n",
      "  \"this warning.\", FutureWarning)\n",
      "/anaconda2/envs/py36/lib/python3.6/site-packages/sklearn/linear_model/logistic.py:460: FutureWarning: Default multi_class will be changed to 'auto' in 0.22. Specify the multi_class option to silence this warning.\n",
      "  \"this warning.\", FutureWarning)\n",
      "/anaconda2/envs/py36/lib/python3.6/site-packages/sklearn/linear_model/logistic.py:460: FutureWarning: Default multi_class will be changed to 'auto' in 0.22. Specify the multi_class option to silence this warning.\n",
      "  \"this warning.\", FutureWarning)\n"
     ]
    },
    {
     "name": "stdout",
     "output_type": "stream",
     "text": [
      ".."
     ]
    },
    {
     "name": "stderr",
     "output_type": "stream",
     "text": [
      "/anaconda2/envs/py36/lib/python3.6/site-packages/sklearn/linear_model/logistic.py:433: FutureWarning: Default solver will be changed to 'lbfgs' in 0.22. Specify a solver to silence this warning.\n",
      "  FutureWarning)\n",
      "/anaconda2/envs/py36/lib/python3.6/site-packages/sklearn/linear_model/logistic.py:460: FutureWarning: Default multi_class will be changed to 'auto' in 0.22. Specify the multi_class option to silence this warning.\n",
      "  \"this warning.\", FutureWarning)\n",
      "/anaconda2/envs/py36/lib/python3.6/site-packages/sklearn/linear_model/logistic.py:433: FutureWarning: Default solver will be changed to 'lbfgs' in 0.22. Specify a solver to silence this warning.\n",
      "  FutureWarning)\n",
      "/anaconda2/envs/py36/lib/python3.6/site-packages/sklearn/linear_model/logistic.py:460: FutureWarning: Default multi_class will be changed to 'auto' in 0.22. Specify the multi_class option to silence this warning.\n",
      "  \"this warning.\", FutureWarning)\n",
      "/anaconda2/envs/py36/lib/python3.6/site-packages/sklearn/linear_model/logistic.py:433: FutureWarning: Default solver will be changed to 'lbfgs' in 0.22. Specify a solver to silence this warning.\n",
      "  FutureWarning)\n",
      "/anaconda2/envs/py36/lib/python3.6/site-packages/sklearn/linear_model/logistic.py:460: FutureWarning: Default multi_class will be changed to 'auto' in 0.22. Specify the multi_class option to silence this warning.\n",
      "  \"this warning.\", FutureWarning)\n",
      "/anaconda2/envs/py36/lib/python3.6/site-packages/sklearn/linear_model/logistic.py:433: FutureWarning: Default solver will be changed to 'lbfgs' in 0.22. Specify a solver to silence this warning.\n",
      "  FutureWarning)\n",
      "/anaconda2/envs/py36/lib/python3.6/site-packages/sklearn/linear_model/logistic.py:460: FutureWarning: Default multi_class will be changed to 'auto' in 0.22. Specify the multi_class option to silence this warning.\n",
      "  \"this warning.\", FutureWarning)\n",
      "/anaconda2/envs/py36/lib/python3.6/site-packages/sklearn/linear_model/logistic.py:433: FutureWarning: Default solver will be changed to 'lbfgs' in 0.22. Specify a solver to silence this warning.\n",
      "  FutureWarning)\n",
      "/anaconda2/envs/py36/lib/python3.6/site-packages/sklearn/linear_model/logistic.py:460: FutureWarning: Default multi_class will be changed to 'auto' in 0.22. Specify the multi_class option to silence this warning.\n",
      "  \"this warning.\", FutureWarning)\n"
     ]
    },
    {
     "name": "stdout",
     "output_type": "stream",
     "text": [
      "."
     ]
    }
   ],
   "source": [
    "from sklearn.linear_model import LogisticRegression\n",
    "\n",
    "y_predict_train = []\n",
    "y_predict_test = []\n",
    "accuracy_train = []\n",
    "accuracy_test = []\n",
    "classifier = []\n",
    "parameters = []\n",
    "\n",
    "sns.set(font_scale=1.5)\n",
    "\n",
    "for c in [0.1, 1, 10]:\n",
    "    Logistic = LogisticRegression(random_state=42, solver='lbfgs', C=c, max_iter=5000)\n",
    "    fit_predict(Logistic)\n",
    "    parameters.append('C='+str(c)+',solver=lbfgs')\n",
    "    Logistic = LogisticRegression(random_state=42, solver='lbfgs', multi_class='multinomial', C=c, max_iter=5000)\n",
    "    fit_predict(Logistic)\n",
    "    parameters.append('C='+str(c)+',solver=lbfgs,'+'multinomial')\n",
    "    Logistic = LogisticRegression(random_state=42, penalty='l1', C=c, max_iter=5000)\n",
    "    fit_predict(Logistic)\n",
    "    parameters.append('C='+str(c)+',penalty=l1')\n"
   ]
  },
  {
   "cell_type": "code",
   "execution_count": 6,
   "metadata": {},
   "outputs": [
    {
     "data": {
      "text/html": [
       "<div>\n",
       "<style scoped>\n",
       "    .dataframe tbody tr th:only-of-type {\n",
       "        vertical-align: middle;\n",
       "    }\n",
       "\n",
       "    .dataframe tbody tr th {\n",
       "        vertical-align: top;\n",
       "    }\n",
       "\n",
       "    .dataframe thead th {\n",
       "        text-align: right;\n",
       "    }\n",
       "</style>\n",
       "<table border=\"1\" class=\"dataframe\">\n",
       "  <thead>\n",
       "    <tr style=\"text-align: right;\">\n",
       "      <th></th>\n",
       "      <th>accuracy_train</th>\n",
       "      <th>accuracy_test</th>\n",
       "      <th>classifier</th>\n",
       "    </tr>\n",
       "  </thead>\n",
       "  <tbody>\n",
       "    <tr>\n",
       "      <th>0</th>\n",
       "      <td>0.272319</td>\n",
       "      <td>0.263805</td>\n",
       "      <td>LogisticRegression(C=0.1, class_weight=None, d...</td>\n",
       "    </tr>\n",
       "    <tr>\n",
       "      <th>1</th>\n",
       "      <td>0.278315</td>\n",
       "      <td>0.266467</td>\n",
       "      <td>LogisticRegression(C=0.1, class_weight=None, d...</td>\n",
       "    </tr>\n",
       "    <tr>\n",
       "      <th>2</th>\n",
       "      <td>0.255162</td>\n",
       "      <td>0.247147</td>\n",
       "      <td>LogisticRegression(C=0.1, class_weight=None, d...</td>\n",
       "    </tr>\n",
       "    <tr>\n",
       "      <th>3</th>\n",
       "      <td>0.369419</td>\n",
       "      <td>0.345085</td>\n",
       "      <td>LogisticRegression(C=1, class_weight=None, dua...</td>\n",
       "    </tr>\n",
       "    <tr>\n",
       "      <th>4</th>\n",
       "      <td>0.380078</td>\n",
       "      <td>0.355739</td>\n",
       "      <td>LogisticRegression(C=1, class_weight=None, dua...</td>\n",
       "    </tr>\n",
       "  </tbody>\n",
       "</table>\n",
       "</div>"
      ],
      "text/plain": [
       "   accuracy_train  accuracy_test  \\\n",
       "0        0.272319       0.263805   \n",
       "1        0.278315       0.266467   \n",
       "2        0.255162       0.247147   \n",
       "3        0.369419       0.345085   \n",
       "4        0.380078       0.355739   \n",
       "\n",
       "                                          classifier  \n",
       "0  LogisticRegression(C=0.1, class_weight=None, d...  \n",
       "1  LogisticRegression(C=0.1, class_weight=None, d...  \n",
       "2  LogisticRegression(C=0.1, class_weight=None, d...  \n",
       "3  LogisticRegression(C=1, class_weight=None, dua...  \n",
       "4  LogisticRegression(C=1, class_weight=None, dua...  "
      ]
     },
     "execution_count": 6,
     "metadata": {},
     "output_type": "execute_result"
    }
   ],
   "source": [
    "logistic = pd.DataFrame({\n",
    "    \"accuracy_train\": accuracy_train,\n",
    "    \"accuracy_test\": accuracy_test,\n",
    "    \"classifier\": classifier})\n",
    "logistic.head()"
   ]
  },
  {
   "cell_type": "code",
   "execution_count": 7,
   "metadata": {},
   "outputs": [
    {
     "data": {
      "image/png": "[encoded data removed]",
      "text/plain": [
       "<Figure size 720x720 with 1 Axes>"
      ]
     },
     "metadata": {},
     "output_type": "display_data"
    }
   ],
   "source": [
    "bar_plot(logistic, title=\"Logistic Regression\", filename=\"Logistic\", ymax=0.5)"
   ]
  },
  {
   "cell_type": "code",
   "execution_count": 8,
   "metadata": {
    "scrolled": true
   },
   "outputs": [
    {
     "name": "stdout",
     "output_type": "stream",
     "text": [
      "Best hyperparameter in the model is LogisticRegression(C=10, class_weight=None, dual=False, fit_intercept=True,\n",
      "          intercept_scaling=1, max_iter=5000, multi_class='warn',\n",
      "          n_jobs=None, penalty='l1', random_state=42, solver='warn',\n",
      "          tol=0.0001, verbose=0, warm_start=False)\n",
      "Train accuracy: 0.48134499028587285\n",
      "Test accuracy: 0.41302547065337764\n"
     ]
    }
   ],
   "source": [
    "#Print the model with best hyperparameters and its train/test accuracy\n",
    "print_best_model(logistic)"
   ]
  },
  {
   "cell_type": "markdown",
   "metadata": {},
   "source": [
    "### K-nearest Neighbors"
   ]
  },
  {
   "cell_type": "code",
   "execution_count": 9,
   "metadata": {},
   "outputs": [
    {
     "name": "stdout",
     "output_type": "stream",
     "text": [
      ".............."
     ]
    }
   ],
   "source": [
    "from sklearn.neighbors import KNeighborsClassifier\n",
    "\n",
    "y_predict_train = []\n",
    "y_predict_test = []\n",
    "accuracy_train = []\n",
    "accuracy_test = []\n",
    "classifier = []\n",
    "parameters = []\n",
    "\n",
    "n_neighbors = np.arange(3, 30, 2)\n",
    "for k in n_neighbors:\n",
    "    KNN = KNeighborsClassifier(n_neighbors=k)\n",
    "    parameters.append('n_neighbors='+str(k))\n",
    "    fit_predict(KNN)"
   ]
  },
  {
   "cell_type": "code",
   "execution_count": 10,
   "metadata": {},
   "outputs": [
    {
     "data": {
      "text/html": [
       "<div>\n",
       "<style scoped>\n",
       "    .dataframe tbody tr th:only-of-type {\n",
       "        vertical-align: middle;\n",
       "    }\n",
       "\n",
       "    .dataframe tbody tr th {\n",
       "        vertical-align: top;\n",
       "    }\n",
       "\n",
       "    .dataframe thead th {\n",
       "        text-align: right;\n",
       "    }\n",
       "</style>\n",
       "<table border=\"1\" class=\"dataframe\">\n",
       "  <thead>\n",
       "    <tr style=\"text-align: right;\">\n",
       "      <th></th>\n",
       "      <th>accuracy_train</th>\n",
       "      <th>accuracy_test</th>\n",
       "      <th>classifier</th>\n",
       "    </tr>\n",
       "  </thead>\n",
       "  <tbody>\n",
       "    <tr>\n",
       "      <th>0</th>\n",
       "      <td>0.595100</td>\n",
       "      <td>0.325085</td>\n",
       "      <td>KNeighborsClassifier(algorithm='auto', leaf_si...</td>\n",
       "    </tr>\n",
       "    <tr>\n",
       "      <th>1</th>\n",
       "      <td>0.534640</td>\n",
       "      <td>0.344419</td>\n",
       "      <td>KNeighborsClassifier(algorithm='auto', leaf_si...</td>\n",
       "    </tr>\n",
       "    <tr>\n",
       "      <th>2</th>\n",
       "      <td>0.500664</td>\n",
       "      <td>0.347750</td>\n",
       "      <td>KNeighborsClassifier(algorithm='auto', leaf_si...</td>\n",
       "    </tr>\n",
       "    <tr>\n",
       "      <th>3</th>\n",
       "      <td>0.476847</td>\n",
       "      <td>0.357750</td>\n",
       "      <td>KNeighborsClassifier(algorithm='auto', leaf_si...</td>\n",
       "    </tr>\n",
       "    <tr>\n",
       "      <th>4</th>\n",
       "      <td>0.466687</td>\n",
       "      <td>0.353750</td>\n",
       "      <td>KNeighborsClassifier(algorithm='auto', leaf_si...</td>\n",
       "    </tr>\n",
       "  </tbody>\n",
       "</table>\n",
       "</div>"
      ],
      "text/plain": [
       "   accuracy_train  accuracy_test  \\\n",
       "0        0.595100       0.325085   \n",
       "1        0.534640       0.344419   \n",
       "2        0.500664       0.347750   \n",
       "3        0.476847       0.357750   \n",
       "4        0.466687       0.353750   \n",
       "\n",
       "                                          classifier  \n",
       "0  KNeighborsClassifier(algorithm='auto', leaf_si...  \n",
       "1  KNeighborsClassifier(algorithm='auto', leaf_si...  \n",
       "2  KNeighborsClassifier(algorithm='auto', leaf_si...  \n",
       "3  KNeighborsClassifier(algorithm='auto', leaf_si...  \n",
       "4  KNeighborsClassifier(algorithm='auto', leaf_si...  "
      ]
     },
     "execution_count": 10,
     "metadata": {},
     "output_type": "execute_result"
    }
   ],
   "source": [
    "knn = pd.DataFrame({\n",
    "    \"accuracy_train\": accuracy_train,\n",
    "    \"accuracy_test\": accuracy_test,\n",
    "    \"classifier\": classifier})\n",
    "knn.head()"
   ]
  },
  {
   "cell_type": "code",
   "execution_count": 11,
   "metadata": {
    "scrolled": true
   },
   "outputs": [
    {
     "data": {
      "image/png": "[encoded data removed]",
      "text/plain": [
       "<Figure size 720x720 with 1 Axes>"
      ]
     },
     "metadata": {},
     "output_type": "display_data"
    }
   ],
   "source": [
    "bar_plot(knn, title=\"KNN\", filename=\"knn\", ymax=0.62)"
   ]
  },
  {
   "cell_type": "markdown",
   "metadata": {},
   "source": [
    "#### Print the model with best hyperparameters and its train/test accuracy"
   ]
  },
  {
   "cell_type": "code",
   "execution_count": 12,
   "metadata": {},
   "outputs": [
    {
     "name": "stdout",
     "output_type": "stream",
     "text": [
      "Best hyperparameter in the model is KNeighborsClassifier(algorithm='auto', leaf_size=30, metric='minkowski',\n",
      "           metric_params=None, n_jobs=None, n_neighbors=15, p=2,\n",
      "           weights='uniform')\n",
      "Train accuracy: 0.44570177629752983\n",
      "Test accuracy: 0.35907641196013296\n"
     ]
    }
   ],
   "source": [
    "#Print the model with best hyperparameters and its train/test accuracy\n",
    "print_best_model(knn)"
   ]
  },
  {
   "cell_type": "markdown",
   "metadata": {},
   "source": [
    "### Classification Tree"
   ]
  },
  {
   "cell_type": "code",
   "execution_count": 13,
   "metadata": {},
   "outputs": [
    {
     "name": "stdout",
     "output_type": "stream",
     "text": [
      "........"
     ]
    }
   ],
   "source": [
    "from sklearn.tree import DecisionTreeClassifier\n",
    "\n",
    "y_predict_train = []\n",
    "y_predict_test = []\n",
    "accuracy_train = []\n",
    "accuracy_test = []\n",
    "classifier = []\n",
    "parameters = []\n",
    "\n",
    "for c in ['gini', 'entropy']:\n",
    "    for s in ['best', 'random']:\n",
    "        for min_s in np.arange(3, 5):\n",
    "            parameters.append(c+','+s+','+'min_s='+str(min_s))\n",
    "            DecisionTree = DecisionTreeClassifier(criterion=c, splitter = s, min_samples_split=min_s)\n",
    "            fit_predict(DecisionTree)"
   ]
  },
  {
   "cell_type": "code",
   "execution_count": 14,
   "metadata": {},
   "outputs": [
    {
     "data": {
      "text/html": [
       "<div>\n",
       "<style scoped>\n",
       "    .dataframe tbody tr th:only-of-type {\n",
       "        vertical-align: middle;\n",
       "    }\n",
       "\n",
       "    .dataframe tbody tr th {\n",
       "        vertical-align: top;\n",
       "    }\n",
       "\n",
       "    .dataframe thead th {\n",
       "        text-align: right;\n",
       "    }\n",
       "</style>\n",
       "<table border=\"1\" class=\"dataframe\">\n",
       "  <thead>\n",
       "    <tr style=\"text-align: right;\">\n",
       "      <th></th>\n",
       "      <th>accuracy_train</th>\n",
       "      <th>accuracy_test</th>\n",
       "      <th>classifier</th>\n",
       "    </tr>\n",
       "  </thead>\n",
       "  <tbody>\n",
       "    <tr>\n",
       "      <th>0</th>\n",
       "      <td>0.933877</td>\n",
       "      <td>0.309112</td>\n",
       "      <td>DecisionTreeClassifier(class_weight=None, crit...</td>\n",
       "    </tr>\n",
       "    <tr>\n",
       "      <th>1</th>\n",
       "      <td>0.892738</td>\n",
       "      <td>0.299772</td>\n",
       "      <td>DecisionTreeClassifier(class_weight=None, crit...</td>\n",
       "    </tr>\n",
       "    <tr>\n",
       "      <th>2</th>\n",
       "      <td>0.903898</td>\n",
       "      <td>0.269130</td>\n",
       "      <td>DecisionTreeClassifier(class_weight=None, crit...</td>\n",
       "    </tr>\n",
       "    <tr>\n",
       "      <th>3</th>\n",
       "      <td>0.838108</td>\n",
       "      <td>0.267801</td>\n",
       "      <td>DecisionTreeClassifier(class_weight=None, crit...</td>\n",
       "    </tr>\n",
       "    <tr>\n",
       "      <th>4</th>\n",
       "      <td>0.945202</td>\n",
       "      <td>0.302443</td>\n",
       "      <td>DecisionTreeClassifier(class_weight=None, crit...</td>\n",
       "    </tr>\n",
       "  </tbody>\n",
       "</table>\n",
       "</div>"
      ],
      "text/plain": [
       "   accuracy_train  accuracy_test  \\\n",
       "0        0.933877       0.309112   \n",
       "1        0.892738       0.299772   \n",
       "2        0.903898       0.269130   \n",
       "3        0.838108       0.267801   \n",
       "4        0.945202       0.302443   \n",
       "\n",
       "                                          classifier  \n",
       "0  DecisionTreeClassifier(class_weight=None, crit...  \n",
       "1  DecisionTreeClassifier(class_weight=None, crit...  \n",
       "2  DecisionTreeClassifier(class_weight=None, crit...  \n",
       "3  DecisionTreeClassifier(class_weight=None, crit...  \n",
       "4  DecisionTreeClassifier(class_weight=None, crit...  "
      ]
     },
     "execution_count": 14,
     "metadata": {},
     "output_type": "execute_result"
    }
   ],
   "source": [
    "dt = pd.DataFrame({\n",
    "    \"accuracy_train\": accuracy_train,\n",
    "    \"accuracy_test\": accuracy_test,\n",
    "    \"classifier\": classifier})\n",
    "dt.head()"
   ]
  },
  {
   "cell_type": "code",
   "execution_count": 15,
   "metadata": {},
   "outputs": [
    {
     "data": {
      "image/png": "[encoded data removed]",
      "text/plain": [
       "<Figure size 720x720 with 1 Axes>"
      ]
     },
     "metadata": {},
     "output_type": "display_data"
    }
   ],
   "source": [
    "bar_plot(dt, title=\"Decision Tree\", filename=\"dt\", ymax=1)"
   ]
  },
  {
   "cell_type": "code",
   "execution_count": 16,
   "metadata": {},
   "outputs": [
    {
     "name": "stdout",
     "output_type": "stream",
     "text": [
      "Best hyperparameter in the model is DecisionTreeClassifier(class_weight=None, criterion='gini', max_depth=None,\n",
      "            max_features=None, max_leaf_nodes=None,\n",
      "            min_impurity_decrease=0.0, min_impurity_split=None,\n",
      "            min_samples_leaf=1, min_samples_split=3,\n",
      "            min_weight_fraction_leaf=0.0, presort=False, random_state=None,\n",
      "            splitter='best')\n",
      "Train accuracy: 0.9338769081321121\n",
      "Test accuracy: 0.3091118493909192\n"
     ]
    }
   ],
   "source": [
    "#Print the model with best hyperparameters and its train/test accuracy\n",
    "print_best_model(dt)"
   ]
  },
  {
   "cell_type": "markdown",
   "metadata": {},
   "source": [
    "### Random Forest"
   ]
  },
  {
   "cell_type": "code",
   "execution_count": 17,
   "metadata": {},
   "outputs": [
    {
     "name": "stdout",
     "output_type": "stream",
     "text": [
      "............"
     ]
    }
   ],
   "source": [
    "from sklearn.ensemble import RandomForestClassifier\n",
    "\n",
    "y_predict_train = []\n",
    "y_predict_test = []\n",
    "accuracy_train = []\n",
    "accuracy_test = []\n",
    "classifier = []\n",
    "parameters = []\n",
    "\n",
    "for n in np.arange(10, 50, 20):\n",
    "    for d in np.arange(2, 8):\n",
    "        parameters.append('n='+str(n)+',maxdepth='+str(d))\n",
    "        RandomForest = RandomForestClassifier(n_estimators=n, max_depth=d)\n",
    "        fit_predict(RandomForest)"
   ]
  },
  {
   "cell_type": "code",
   "execution_count": 18,
   "metadata": {},
   "outputs": [
    {
     "data": {
      "text/html": [
       "<div>\n",
       "<style scoped>\n",
       "    .dataframe tbody tr th:only-of-type {\n",
       "        vertical-align: middle;\n",
       "    }\n",
       "\n",
       "    .dataframe tbody tr th {\n",
       "        vertical-align: top;\n",
       "    }\n",
       "\n",
       "    .dataframe thead th {\n",
       "        text-align: right;\n",
       "    }\n",
       "</style>\n",
       "<table border=\"1\" class=\"dataframe\">\n",
       "  <thead>\n",
       "    <tr style=\"text-align: right;\">\n",
       "      <th></th>\n",
       "      <th>accuracy_train</th>\n",
       "      <th>accuracy_test</th>\n",
       "      <th>classifier</th>\n",
       "    </tr>\n",
       "  </thead>\n",
       "  <tbody>\n",
       "    <tr>\n",
       "      <th>0</th>\n",
       "      <td>0.270318</td>\n",
       "      <td>0.261818</td>\n",
       "      <td>(DecisionTreeClassifier(class_weight=None, cri...</td>\n",
       "    </tr>\n",
       "    <tr>\n",
       "      <th>1</th>\n",
       "      <td>0.299297</td>\n",
       "      <td>0.277138</td>\n",
       "      <td>(DecisionTreeClassifier(class_weight=None, cri...</td>\n",
       "    </tr>\n",
       "    <tr>\n",
       "      <th>2</th>\n",
       "      <td>0.344765</td>\n",
       "      <td>0.298463</td>\n",
       "      <td>(DecisionTreeClassifier(class_weight=None, cri...</td>\n",
       "    </tr>\n",
       "    <tr>\n",
       "      <th>3</th>\n",
       "      <td>0.414384</td>\n",
       "      <td>0.329790</td>\n",
       "      <td>(DecisionTreeClassifier(class_weight=None, cri...</td>\n",
       "    </tr>\n",
       "    <tr>\n",
       "      <th>4</th>\n",
       "      <td>0.476349</td>\n",
       "      <td>0.327101</td>\n",
       "      <td>(DecisionTreeClassifier(class_weight=None, cri...</td>\n",
       "    </tr>\n",
       "  </tbody>\n",
       "</table>\n",
       "</div>"
      ],
      "text/plain": [
       "   accuracy_train  accuracy_test  \\\n",
       "0        0.270318       0.261818   \n",
       "1        0.299297       0.277138   \n",
       "2        0.344765       0.298463   \n",
       "3        0.414384       0.329790   \n",
       "4        0.476349       0.327101   \n",
       "\n",
       "                                          classifier  \n",
       "0  (DecisionTreeClassifier(class_weight=None, cri...  \n",
       "1  (DecisionTreeClassifier(class_weight=None, cri...  \n",
       "2  (DecisionTreeClassifier(class_weight=None, cri...  \n",
       "3  (DecisionTreeClassifier(class_weight=None, cri...  \n",
       "4  (DecisionTreeClassifier(class_weight=None, cri...  "
      ]
     },
     "execution_count": 18,
     "metadata": {},
     "output_type": "execute_result"
    }
   ],
   "source": [
    "rf = pd.DataFrame({\n",
    "    \"accuracy_train\": accuracy_train,\n",
    "    \"accuracy_test\": accuracy_test,\n",
    "    \"classifier\": classifier})\n",
    "rf.head()"
   ]
  },
  {
   "cell_type": "code",
   "execution_count": 19,
   "metadata": {},
   "outputs": [
    {
     "data": {
      "image/png": "[encoded data removed]",
      "text/plain": [
       "<Figure size 720x720 with 1 Axes>"
      ]
     },
     "metadata": {},
     "output_type": "display_data"
    }
   ],
   "source": [
    "bar_plot(rf, title=\"Random Forest\", filename=\"rf\", ymax=0.6)"
   ]
  },
  {
   "cell_type": "code",
   "execution_count": 20,
   "metadata": {},
   "outputs": [
    {
     "name": "stdout",
     "output_type": "stream",
     "text": [
      "Best hyperparameter in the model is RandomForestClassifier(bootstrap=True, class_weight=None, criterion='gini',\n",
      "            max_depth=7, max_features='auto', max_leaf_nodes=None,\n",
      "            min_impurity_decrease=0.0, min_impurity_split=None,\n",
      "            min_samples_leaf=1, min_samples_split=2,\n",
      "            min_weight_fraction_leaf=0.0, n_estimators=30, n_jobs=None,\n",
      "            oob_score=False, random_state=None, verbose=0,\n",
      "            warm_start=False)\n",
      "Train accuracy: 0.6124233971690258\n",
      "Test accuracy: 0.3624008859357697\n"
     ]
    }
   ],
   "source": [
    "#Print the model with best hyperparameters and its train/test accuracy\n",
    "print_best_model(rf)"
   ]
  },
  {
   "cell_type": "markdown",
   "metadata": {},
   "source": [
    "### Support Vector Machine"
   ]
  },
  {
   "cell_type": "code",
   "execution_count": 21,
   "metadata": {},
   "outputs": [
    {
     "name": "stdout",
     "output_type": "stream",
     "text": [
      "..."
     ]
    },
    {
     "name": "stderr",
     "output_type": "stream",
     "text": [
      "/anaconda2/envs/py36/lib/python3.6/site-packages/sklearn/svm/base.py:196: FutureWarning: The default value of gamma will change from 'auto' to 'scale' in version 0.22 to account better for unscaled features. Set gamma explicitly to 'auto' or 'scale' to avoid this warning.\n",
      "  \"avoid this warning.\", FutureWarning)\n",
      "/anaconda2/envs/py36/lib/python3.6/site-packages/sklearn/svm/base.py:196: FutureWarning: The default value of gamma will change from 'auto' to 'scale' in version 0.22 to account better for unscaled features. Set gamma explicitly to 'auto' or 'scale' to avoid this warning.\n",
      "  \"avoid this warning.\", FutureWarning)\n",
      "/anaconda2/envs/py36/lib/python3.6/site-packages/sklearn/svm/base.py:196: FutureWarning: The default value of gamma will change from 'auto' to 'scale' in version 0.22 to account better for unscaled features. Set gamma explicitly to 'auto' or 'scale' to avoid this warning.\n",
      "  \"avoid this warning.\", FutureWarning)\n",
      "/anaconda2/envs/py36/lib/python3.6/site-packages/sklearn/svm/base.py:196: FutureWarning: The default value of gamma will change from 'auto' to 'scale' in version 0.22 to account better for unscaled features. Set gamma explicitly to 'auto' or 'scale' to avoid this warning.\n",
      "  \"avoid this warning.\", FutureWarning)\n",
      "/anaconda2/envs/py36/lib/python3.6/site-packages/sklearn/svm/base.py:196: FutureWarning: The default value of gamma will change from 'auto' to 'scale' in version 0.22 to account better for unscaled features. Set gamma explicitly to 'auto' or 'scale' to avoid this warning.\n",
      "  \"avoid this warning.\", FutureWarning)\n"
     ]
    },
    {
     "name": "stdout",
     "output_type": "stream",
     "text": [
      "."
     ]
    },
    {
     "name": "stderr",
     "output_type": "stream",
     "text": [
      "/anaconda2/envs/py36/lib/python3.6/site-packages/sklearn/svm/base.py:196: FutureWarning: The default value of gamma will change from 'auto' to 'scale' in version 0.22 to account better for unscaled features. Set gamma explicitly to 'auto' or 'scale' to avoid this warning.\n",
      "  \"avoid this warning.\", FutureWarning)\n",
      "/anaconda2/envs/py36/lib/python3.6/site-packages/sklearn/svm/base.py:196: FutureWarning: The default value of gamma will change from 'auto' to 'scale' in version 0.22 to account better for unscaled features. Set gamma explicitly to 'auto' or 'scale' to avoid this warning.\n",
      "  \"avoid this warning.\", FutureWarning)\n",
      "/anaconda2/envs/py36/lib/python3.6/site-packages/sklearn/svm/base.py:196: FutureWarning: The default value of gamma will change from 'auto' to 'scale' in version 0.22 to account better for unscaled features. Set gamma explicitly to 'auto' or 'scale' to avoid this warning.\n",
      "  \"avoid this warning.\", FutureWarning)\n",
      "/anaconda2/envs/py36/lib/python3.6/site-packages/sklearn/svm/base.py:196: FutureWarning: The default value of gamma will change from 'auto' to 'scale' in version 0.22 to account better for unscaled features. Set gamma explicitly to 'auto' or 'scale' to avoid this warning.\n",
      "  \"avoid this warning.\", FutureWarning)\n",
      "/anaconda2/envs/py36/lib/python3.6/site-packages/sklearn/svm/base.py:196: FutureWarning: The default value of gamma will change from 'auto' to 'scale' in version 0.22 to account better for unscaled features. Set gamma explicitly to 'auto' or 'scale' to avoid this warning.\n",
      "  \"avoid this warning.\", FutureWarning)\n"
     ]
    },
    {
     "name": "stdout",
     "output_type": "stream",
     "text": [
      "."
     ]
    },
    {
     "name": "stderr",
     "output_type": "stream",
     "text": [
      "/anaconda2/envs/py36/lib/python3.6/site-packages/sklearn/svm/base.py:196: FutureWarning: The default value of gamma will change from 'auto' to 'scale' in version 0.22 to account better for unscaled features. Set gamma explicitly to 'auto' or 'scale' to avoid this warning.\n",
      "  \"avoid this warning.\", FutureWarning)\n",
      "/anaconda2/envs/py36/lib/python3.6/site-packages/sklearn/svm/base.py:196: FutureWarning: The default value of gamma will change from 'auto' to 'scale' in version 0.22 to account better for unscaled features. Set gamma explicitly to 'auto' or 'scale' to avoid this warning.\n",
      "  \"avoid this warning.\", FutureWarning)\n",
      "/anaconda2/envs/py36/lib/python3.6/site-packages/sklearn/svm/base.py:196: FutureWarning: The default value of gamma will change from 'auto' to 'scale' in version 0.22 to account better for unscaled features. Set gamma explicitly to 'auto' or 'scale' to avoid this warning.\n",
      "  \"avoid this warning.\", FutureWarning)\n",
      "/anaconda2/envs/py36/lib/python3.6/site-packages/sklearn/svm/base.py:196: FutureWarning: The default value of gamma will change from 'auto' to 'scale' in version 0.22 to account better for unscaled features. Set gamma explicitly to 'auto' or 'scale' to avoid this warning.\n",
      "  \"avoid this warning.\", FutureWarning)\n",
      "/anaconda2/envs/py36/lib/python3.6/site-packages/sklearn/svm/base.py:196: FutureWarning: The default value of gamma will change from 'auto' to 'scale' in version 0.22 to account better for unscaled features. Set gamma explicitly to 'auto' or 'scale' to avoid this warning.\n",
      "  \"avoid this warning.\", FutureWarning)\n"
     ]
    },
    {
     "name": "stdout",
     "output_type": "stream",
     "text": [
      "."
     ]
    },
    {
     "name": "stderr",
     "output_type": "stream",
     "text": [
      "/anaconda2/envs/py36/lib/python3.6/site-packages/sklearn/svm/base.py:196: FutureWarning: The default value of gamma will change from 'auto' to 'scale' in version 0.22 to account better for unscaled features. Set gamma explicitly to 'auto' or 'scale' to avoid this warning.\n",
      "  \"avoid this warning.\", FutureWarning)\n",
      "/anaconda2/envs/py36/lib/python3.6/site-packages/sklearn/svm/base.py:196: FutureWarning: The default value of gamma will change from 'auto' to 'scale' in version 0.22 to account better for unscaled features. Set gamma explicitly to 'auto' or 'scale' to avoid this warning.\n",
      "  \"avoid this warning.\", FutureWarning)\n",
      "/anaconda2/envs/py36/lib/python3.6/site-packages/sklearn/svm/base.py:196: FutureWarning: The default value of gamma will change from 'auto' to 'scale' in version 0.22 to account better for unscaled features. Set gamma explicitly to 'auto' or 'scale' to avoid this warning.\n",
      "  \"avoid this warning.\", FutureWarning)\n",
      "/anaconda2/envs/py36/lib/python3.6/site-packages/sklearn/svm/base.py:196: FutureWarning: The default value of gamma will change from 'auto' to 'scale' in version 0.22 to account better for unscaled features. Set gamma explicitly to 'auto' or 'scale' to avoid this warning.\n",
      "  \"avoid this warning.\", FutureWarning)\n",
      "/anaconda2/envs/py36/lib/python3.6/site-packages/sklearn/svm/base.py:196: FutureWarning: The default value of gamma will change from 'auto' to 'scale' in version 0.22 to account better for unscaled features. Set gamma explicitly to 'auto' or 'scale' to avoid this warning.\n",
      "  \"avoid this warning.\", FutureWarning)\n"
     ]
    },
    {
     "name": "stdout",
     "output_type": "stream",
     "text": [
      "."
     ]
    },
    {
     "name": "stderr",
     "output_type": "stream",
     "text": [
      "/anaconda2/envs/py36/lib/python3.6/site-packages/sklearn/svm/base.py:196: FutureWarning: The default value of gamma will change from 'auto' to 'scale' in version 0.22 to account better for unscaled features. Set gamma explicitly to 'auto' or 'scale' to avoid this warning.\n",
      "  \"avoid this warning.\", FutureWarning)\n",
      "/anaconda2/envs/py36/lib/python3.6/site-packages/sklearn/svm/base.py:196: FutureWarning: The default value of gamma will change from 'auto' to 'scale' in version 0.22 to account better for unscaled features. Set gamma explicitly to 'auto' or 'scale' to avoid this warning.\n",
      "  \"avoid this warning.\", FutureWarning)\n",
      "/anaconda2/envs/py36/lib/python3.6/site-packages/sklearn/svm/base.py:196: FutureWarning: The default value of gamma will change from 'auto' to 'scale' in version 0.22 to account better for unscaled features. Set gamma explicitly to 'auto' or 'scale' to avoid this warning.\n",
      "  \"avoid this warning.\", FutureWarning)\n",
      "/anaconda2/envs/py36/lib/python3.6/site-packages/sklearn/svm/base.py:196: FutureWarning: The default value of gamma will change from 'auto' to 'scale' in version 0.22 to account better for unscaled features. Set gamma explicitly to 'auto' or 'scale' to avoid this warning.\n",
      "  \"avoid this warning.\", FutureWarning)\n",
      "/anaconda2/envs/py36/lib/python3.6/site-packages/sklearn/svm/base.py:196: FutureWarning: The default value of gamma will change from 'auto' to 'scale' in version 0.22 to account better for unscaled features. Set gamma explicitly to 'auto' or 'scale' to avoid this warning.\n",
      "  \"avoid this warning.\", FutureWarning)\n"
     ]
    },
    {
     "name": "stdout",
     "output_type": "stream",
     "text": [
      "."
     ]
    },
    {
     "name": "stderr",
     "output_type": "stream",
     "text": [
      "/anaconda2/envs/py36/lib/python3.6/site-packages/sklearn/svm/base.py:196: FutureWarning: The default value of gamma will change from 'auto' to 'scale' in version 0.22 to account better for unscaled features. Set gamma explicitly to 'auto' or 'scale' to avoid this warning.\n",
      "  \"avoid this warning.\", FutureWarning)\n",
      "/anaconda2/envs/py36/lib/python3.6/site-packages/sklearn/svm/base.py:196: FutureWarning: The default value of gamma will change from 'auto' to 'scale' in version 0.22 to account better for unscaled features. Set gamma explicitly to 'auto' or 'scale' to avoid this warning.\n",
      "  \"avoid this warning.\", FutureWarning)\n",
      "/anaconda2/envs/py36/lib/python3.6/site-packages/sklearn/svm/base.py:196: FutureWarning: The default value of gamma will change from 'auto' to 'scale' in version 0.22 to account better for unscaled features. Set gamma explicitly to 'auto' or 'scale' to avoid this warning.\n",
      "  \"avoid this warning.\", FutureWarning)\n",
      "/anaconda2/envs/py36/lib/python3.6/site-packages/sklearn/svm/base.py:196: FutureWarning: The default value of gamma will change from 'auto' to 'scale' in version 0.22 to account better for unscaled features. Set gamma explicitly to 'auto' or 'scale' to avoid this warning.\n",
      "  \"avoid this warning.\", FutureWarning)\n"
     ]
    },
    {
     "name": "stdout",
     "output_type": "stream",
     "text": [
      "."
     ]
    },
    {
     "name": "stderr",
     "output_type": "stream",
     "text": [
      "/anaconda2/envs/py36/lib/python3.6/site-packages/sklearn/svm/base.py:196: FutureWarning: The default value of gamma will change from 'auto' to 'scale' in version 0.22 to account better for unscaled features. Set gamma explicitly to 'auto' or 'scale' to avoid this warning.\n",
      "  \"avoid this warning.\", FutureWarning)\n"
     ]
    }
   ],
   "source": [
    "from sklearn.svm import SVC\n",
    "\n",
    "y_predict_train = []\n",
    "y_predict_test = []\n",
    "accuracy_train = []\n",
    "accuracy_test = []\n",
    "classifier = []\n",
    "parameters = []\n",
    "\n",
    "for k in ['linear', 'rbf', 'sigmoid']:\n",
    "    for c in [5, 10, 20]:\n",
    "        parameters.append(k+','+'c='+str(c))\n",
    "        SVM = SVC(C=c, kernel=k, random_state=42)\n",
    "        fit_predict(SVM)"
   ]
  },
  {
   "cell_type": "code",
   "execution_count": 22,
   "metadata": {},
   "outputs": [
    {
     "data": {
      "text/html": [
       "<div>\n",
       "<style scoped>\n",
       "    .dataframe tbody tr th:only-of-type {\n",
       "        vertical-align: middle;\n",
       "    }\n",
       "\n",
       "    .dataframe tbody tr th {\n",
       "        vertical-align: top;\n",
       "    }\n",
       "\n",
       "    .dataframe thead th {\n",
       "        text-align: right;\n",
       "    }\n",
       "</style>\n",
       "<table border=\"1\" class=\"dataframe\">\n",
       "  <thead>\n",
       "    <tr style=\"text-align: right;\">\n",
       "      <th></th>\n",
       "      <th>accuracy_train</th>\n",
       "      <th>accuracy_test</th>\n",
       "      <th>classifier</th>\n",
       "    </tr>\n",
       "  </thead>\n",
       "  <tbody>\n",
       "    <tr>\n",
       "      <th>0</th>\n",
       "      <td>0.472017</td>\n",
       "      <td>0.393721</td>\n",
       "      <td>SVC(C=5, cache_size=200, class_weight=None, co...</td>\n",
       "    </tr>\n",
       "    <tr>\n",
       "      <th>1</th>\n",
       "      <td>0.493169</td>\n",
       "      <td>0.399037</td>\n",
       "      <td>SVC(C=10, cache_size=200, class_weight=None, c...</td>\n",
       "    </tr>\n",
       "    <tr>\n",
       "      <th>2</th>\n",
       "      <td>0.511989</td>\n",
       "      <td>0.403705</td>\n",
       "      <td>SVC(C=20, cache_size=200, class_weight=None, c...</td>\n",
       "    </tr>\n",
       "    <tr>\n",
       "      <th>3</th>\n",
       "      <td>0.347434</td>\n",
       "      <td>0.322434</td>\n",
       "      <td>SVC(C=5, cache_size=200, class_weight=None, co...</td>\n",
       "    </tr>\n",
       "    <tr>\n",
       "      <th>4</th>\n",
       "      <td>0.395735</td>\n",
       "      <td>0.354419</td>\n",
       "      <td>SVC(C=10, cache_size=200, class_weight=None, c...</td>\n",
       "    </tr>\n",
       "  </tbody>\n",
       "</table>\n",
       "</div>"
      ],
      "text/plain": [
       "   accuracy_train  accuracy_test  \\\n",
       "0        0.472017       0.393721   \n",
       "1        0.493169       0.399037   \n",
       "2        0.511989       0.403705   \n",
       "3        0.347434       0.322434   \n",
       "4        0.395735       0.354419   \n",
       "\n",
       "                                          classifier  \n",
       "0  SVC(C=5, cache_size=200, class_weight=None, co...  \n",
       "1  SVC(C=10, cache_size=200, class_weight=None, c...  \n",
       "2  SVC(C=20, cache_size=200, class_weight=None, c...  \n",
       "3  SVC(C=5, cache_size=200, class_weight=None, co...  \n",
       "4  SVC(C=10, cache_size=200, class_weight=None, c...  "
      ]
     },
     "execution_count": 22,
     "metadata": {},
     "output_type": "execute_result"
    }
   ],
   "source": [
    "svm = pd.DataFrame({\n",
    "    \"accuracy_train\": accuracy_train,\n",
    "    \"accuracy_test\": accuracy_test,\n",
    "    \"classifier\": classifier})\n",
    "svm.head()"
   ]
  },
  {
   "cell_type": "code",
   "execution_count": 23,
   "metadata": {},
   "outputs": [
    {
     "data": {
      "image/png": "[encoded data removed]",
      "text/plain": [
       "<Figure size 720x720 with 1 Axes>"
      ]
     },
     "metadata": {},
     "output_type": "display_data"
    }
   ],
   "source": [
    "bar_plot(svm, title=\"Support Vector Machine\", filename=\"svm\", ymax=0.6)"
   ]
  },
  {
   "cell_type": "code",
   "execution_count": 24,
   "metadata": {},
   "outputs": [
    {
     "name": "stdout",
     "output_type": "stream",
     "text": [
      "Best hyperparameter in the model is SVC(C=20, cache_size=200, class_weight=None, coef0=0.0,\n",
      "  decision_function_shape='ovr', degree=3, gamma='auto_deprecated',\n",
      "  kernel='linear', max_iter=-1, probability=False, random_state=42,\n",
      "  shrinking=True, tol=0.001, verbose=False)\n",
      "Train accuracy: 0.5119894532334166\n",
      "Test accuracy: 0.4037054263565891\n"
     ]
    }
   ],
   "source": [
    "#Print the model with best hyperparameters and its train/test accuracy\n",
    "print_best_model(svm)"
   ]
  },
  {
   "cell_type": "markdown",
   "metadata": {},
   "source": [
    "### Apply the best model to the testset"
   ]
  },
  {
   "cell_type": "code",
   "execution_count": 25,
   "metadata": {},
   "outputs": [
    {
     "ename": "NameError",
     "evalue": "name 'X_train' is not defined",
     "output_type": "error",
     "traceback": [
      "\u001b[0;31m---------------------------------------------------------------------------\u001b[0m",
      "\u001b[0;31mNameError\u001b[0m                                 Traceback (most recent call last)",
      "\u001b[0;32m<ipython-input-25-6ac9e73a5595>\u001b[0m in \u001b[0;36m<module>\u001b[0;34m\u001b[0m\n\u001b[1;32m      1\u001b[0m \u001b[0;31m# train best model\u001b[0m\u001b[0;34m\u001b[0m\u001b[0;34m\u001b[0m\u001b[0;34m\u001b[0m\u001b[0m\n\u001b[1;32m      2\u001b[0m \u001b[0mbest_model\u001b[0m \u001b[0;34m=\u001b[0m \u001b[0mLogisticRegression\u001b[0m\u001b[0;34m(\u001b[0m\u001b[0mrandom_state\u001b[0m\u001b[0;34m=\u001b[0m\u001b[0;36m42\u001b[0m\u001b[0;34m,\u001b[0m \u001b[0mpenalty\u001b[0m\u001b[0;34m=\u001b[0m\u001b[0;34m'l1'\u001b[0m\u001b[0;34m,\u001b[0m \u001b[0mC\u001b[0m\u001b[0;34m=\u001b[0m\u001b[0;36m10\u001b[0m\u001b[0;34m,\u001b[0m \u001b[0mmax_iter\u001b[0m\u001b[0;34m=\u001b[0m\u001b[0;36m5000\u001b[0m\u001b[0;34m)\u001b[0m \u001b[0;31m#SVC(C=10, kernel='linear', random_state=42)\u001b[0m\u001b[0;34m\u001b[0m\u001b[0;34m\u001b[0m\u001b[0m\n\u001b[0;32m----> 3\u001b[0;31m \u001b[0mbest_model\u001b[0m\u001b[0;34m.\u001b[0m\u001b[0mfit\u001b[0m\u001b[0;34m(\u001b[0m\u001b[0mX_train\u001b[0m\u001b[0;34m,\u001b[0m \u001b[0my_train\u001b[0m\u001b[0;34m)\u001b[0m\u001b[0;34m\u001b[0m\u001b[0;34m\u001b[0m\u001b[0m\n\u001b[0m",
      "\u001b[0;31mNameError\u001b[0m: name 'X_train' is not defined"
     ]
    }
   ],
   "source": [
    "# train best model\n",
    "best_model = LogisticRegression(random_state=42, penalty='l1', C=10, max_iter=5000) #SVC(C=10, kernel='linear', random_state=42)\n",
    "best_model.fit(X_train, y_train)"
   ]
  },
  {
   "cell_type": "code",
   "execution_count": null,
   "metadata": {
    "scrolled": false
   },
   "outputs": [],
   "source": [
    "test_feature = pd.read_hdf(\"test_feature.h5\", \"data\")\n",
    "print(\"test_feature\", test_feature.shape)\n",
    "del test_feature[\"Pictures\"]\n",
    "test_feature.head()"
   ]
  },
  {
   "cell_type": "code",
   "execution_count": null,
   "metadata": {},
   "outputs": [],
   "source": [
    "X_test = flatten(test_feature)\n",
    "test_prediction = best_model.predict(X_test)\n",
    "pd.DataFrame(test_prediction.astype(int)).to_csv(\"submission.csv\", index=False, header=False)"
   ]
  },
  {
   "cell_type": "code",
   "execution_count": null,
   "metadata": {},
   "outputs": [],
   "source": []
  },
  {
   "cell_type": "code",
   "execution_count": null,
   "metadata": {},
   "outputs": [],
   "source": []
  }
 ],
 "metadata": {
  "kernelspec": {
   "display_name": "Python 3",
   "language": "python",
   "name": "python3"
  },
  "language_info": {
   "codemirror_mode": {
    "name": "ipython",
    "version": 3
   },
   "file_extension": ".py",
   "mimetype": "text/x-python",
   "name": "python",
   "nbconvert_exporter": "python",
   "pygments_lexer": "ipython3",
   "version": "3.6.8"
  }
 },
 "nbformat": 4,
 "nbformat_minor": 2
}

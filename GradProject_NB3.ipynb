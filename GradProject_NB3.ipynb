{
 "cells": [
  {
   "cell_type": "markdown",
   "metadata": {},
   "source": [
    "\n",
    "<h1> DS200A Computer Vision Assignment</h1>"
   ]
  },
  {
   "cell_type": "markdown",
   "metadata": {},
   "source": [
    "<h2>  Part Three: Classifier training and performance assessment. </h2>\t"
   ]
  },
  {
   "cell_type": "code",
   "execution_count": 1,
   "metadata": {},
   "outputs": [],
   "source": [
    "import numpy as np\n",
    "import pandas as pd\n",
    "import matplotlib.pyplot as plt\n",
    "import seaborn as sns\n",
    "import sklearn\n",
    "from sklearn.model_selection import train_test_split\n",
    "from sklearn.metrics import accuracy_score\n",
    "%matplotlib inline"
   ]
  },
  {
   "cell_type": "code",
   "execution_count": 2,
   "metadata": {
    "collapsed": true
   },
   "outputs": [],
   "source": [
    "# Split the data into a training set, and test set \n",
    "def df_train_test_split(df):\n",
    "    y = df.iloc[:,0]\n",
    "    X = df.iloc[:,1:]\n",
    "    X_train, X_test, y_train, y_test = train_test_split(X, y, test_size=0.2, shuffle=True, random_state=42)\n",
    "    return X_train, X_test, y_train, y_test\n",
    "\n",
    "# Calculate the accuracy percentage of the predicted values\n",
    "def accuracy(pred, actual):\n",
    "    return accuracy_score(pred, actual)\n",
    "\n",
    "# Fit model\n",
    "def fit_predict(model):\n",
    "    model.fit(X_train, y_train)\n",
    "    y_predict_on_train = model.predict(X_train)\n",
    "    y_predict_on_test = model.predict(X_test)\n",
    "    accuracy_on_train = accuracy(y_predict_on_train, y_train)\n",
    "    accuracy_on_test = accuracy(y_predict_on_test, y_test)\n",
    "    \n",
    "    y_predict_train.append(y_predict_on_train)\n",
    "    y_predict_test.append(y_predict_on_test)\n",
    "    accuracy_train.append(accuracy_on_train)\n",
    "    accuracy_test.append(accuracy_on_test)\n",
    "    classifier.append(model)\n",
    "    \n",
    "    print(\".\", end=\"\")"
   ]
  },
  {
   "cell_type": "markdown",
   "metadata": {},
   "source": [
    "### Data"
   ]
  },
  {
   "cell_type": "code",
   "execution_count": 3,
   "metadata": {},
   "outputs": [
    {
     "name": "stdout",
     "output_type": "stream",
     "text": [
      "feature (1501, 19)\n"
     ]
    },
    {
     "data": {
      "text/html": [
       "<div>\n",
       "<style scoped>\n",
       "    .dataframe tbody tr th:only-of-type {\n",
       "        vertical-align: middle;\n",
       "    }\n",
       "\n",
       "    .dataframe tbody tr th {\n",
       "        vertical-align: top;\n",
       "    }\n",
       "\n",
       "    .dataframe thead th {\n",
       "        text-align: right;\n",
       "    }\n",
       "</style>\n",
       "<table border=\"1\" class=\"dataframe\">\n",
       "  <thead>\n",
       "    <tr style=\"text-align: right;\">\n",
       "      <th></th>\n",
       "      <th>Encoding</th>\n",
       "      <th>size</th>\n",
       "      <th>mean_channel0</th>\n",
       "      <th>mean_channel1</th>\n",
       "      <th>mean_channel2</th>\n",
       "      <th>std_channel0</th>\n",
       "      <th>std_channel1</th>\n",
       "      <th>std_channel2</th>\n",
       "      <th>avg_red</th>\n",
       "      <th>avg_green</th>\n",
       "      <th>avg_blue</th>\n",
       "      <th>aspect_ratio</th>\n",
       "      <th>dog</th>\n",
       "      <th>avg_y</th>\n",
       "      <th>avg_cb</th>\n",
       "      <th>avg_cr</th>\n",
       "      <th>std_y</th>\n",
       "      <th>std_cb</th>\n",
       "      <th>std_cr</th>\n",
       "    </tr>\n",
       "  </thead>\n",
       "  <tbody>\n",
       "    <tr>\n",
       "      <th>0</th>\n",
       "      <td>0.0</td>\n",
       "      <td>195816</td>\n",
       "      <td>183.355727</td>\n",
       "      <td>176.750337</td>\n",
       "      <td>149.151581</td>\n",
       "      <td>56.406650</td>\n",
       "      <td>64.039966</td>\n",
       "      <td>79.648356</td>\n",
       "      <td>183.355727</td>\n",
       "      <td>176.750337</td>\n",
       "      <td>149.151581</td>\n",
       "      <td>0.412060</td>\n",
       "      <td>0.141087</td>\n",
       "      <td>166.791454</td>\n",
       "      <td>114.899119</td>\n",
       "      <td>132.872500</td>\n",
       "      <td>53.495949</td>\n",
       "      <td>14.785483</td>\n",
       "      <td>10.842560</td>\n",
       "    </tr>\n",
       "    <tr>\n",
       "      <th>1</th>\n",
       "      <td>0.0</td>\n",
       "      <td>221352</td>\n",
       "      <td>210.739822</td>\n",
       "      <td>189.280101</td>\n",
       "      <td>164.805242</td>\n",
       "      <td>55.293247</td>\n",
       "      <td>74.486619</td>\n",
       "      <td>70.417988</td>\n",
       "      <td>210.739822</td>\n",
       "      <td>189.280101</td>\n",
       "      <td>164.805242</td>\n",
       "      <td>0.458853</td>\n",
       "      <td>0.062046</td>\n",
       "      <td>181.672576</td>\n",
       "      <td>114.069423</td>\n",
       "      <td>139.173623</td>\n",
       "      <td>56.847182</td>\n",
       "      <td>6.279454</td>\n",
       "      <td>17.758453</td>\n",
       "    </tr>\n",
       "    <tr>\n",
       "      <th>2</th>\n",
       "      <td>0.0</td>\n",
       "      <td>194535</td>\n",
       "      <td>170.123787</td>\n",
       "      <td>147.788681</td>\n",
       "      <td>111.753798</td>\n",
       "      <td>64.391428</td>\n",
       "      <td>68.085443</td>\n",
       "      <td>89.914294</td>\n",
       "      <td>170.123787</td>\n",
       "      <td>147.788681</td>\n",
       "      <td>111.753798</td>\n",
       "      <td>0.419847</td>\n",
       "      <td>0.146858</td>\n",
       "      <td>145.131762</td>\n",
       "      <td>108.862326</td>\n",
       "      <td>140.383809</td>\n",
       "      <td>56.089846</td>\n",
       "      <td>25.872970</td>\n",
       "      <td>18.981218</td>\n",
       "    </tr>\n",
       "    <tr>\n",
       "      <th>3</th>\n",
       "      <td>0.0</td>\n",
       "      <td>200430</td>\n",
       "      <td>152.159752</td>\n",
       "      <td>132.648316</td>\n",
       "      <td>77.917303</td>\n",
       "      <td>64.525514</td>\n",
       "      <td>62.769907</td>\n",
       "      <td>83.412773</td>\n",
       "      <td>152.159752</td>\n",
       "      <td>132.648316</td>\n",
       "      <td>77.917303</td>\n",
       "      <td>0.432570</td>\n",
       "      <td>0.251385</td>\n",
       "      <td>129.573314</td>\n",
       "      <td>101.069227</td>\n",
       "      <td>140.479025</td>\n",
       "      <td>53.570175</td>\n",
       "      <td>22.471181</td>\n",
       "      <td>15.575221</td>\n",
       "    </tr>\n",
       "    <tr>\n",
       "      <th>4</th>\n",
       "      <td>0.0</td>\n",
       "      <td>208560</td>\n",
       "      <td>147.397886</td>\n",
       "      <td>150.504790</td>\n",
       "      <td>86.252963</td>\n",
       "      <td>73.855439</td>\n",
       "      <td>71.385855</td>\n",
       "      <td>94.391311</td>\n",
       "      <td>147.397886</td>\n",
       "      <td>150.504790</td>\n",
       "      <td>86.252963</td>\n",
       "      <td>0.445570</td>\n",
       "      <td>0.172066</td>\n",
       "      <td>138.168607</td>\n",
       "      <td>100.240106</td>\n",
       "      <td>131.224743</td>\n",
       "      <td>62.001119</td>\n",
       "      <td>26.996674</td>\n",
       "      <td>7.072335</td>\n",
       "    </tr>\n",
       "  </tbody>\n",
       "</table>\n",
       "</div>"
      ],
      "text/plain": [
       "   Encoding    size  mean_channel0  mean_channel1  mean_channel2  \\\n",
       "0       0.0  195816     183.355727     176.750337     149.151581   \n",
       "1       0.0  221352     210.739822     189.280101     164.805242   \n",
       "2       0.0  194535     170.123787     147.788681     111.753798   \n",
       "3       0.0  200430     152.159752     132.648316      77.917303   \n",
       "4       0.0  208560     147.397886     150.504790      86.252963   \n",
       "\n",
       "   std_channel0  std_channel1  std_channel2     avg_red   avg_green  \\\n",
       "0     56.406650     64.039966     79.648356  183.355727  176.750337   \n",
       "1     55.293247     74.486619     70.417988  210.739822  189.280101   \n",
       "2     64.391428     68.085443     89.914294  170.123787  147.788681   \n",
       "3     64.525514     62.769907     83.412773  152.159752  132.648316   \n",
       "4     73.855439     71.385855     94.391311  147.397886  150.504790   \n",
       "\n",
       "     avg_blue  aspect_ratio       dog       avg_y      avg_cb      avg_cr  \\\n",
       "0  149.151581      0.412060  0.141087  166.791454  114.899119  132.872500   \n",
       "1  164.805242      0.458853  0.062046  181.672576  114.069423  139.173623   \n",
       "2  111.753798      0.419847  0.146858  145.131762  108.862326  140.383809   \n",
       "3   77.917303      0.432570  0.251385  129.573314  101.069227  140.479025   \n",
       "4   86.252963      0.445570  0.172066  138.168607  100.240106  131.224743   \n",
       "\n",
       "       std_y     std_cb     std_cr  \n",
       "0  53.495949  14.785483  10.842560  \n",
       "1  56.847182   6.279454  17.758453  \n",
       "2  56.089846  25.872970  18.981218  \n",
       "3  53.570175  22.471181  15.575221  \n",
       "4  62.001119  26.996674   7.072335  "
      ]
     },
     "execution_count": 3,
     "metadata": {},
     "output_type": "execute_result"
    }
   ],
   "source": [
    "# Read data from nb2\n",
    "feature = pd.read_hdf(\"feature.h5\", \"data\")\n",
    "print(\"feature\", feature.shape)\n",
    "feature.head()"
   ]
  },
  {
   "cell_type": "code",
   "execution_count": 4,
   "metadata": {},
   "outputs": [
    {
     "name": "stdout",
     "output_type": "stream",
     "text": [
      "X_train (1200, 18)\n",
      "X_test (1200, 18)\n",
      "y_train (301,)\n",
      "y_test (301,)\n"
     ]
    }
   ],
   "source": [
    "# Split the data\n",
    "X_train, X_test, y_train, y_test = df_train_test_split(feature)\n",
    "print(\"X_train\", X_train.shape)\n",
    "print(\"X_test\", X_train.shape)\n",
    "print(\"y_train\", y_test.shape)\n",
    "print(\"y_test\", y_test.shape)"
   ]
  },
  {
   "cell_type": "markdown",
   "metadata": {},
   "source": [
    "<h3>  Train models using all of the following methods below. Be sure to drop the actual image column, and the encoding</h3>\tTake note of the differences in accuracy, and methods.\n"
   ]
  },
  {
   "cell_type": "markdown",
   "metadata": {},
   "source": [
    "### Logistic Regression"
   ]
  },
  {
   "cell_type": "code",
   "execution_count": 5,
   "metadata": {
    "collapsed": true
   },
   "outputs": [
    {
     "name": "stdout",
     "output_type": "stream",
     "text": [
      "........."
     ]
    }
   ],
   "source": [
    "from sklearn.linear_model import LogisticRegression\n",
    "\n",
    "y_predict_train = []\n",
    "y_predict_test = []\n",
    "accuracy_train = []\n",
    "accuracy_test = []\n",
    "classifier = []\n",
    "\n",
    "Logistic = LogisticRegression(random_state=42, solver='lbfgs', C=0.1, max_iter=5000)\n",
    "fit_predict(Logistic)\n",
    "Logistic = LogisticRegression(random_state=42, solver='lbfgs', C=1, max_iter=5000)\n",
    "fit_predict(Logistic)\n",
    "Logistic = LogisticRegression(random_state=42, solver='lbfgs', C=10, max_iter=5000)\n",
    "fit_predict(Logistic)\n",
    "\n",
    "Logistic = LogisticRegression(random_state=42, solver='lbfgs', multi_class='multinomial', C=0.1, max_iter=5000)\n",
    "fit_predict(Logistic)\n",
    "Logistic = LogisticRegression(random_state=42, solver='lbfgs', multi_class='multinomial', C=1, max_iter=5000)\n",
    "fit_predict(Logistic)\n",
    "Logistic = LogisticRegression(random_state=42, solver='lbfgs', multi_class='multinomial', C=10, max_iter=5000)\n",
    "fit_predict(Logistic)\n",
    "\n",
    "Logistic = LogisticRegression(random_state=42, penalty='l1', C=0.1, max_iter=5000)\n",
    "fit_predict(Logistic)\n",
    "Logistic = LogisticRegression(random_state=42, penalty='l1', C=1, max_iter=5000)\n",
    "fit_predict(Logistic)\n",
    "Logistic = LogisticRegression(random_state=42, penalty='l1', C=10, max_iter=5000)\n",
    "fit_predict(Logistic)"
   ]
  },
  {
   "cell_type": "code",
   "execution_count": 6,
   "metadata": {},
   "outputs": [
    {
     "data": {
      "text/html": [
       "<div>\n",
       "<style scoped>\n",
       "    .dataframe tbody tr th:only-of-type {\n",
       "        vertical-align: middle;\n",
       "    }\n",
       "\n",
       "    .dataframe tbody tr th {\n",
       "        vertical-align: top;\n",
       "    }\n",
       "\n",
       "    .dataframe thead th {\n",
       "        text-align: right;\n",
       "    }\n",
       "</style>\n",
       "<table border=\"1\" class=\"dataframe\">\n",
       "  <thead>\n",
       "    <tr style=\"text-align: right;\">\n",
       "      <th></th>\n",
       "      <th>accuracy_train</th>\n",
       "      <th>accuracy_test</th>\n",
       "      <th>classifier</th>\n",
       "    </tr>\n",
       "  </thead>\n",
       "  <tbody>\n",
       "    <tr>\n",
       "      <th>0</th>\n",
       "      <td>0.318333</td>\n",
       "      <td>0.335548</td>\n",
       "      <td>LogisticRegression(C=0.1, class_weight=None, d...</td>\n",
       "    </tr>\n",
       "    <tr>\n",
       "      <th>1</th>\n",
       "      <td>0.318333</td>\n",
       "      <td>0.315615</td>\n",
       "      <td>LogisticRegression(C=1, class_weight=None, dua...</td>\n",
       "    </tr>\n",
       "    <tr>\n",
       "      <th>2</th>\n",
       "      <td>0.316667</td>\n",
       "      <td>0.315615</td>\n",
       "      <td>LogisticRegression(C=10, class_weight=None, du...</td>\n",
       "    </tr>\n",
       "    <tr>\n",
       "      <th>3</th>\n",
       "      <td>0.313333</td>\n",
       "      <td>0.322259</td>\n",
       "      <td>LogisticRegression(C=0.1, class_weight=None, d...</td>\n",
       "    </tr>\n",
       "    <tr>\n",
       "      <th>4</th>\n",
       "      <td>0.239167</td>\n",
       "      <td>0.249169</td>\n",
       "      <td>LogisticRegression(C=1, class_weight=None, dua...</td>\n",
       "    </tr>\n",
       "  </tbody>\n",
       "</table>\n",
       "</div>"
      ],
      "text/plain": [
       "   accuracy_train  accuracy_test  \\\n",
       "0        0.318333       0.335548   \n",
       "1        0.318333       0.315615   \n",
       "2        0.316667       0.315615   \n",
       "3        0.313333       0.322259   \n",
       "4        0.239167       0.249169   \n",
       "\n",
       "                                          classifier  \n",
       "0  LogisticRegression(C=0.1, class_weight=None, d...  \n",
       "1  LogisticRegression(C=1, class_weight=None, dua...  \n",
       "2  LogisticRegression(C=10, class_weight=None, du...  \n",
       "3  LogisticRegression(C=0.1, class_weight=None, d...  \n",
       "4  LogisticRegression(C=1, class_weight=None, dua...  "
      ]
     },
     "execution_count": 6,
     "metadata": {},
     "output_type": "execute_result"
    }
   ],
   "source": [
    "logistic = pd.DataFrame({\n",
    "    \"accuracy_train\": accuracy_train,\n",
    "    \"accuracy_test\": accuracy_test,\n",
    "    \"classifier\": classifier})\n",
    "logistic.head()"
   ]
  },
  {
   "cell_type": "code",
   "execution_count": 7,
   "metadata": {},
   "outputs": [
    {
     "data": {
      "text/html": [
       "<div>\n",
       "<style scoped>\n",
       "    .dataframe tbody tr th:only-of-type {\n",
       "        vertical-align: middle;\n",
       "    }\n",
       "\n",
       "    .dataframe tbody tr th {\n",
       "        vertical-align: top;\n",
       "    }\n",
       "\n",
       "    .dataframe thead th {\n",
       "        text-align: right;\n",
       "    }\n",
       "</style>\n",
       "<table border=\"1\" class=\"dataframe\">\n",
       "  <thead>\n",
       "    <tr style=\"text-align: right;\">\n",
       "      <th></th>\n",
       "      <th>pred</th>\n",
       "      <th>actual</th>\n",
       "    </tr>\n",
       "  </thead>\n",
       "  <tbody>\n",
       "    <tr>\n",
       "      <th>0</th>\n",
       "      <td>9.0</td>\n",
       "      <td>18.0</td>\n",
       "    </tr>\n",
       "    <tr>\n",
       "      <th>1</th>\n",
       "      <td>9.0</td>\n",
       "      <td>18.0</td>\n",
       "    </tr>\n",
       "    <tr>\n",
       "      <th>2</th>\n",
       "      <td>4.0</td>\n",
       "      <td>18.0</td>\n",
       "    </tr>\n",
       "    <tr>\n",
       "      <th>3</th>\n",
       "      <td>12.0</td>\n",
       "      <td>18.0</td>\n",
       "    </tr>\n",
       "    <tr>\n",
       "      <th>4</th>\n",
       "      <td>6.0</td>\n",
       "      <td>18.0</td>\n",
       "    </tr>\n",
       "  </tbody>\n",
       "</table>\n",
       "</div>"
      ],
      "text/plain": [
       "   pred  actual\n",
       "0   9.0    18.0\n",
       "1   9.0    18.0\n",
       "2   4.0    18.0\n",
       "3  12.0    18.0\n",
       "4   6.0    18.0"
      ]
     },
     "execution_count": 7,
     "metadata": {},
     "output_type": "execute_result"
    }
   ],
   "source": [
    "for i in range(len(classifier)):\n",
    "    logistic_y_predict = pd.DataFrame({\n",
    "        \"pred\": y_predict_test[i],\n",
    "        \"actual\": y_test.iloc[i]})\n",
    "    logistic_y_predict.to_hdf(\"NB3_df/logistic_y_predict\" + \"_c\" + str(i + 1) + \".h5\", \"data\", mode=\"w\")\n",
    "logistic_y_predict.head()"
   ]
  },
  {
   "cell_type": "code",
   "execution_count": 8,
   "metadata": {},
   "outputs": [
    {
     "data": {
      "image/png": "[encoded data removed]",
      "text/plain": [
       "<Figure size 720x576 with 1 Axes>"
      ]
     },
     "metadata": {
      "needs_background": "light"
     },
     "output_type": "display_data"
    },
    {
     "data": {
      "image/png": "[encoded data removed]",
      "text/plain": [
       "<Figure size 720x576 with 1 Axes>"
      ]
     },
     "metadata": {
      "needs_background": "light"
     },
     "output_type": "display_data"
    }
   ],
   "source": [
    "plt.figure(figsize=(10, 8))\n",
    "plt.bar(np.arange(len(logistic)) - 0.2, logistic.accuracy_train, width=0.4, align='center')\n",
    "plt.bar(np.arange(len(logistic)) + 0.2, logistic.accuracy_test, width=0.4, align='center')\n",
    "\n",
    "plt.title(\"Logistic Regression\")\n",
    "plt.xlabel(\"Model\")\n",
    "plt.ylabel(\"Accuracy\")\n",
    "plt.ylim(0, 0.5)\n",
    "plt.legend([\"train\", \"test\"])\n",
    "plt.savefig(\"NB3_graph/Logistic1.jpg\")\n",
    "plt.figure(figsize=(10, 8))\n",
    "plt.plot(np.arange(len(logistic)), logistic.accuracy_train)\n",
    "plt.plot(np.arange(len(logistic)), logistic.accuracy_test)\n",
    "plt.title(\"Logistic Regression\")\n",
    "plt.xlabel(\"Model\")\n",
    "plt.ylabel(\"Accuracy\")\n",
    "plt.ylim(0, 0.5)\n",
    "plt.legend([\"train\", \"test\"])\n",
    "plt.savefig(\"NB3_graph/Logistic2.jpg\")"
   ]
  },
  {
   "cell_type": "code",
   "execution_count": 9,
   "metadata": {},
   "outputs": [
    {
     "name": "stdout",
     "output_type": "stream",
     "text": [
      "Best accuracy on test: LogisticRegression(C=1, class_weight=None, dual=False, fit_intercept=True,\n",
      "          intercept_scaling=1, max_iter=5000, multi_class='ovr', n_jobs=1,\n",
      "          penalty='l1', random_state=42, solver='liblinear', tol=0.0001,\n",
      "          verbose=0, warm_start=False)\n",
      "Train accuracy: 0.41833333333333333\n",
      "Test accuracy: 0.3787375415282392\n"
     ]
    }
   ],
   "source": [
    "max_pos = np.argmax(logistic.accuracy_test.values)\n",
    "print(\"Best accuracy on test: {}\".format(logistic.classifier[max_pos]))\n",
    "print(\"Train accuracy: {}\".format(logistic.accuracy_train[max_pos]))\n",
    "print(\"Test accuracy: {}\".format(logistic.accuracy_test[max_pos]))"
   ]
  },
  {
   "cell_type": "markdown",
   "metadata": {},
   "source": [
    "### K-nearest Neighbors"
   ]
  },
  {
   "cell_type": "code",
   "execution_count": 10,
   "metadata": {
    "collapsed": true
   },
   "outputs": [
    {
     "name": "stdout",
     "output_type": "stream",
     "text": [
      ".................................................."
     ]
    }
   ],
   "source": [
    "from sklearn.neighbors import KNeighborsClassifier\n",
    "\n",
    "accuracy_train = []\n",
    "accuracy_test = []\n",
    "classifier = []\n",
    "\n",
    "n_neighbors = np.arange(5, 500, 10)\n",
    "for k in n_neighbors:\n",
    "    KNN = KNeighborsClassifier(n_neighbors=k)\n",
    "    fit_predict(KNN)"
   ]
  },
  {
   "cell_type": "code",
   "execution_count": 11,
   "metadata": {},
   "outputs": [
    {
     "data": {
      "text/html": [
       "<div>\n",
       "<style scoped>\n",
       "    .dataframe tbody tr th:only-of-type {\n",
       "        vertical-align: middle;\n",
       "    }\n",
       "\n",
       "    .dataframe tbody tr th {\n",
       "        vertical-align: top;\n",
       "    }\n",
       "\n",
       "    .dataframe thead th {\n",
       "        text-align: right;\n",
       "    }\n",
       "</style>\n",
       "<table border=\"1\" class=\"dataframe\">\n",
       "  <thead>\n",
       "    <tr style=\"text-align: right;\">\n",
       "      <th></th>\n",
       "      <th>accuracy_train</th>\n",
       "      <th>accuracy_test</th>\n",
       "      <th>classifier</th>\n",
       "    </tr>\n",
       "  </thead>\n",
       "  <tbody>\n",
       "    <tr>\n",
       "      <th>0</th>\n",
       "      <td>0.404167</td>\n",
       "      <td>0.159468</td>\n",
       "      <td>KNeighborsClassifier(algorithm='auto', leaf_si...</td>\n",
       "    </tr>\n",
       "    <tr>\n",
       "      <th>1</th>\n",
       "      <td>0.297500</td>\n",
       "      <td>0.149502</td>\n",
       "      <td>KNeighborsClassifier(algorithm='auto', leaf_si...</td>\n",
       "    </tr>\n",
       "    <tr>\n",
       "      <th>2</th>\n",
       "      <td>0.273333</td>\n",
       "      <td>0.169435</td>\n",
       "      <td>KNeighborsClassifier(algorithm='auto', leaf_si...</td>\n",
       "    </tr>\n",
       "    <tr>\n",
       "      <th>3</th>\n",
       "      <td>0.264167</td>\n",
       "      <td>0.199336</td>\n",
       "      <td>KNeighborsClassifier(algorithm='auto', leaf_si...</td>\n",
       "    </tr>\n",
       "    <tr>\n",
       "      <th>4</th>\n",
       "      <td>0.252500</td>\n",
       "      <td>0.196013</td>\n",
       "      <td>KNeighborsClassifier(algorithm='auto', leaf_si...</td>\n",
       "    </tr>\n",
       "  </tbody>\n",
       "</table>\n",
       "</div>"
      ],
      "text/plain": [
       "   accuracy_train  accuracy_test  \\\n",
       "0        0.404167       0.159468   \n",
       "1        0.297500       0.149502   \n",
       "2        0.273333       0.169435   \n",
       "3        0.264167       0.199336   \n",
       "4        0.252500       0.196013   \n",
       "\n",
       "                                          classifier  \n",
       "0  KNeighborsClassifier(algorithm='auto', leaf_si...  \n",
       "1  KNeighborsClassifier(algorithm='auto', leaf_si...  \n",
       "2  KNeighborsClassifier(algorithm='auto', leaf_si...  \n",
       "3  KNeighborsClassifier(algorithm='auto', leaf_si...  \n",
       "4  KNeighborsClassifier(algorithm='auto', leaf_si...  "
      ]
     },
     "execution_count": 11,
     "metadata": {},
     "output_type": "execute_result"
    }
   ],
   "source": [
    "knn = pd.DataFrame({\n",
    "    \"accuracy_train\": accuracy_train,\n",
    "    \"accuracy_test\": accuracy_test,\n",
    "    \"classifier\": classifier})\n",
    "knn.head()"
   ]
  },
  {
   "cell_type": "code",
   "execution_count": 12,
   "metadata": {},
   "outputs": [
    {
     "data": {
      "text/html": [
       "<div>\n",
       "<style scoped>\n",
       "    .dataframe tbody tr th:only-of-type {\n",
       "        vertical-align: middle;\n",
       "    }\n",
       "\n",
       "    .dataframe tbody tr th {\n",
       "        vertical-align: top;\n",
       "    }\n",
       "\n",
       "    .dataframe thead th {\n",
       "        text-align: right;\n",
       "    }\n",
       "</style>\n",
       "<table border=\"1\" class=\"dataframe\">\n",
       "  <thead>\n",
       "    <tr style=\"text-align: right;\">\n",
       "      <th></th>\n",
       "      <th>pred</th>\n",
       "      <th>actual</th>\n",
       "    </tr>\n",
       "  </thead>\n",
       "  <tbody>\n",
       "    <tr>\n",
       "      <th>0</th>\n",
       "      <td>9.0</td>\n",
       "      <td>10.0</td>\n",
       "    </tr>\n",
       "    <tr>\n",
       "      <th>1</th>\n",
       "      <td>9.0</td>\n",
       "      <td>10.0</td>\n",
       "    </tr>\n",
       "    <tr>\n",
       "      <th>2</th>\n",
       "      <td>0.0</td>\n",
       "      <td>10.0</td>\n",
       "    </tr>\n",
       "    <tr>\n",
       "      <th>3</th>\n",
       "      <td>12.0</td>\n",
       "      <td>10.0</td>\n",
       "    </tr>\n",
       "    <tr>\n",
       "      <th>4</th>\n",
       "      <td>9.0</td>\n",
       "      <td>10.0</td>\n",
       "    </tr>\n",
       "  </tbody>\n",
       "</table>\n",
       "</div>"
      ],
      "text/plain": [
       "   pred  actual\n",
       "0   9.0    10.0\n",
       "1   9.0    10.0\n",
       "2   0.0    10.0\n",
       "3  12.0    10.0\n",
       "4   9.0    10.0"
      ]
     },
     "execution_count": 12,
     "metadata": {},
     "output_type": "execute_result"
    }
   ],
   "source": [
    "for i in range(len(classifier)):\n",
    "    knn_y_predict = pd.DataFrame({\n",
    "        \"pred\": y_predict_test[i],\n",
    "        \"actual\": y_test.iloc[i]})\n",
    "    knn_y_predict.to_hdf(\"NB3_df/knn_y_predict\" + \"_c\" + str(i + 1) + \".h5\", \"data\", mode=\"w\")\n",
    "knn_y_predict.head()"
   ]
  },
  {
   "cell_type": "code",
   "execution_count": 13,
   "metadata": {},
   "outputs": [
    {
     "data": {
      "image/png": "[encoded data removed]",
      "text/plain": [
       "<Figure size 720x576 with 1 Axes>"
      ]
     },
     "metadata": {
      "needs_background": "light"
     },
     "output_type": "display_data"
    },
    {
     "data": {
      "image/png": "[encoded data removed]",
      "text/plain": [
       "<Figure size 720x576 with 1 Axes>"
      ]
     },
     "metadata": {
      "needs_background": "light"
     },
     "output_type": "display_data"
    }
   ],
   "source": [
    "plt.figure(figsize=(10, 8))\n",
    "plt.bar(np.arange(len(knn)) - 0.2, knn.accuracy_train, width=0.4, align='center')\n",
    "plt.bar(np.arange(len(knn)) + 0.2, knn.accuracy_test, width=0.4, align='center')\n",
    "plt.title(\"KNN\")\n",
    "plt.xlabel(\"Model\")\n",
    "plt.ylabel(\"Accuracy\")\n",
    "plt.ylim(0, 0.45)\n",
    "plt.legend([\"train\", \"test\"])\n",
    "plt.savefig(\"NB3_graph/KNN1.jpg\")\n",
    "\n",
    "plt.figure(figsize=(10, 8))\n",
    "plt.plot(np.arange(len(knn)), knn.accuracy_train)\n",
    "plt.plot(np.arange(len(knn)), knn.accuracy_test)\n",
    "plt.title(\"KNN\")\n",
    "plt.xlabel(\"Model\")\n",
    "plt.ylabel(\"Accuracy\")\n",
    "plt.ylim(0, 0.45)\n",
    "plt.legend([\"train\", \"test\"])\n",
    "plt.savefig(\"NB3_graph/KNN2.jpg\")"
   ]
  },
  {
   "cell_type": "code",
   "execution_count": 14,
   "metadata": {},
   "outputs": [
    {
     "name": "stdout",
     "output_type": "stream",
     "text": [
      "Best accuracy on test: KNeighborsClassifier(algorithm='auto', leaf_size=30, metric='minkowski',\n",
      "           metric_params=None, n_jobs=1, n_neighbors=135, p=2,\n",
      "           weights='uniform')\n",
      "Train accuracy: 0.22916666666666666\n",
      "Test accuracy: 0.21926910299003322\n"
     ]
    }
   ],
   "source": [
    "max_pos = np.argmax(knn.accuracy_test.values)\n",
    "print(\"Best accuracy on test: {}\".format(knn.classifier[max_pos]))\n",
    "print(\"Train accuracy: {}\".format(knn.accuracy_train[max_pos]))\n",
    "print(\"Test accuracy: {}\".format(knn.accuracy_test[max_pos]))"
   ]
  },
  {
   "cell_type": "markdown",
   "metadata": {},
   "source": [
    "### Classification Tree"
   ]
  },
  {
   "cell_type": "code",
   "execution_count": 15,
   "metadata": {
    "collapsed": true
   },
   "outputs": [
    {
     "name": "stdout",
     "output_type": "stream",
     "text": [
      "............................"
     ]
    }
   ],
   "source": [
    "from sklearn.tree import DecisionTreeClassifier\n",
    "\n",
    "accuracy_train = []\n",
    "accuracy_test = []\n",
    "classifier = []\n",
    "\n",
    "for c in ['gini', 'entropy']:\n",
    "    for s in ['best', 'random']:\n",
    "        for min_s in np.arange(3, 10):\n",
    "            DecisionTree = DecisionTreeClassifier(criterion=c, splitter = s, min_samples_split=min_s)\n",
    "            fit_predict(DecisionTree)"
   ]
  },
  {
   "cell_type": "code",
   "execution_count": 16,
   "metadata": {},
   "outputs": [
    {
     "data": {
      "text/html": [
       "<div>\n",
       "<style scoped>\n",
       "    .dataframe tbody tr th:only-of-type {\n",
       "        vertical-align: middle;\n",
       "    }\n",
       "\n",
       "    .dataframe tbody tr th {\n",
       "        vertical-align: top;\n",
       "    }\n",
       "\n",
       "    .dataframe thead th {\n",
       "        text-align: right;\n",
       "    }\n",
       "</style>\n",
       "<table border=\"1\" class=\"dataframe\">\n",
       "  <thead>\n",
       "    <tr style=\"text-align: right;\">\n",
       "      <th></th>\n",
       "      <th>accuracy_train</th>\n",
       "      <th>accuracy_test</th>\n",
       "      <th>classifier</th>\n",
       "    </tr>\n",
       "  </thead>\n",
       "  <tbody>\n",
       "    <tr>\n",
       "      <th>0</th>\n",
       "      <td>0.930000</td>\n",
       "      <td>0.275748</td>\n",
       "      <td>DecisionTreeClassifier(class_weight=None, crit...</td>\n",
       "    </tr>\n",
       "    <tr>\n",
       "      <th>1</th>\n",
       "      <td>0.878333</td>\n",
       "      <td>0.275748</td>\n",
       "      <td>DecisionTreeClassifier(class_weight=None, crit...</td>\n",
       "    </tr>\n",
       "    <tr>\n",
       "      <th>2</th>\n",
       "      <td>0.827500</td>\n",
       "      <td>0.282392</td>\n",
       "      <td>DecisionTreeClassifier(class_weight=None, crit...</td>\n",
       "    </tr>\n",
       "    <tr>\n",
       "      <th>3</th>\n",
       "      <td>0.780833</td>\n",
       "      <td>0.279070</td>\n",
       "      <td>DecisionTreeClassifier(class_weight=None, crit...</td>\n",
       "    </tr>\n",
       "    <tr>\n",
       "      <th>4</th>\n",
       "      <td>0.750000</td>\n",
       "      <td>0.308970</td>\n",
       "      <td>DecisionTreeClassifier(class_weight=None, crit...</td>\n",
       "    </tr>\n",
       "  </tbody>\n",
       "</table>\n",
       "</div>"
      ],
      "text/plain": [
       "   accuracy_train  accuracy_test  \\\n",
       "0        0.930000       0.275748   \n",
       "1        0.878333       0.275748   \n",
       "2        0.827500       0.282392   \n",
       "3        0.780833       0.279070   \n",
       "4        0.750000       0.308970   \n",
       "\n",
       "                                          classifier  \n",
       "0  DecisionTreeClassifier(class_weight=None, crit...  \n",
       "1  DecisionTreeClassifier(class_weight=None, crit...  \n",
       "2  DecisionTreeClassifier(class_weight=None, crit...  \n",
       "3  DecisionTreeClassifier(class_weight=None, crit...  \n",
       "4  DecisionTreeClassifier(class_weight=None, crit...  "
      ]
     },
     "execution_count": 16,
     "metadata": {},
     "output_type": "execute_result"
    }
   ],
   "source": [
    "dt = pd.DataFrame({\n",
    "    \"accuracy_train\": accuracy_train,\n",
    "    \"accuracy_test\": accuracy_test,\n",
    "    \"classifier\": classifier})\n",
    "dt.head()"
   ]
  },
  {
   "cell_type": "code",
   "execution_count": 17,
   "metadata": {},
   "outputs": [
    {
     "data": {
      "text/html": [
       "<div>\n",
       "<style scoped>\n",
       "    .dataframe tbody tr th:only-of-type {\n",
       "        vertical-align: middle;\n",
       "    }\n",
       "\n",
       "    .dataframe tbody tr th {\n",
       "        vertical-align: top;\n",
       "    }\n",
       "\n",
       "    .dataframe thead th {\n",
       "        text-align: right;\n",
       "    }\n",
       "</style>\n",
       "<table border=\"1\" class=\"dataframe\">\n",
       "  <thead>\n",
       "    <tr style=\"text-align: right;\">\n",
       "      <th></th>\n",
       "      <th>pred</th>\n",
       "      <th>actual</th>\n",
       "    </tr>\n",
       "  </thead>\n",
       "  <tbody>\n",
       "    <tr>\n",
       "      <th>0</th>\n",
       "      <td>9.0</td>\n",
       "      <td>19.0</td>\n",
       "    </tr>\n",
       "    <tr>\n",
       "      <th>1</th>\n",
       "      <td>9.0</td>\n",
       "      <td>19.0</td>\n",
       "    </tr>\n",
       "    <tr>\n",
       "      <th>2</th>\n",
       "      <td>0.0</td>\n",
       "      <td>19.0</td>\n",
       "    </tr>\n",
       "    <tr>\n",
       "      <th>3</th>\n",
       "      <td>9.0</td>\n",
       "      <td>19.0</td>\n",
       "    </tr>\n",
       "    <tr>\n",
       "      <th>4</th>\n",
       "      <td>18.0</td>\n",
       "      <td>19.0</td>\n",
       "    </tr>\n",
       "  </tbody>\n",
       "</table>\n",
       "</div>"
      ],
      "text/plain": [
       "   pred  actual\n",
       "0   9.0    19.0\n",
       "1   9.0    19.0\n",
       "2   0.0    19.0\n",
       "3   9.0    19.0\n",
       "4  18.0    19.0"
      ]
     },
     "execution_count": 17,
     "metadata": {},
     "output_type": "execute_result"
    }
   ],
   "source": [
    "for i in range(len(classifier)):\n",
    "    dt_y_predict = pd.DataFrame({\n",
    "        \"pred\": y_predict_test[i],\n",
    "        \"actual\": y_test.iloc[i]})\n",
    "    dt_y_predict.to_hdf(\"NB3_df/dt_y_predict\" + \"_c\" + str(i + 1) + \".h5\", \"data\", mode=\"w\")\n",
    "dt_y_predict.head()"
   ]
  },
  {
   "cell_type": "code",
   "execution_count": 18,
   "metadata": {},
   "outputs": [
    {
     "data": {
      "image/png": "[encoded data removed]",
      "text/plain": [
       "<Figure size 720x576 with 1 Axes>"
      ]
     },
     "metadata": {
      "needs_background": "light"
     },
     "output_type": "display_data"
    },
    {
     "data": {
      "image/png": "[encoded data removed]",
      "text/plain": [
       "<Figure size 720x576 with 1 Axes>"
      ]
     },
     "metadata": {
      "needs_background": "light"
     },
     "output_type": "display_data"
    }
   ],
   "source": [
    "plt.figure(figsize=(10, 8))\n",
    "plt.bar(np.arange(len(dt)) - 0.2, dt.accuracy_train, width=0.4, align='center')\n",
    "plt.bar(np.arange(len(dt)) + 0.2, dt.accuracy_test, width=0.4, align='center')\n",
    "plt.title(\"Decision Tree\")\n",
    "plt.xlabel(\"Model\")\n",
    "plt.ylabel(\"Accuracy\")\n",
    "plt.ylim(0, 1)\n",
    "plt.legend([\"train\", \"test\"])\n",
    "plt.savefig(\"NB3_graph/Decision Tree1.jpg\")\n",
    "\n",
    "plt.figure(figsize=(10, 8))\n",
    "plt.plot(np.arange(len(dt)), dt.accuracy_train)\n",
    "plt.plot(np.arange(len(dt)), dt.accuracy_test)\n",
    "plt.title(\"Decision Tree\")\n",
    "plt.xlabel(\"Model\")\n",
    "plt.ylabel(\"Accuracy\")\n",
    "plt.ylim(0, 1)\n",
    "plt.legend([\"train\", \"test\"])\n",
    "plt.savefig(\"NB3_graph/Decision Tree2.jpg\")"
   ]
  },
  {
   "cell_type": "code",
   "execution_count": 19,
   "metadata": {},
   "outputs": [
    {
     "name": "stdout",
     "output_type": "stream",
     "text": [
      "Best accuracy on test: DecisionTreeClassifier(class_weight=None, criterion='gini', max_depth=None,\n",
      "            max_features=None, max_leaf_nodes=None,\n",
      "            min_impurity_decrease=0.0, min_impurity_split=None,\n",
      "            min_samples_leaf=1, min_samples_split=7,\n",
      "            min_weight_fraction_leaf=0.0, presort=False, random_state=None,\n",
      "            splitter='best')\n",
      "Train accuracy: 0.75\n",
      "Test accuracy: 0.3089700996677741\n"
     ]
    }
   ],
   "source": [
    "max_pos = np.argmax(dt.accuracy_test.values)\n",
    "print(\"Best accuracy on test: {}\".format(dt.classifier[max_pos]))\n",
    "print(\"Train accuracy: {}\".format(dt.accuracy_train[max_pos]))\n",
    "print(\"Test accuracy: {}\".format(dt.accuracy_test[max_pos]))"
   ]
  },
  {
   "cell_type": "markdown",
   "metadata": {},
   "source": [
    "### Random Forest"
   ]
  },
  {
   "cell_type": "code",
   "execution_count": 20,
   "metadata": {
    "collapsed": true
   },
   "outputs": [
    {
     "name": "stdout",
     "output_type": "stream",
     "text": [
      "...................................."
     ]
    }
   ],
   "source": [
    "from sklearn.ensemble import RandomForestClassifier\n",
    "\n",
    "accuracy_train = []\n",
    "accuracy_test = []\n",
    "classifier = []\n",
    "\n",
    "for n in np.arange(10, 100, 10):\n",
    "    for d in np.arange(1, 5):\n",
    "        RandomForest = RandomForestClassifier(n_estimators=n, max_depth=d)\n",
    "        fit_predict(RandomForest)"
   ]
  },
  {
   "cell_type": "code",
   "execution_count": 21,
   "metadata": {},
   "outputs": [
    {
     "data": {
      "text/html": [
       "<div>\n",
       "<style scoped>\n",
       "    .dataframe tbody tr th:only-of-type {\n",
       "        vertical-align: middle;\n",
       "    }\n",
       "\n",
       "    .dataframe tbody tr th {\n",
       "        vertical-align: top;\n",
       "    }\n",
       "\n",
       "    .dataframe thead th {\n",
       "        text-align: right;\n",
       "    }\n",
       "</style>\n",
       "<table border=\"1\" class=\"dataframe\">\n",
       "  <thead>\n",
       "    <tr style=\"text-align: right;\">\n",
       "      <th></th>\n",
       "      <th>accuracy_train</th>\n",
       "      <th>accuracy_test</th>\n",
       "      <th>classifier</th>\n",
       "    </tr>\n",
       "  </thead>\n",
       "  <tbody>\n",
       "    <tr>\n",
       "      <th>0</th>\n",
       "      <td>0.267500</td>\n",
       "      <td>0.239203</td>\n",
       "      <td>(DecisionTreeClassifier(class_weight=None, cri...</td>\n",
       "    </tr>\n",
       "    <tr>\n",
       "      <th>1</th>\n",
       "      <td>0.260833</td>\n",
       "      <td>0.222591</td>\n",
       "      <td>(DecisionTreeClassifier(class_weight=None, cri...</td>\n",
       "    </tr>\n",
       "    <tr>\n",
       "      <th>2</th>\n",
       "      <td>0.283333</td>\n",
       "      <td>0.235880</td>\n",
       "      <td>(DecisionTreeClassifier(class_weight=None, cri...</td>\n",
       "    </tr>\n",
       "    <tr>\n",
       "      <th>3</th>\n",
       "      <td>0.352500</td>\n",
       "      <td>0.315615</td>\n",
       "      <td>(DecisionTreeClassifier(class_weight=None, cri...</td>\n",
       "    </tr>\n",
       "    <tr>\n",
       "      <th>4</th>\n",
       "      <td>0.254167</td>\n",
       "      <td>0.225914</td>\n",
       "      <td>(DecisionTreeClassifier(class_weight=None, cri...</td>\n",
       "    </tr>\n",
       "  </tbody>\n",
       "</table>\n",
       "</div>"
      ],
      "text/plain": [
       "   accuracy_train  accuracy_test  \\\n",
       "0        0.267500       0.239203   \n",
       "1        0.260833       0.222591   \n",
       "2        0.283333       0.235880   \n",
       "3        0.352500       0.315615   \n",
       "4        0.254167       0.225914   \n",
       "\n",
       "                                          classifier  \n",
       "0  (DecisionTreeClassifier(class_weight=None, cri...  \n",
       "1  (DecisionTreeClassifier(class_weight=None, cri...  \n",
       "2  (DecisionTreeClassifier(class_weight=None, cri...  \n",
       "3  (DecisionTreeClassifier(class_weight=None, cri...  \n",
       "4  (DecisionTreeClassifier(class_weight=None, cri...  "
      ]
     },
     "execution_count": 21,
     "metadata": {},
     "output_type": "execute_result"
    }
   ],
   "source": [
    "rf = pd.DataFrame({\n",
    "    \"accuracy_train\": accuracy_train,\n",
    "    \"accuracy_test\": accuracy_test,\n",
    "    \"classifier\": classifier})\n",
    "rf.head()"
   ]
  },
  {
   "cell_type": "code",
   "execution_count": 22,
   "metadata": {},
   "outputs": [
    {
     "data": {
      "text/html": [
       "<div>\n",
       "<style scoped>\n",
       "    .dataframe tbody tr th:only-of-type {\n",
       "        vertical-align: middle;\n",
       "    }\n",
       "\n",
       "    .dataframe tbody tr th {\n",
       "        vertical-align: top;\n",
       "    }\n",
       "\n",
       "    .dataframe thead th {\n",
       "        text-align: right;\n",
       "    }\n",
       "</style>\n",
       "<table border=\"1\" class=\"dataframe\">\n",
       "  <thead>\n",
       "    <tr style=\"text-align: right;\">\n",
       "      <th></th>\n",
       "      <th>pred</th>\n",
       "      <th>actual</th>\n",
       "    </tr>\n",
       "  </thead>\n",
       "  <tbody>\n",
       "    <tr>\n",
       "      <th>0</th>\n",
       "      <td>9.0</td>\n",
       "      <td>4.0</td>\n",
       "    </tr>\n",
       "    <tr>\n",
       "      <th>1</th>\n",
       "      <td>9.0</td>\n",
       "      <td>4.0</td>\n",
       "    </tr>\n",
       "    <tr>\n",
       "      <th>2</th>\n",
       "      <td>0.0</td>\n",
       "      <td>4.0</td>\n",
       "    </tr>\n",
       "    <tr>\n",
       "      <th>3</th>\n",
       "      <td>9.0</td>\n",
       "      <td>4.0</td>\n",
       "    </tr>\n",
       "    <tr>\n",
       "      <th>4</th>\n",
       "      <td>9.0</td>\n",
       "      <td>4.0</td>\n",
       "    </tr>\n",
       "  </tbody>\n",
       "</table>\n",
       "</div>"
      ],
      "text/plain": [
       "   pred  actual\n",
       "0   9.0     4.0\n",
       "1   9.0     4.0\n",
       "2   0.0     4.0\n",
       "3   9.0     4.0\n",
       "4   9.0     4.0"
      ]
     },
     "execution_count": 22,
     "metadata": {},
     "output_type": "execute_result"
    }
   ],
   "source": [
    "for i in range(len(classifier)):\n",
    "    rf_y_predict = pd.DataFrame({\n",
    "        \"pred\": y_predict_test[i],\n",
    "        \"actual\": y_test.iloc[i]})\n",
    "    rf_y_predict.to_hdf(\"NB3_df/rf_y_predict\" + \"_c\" + str(i + 1) + \".h5\", \"data\", mode=\"w\")\n",
    "rf_y_predict.head()"
   ]
  },
  {
   "cell_type": "code",
   "execution_count": 23,
   "metadata": {},
   "outputs": [
    {
     "data": {
      "image/png": "[encoded data removed]",
      "text/plain": [
       "<Figure size 720x576 with 1 Axes>"
      ]
     },
     "metadata": {
      "needs_background": "light"
     },
     "output_type": "display_data"
    },
    {
     "data": {
      "image/png": "[encoded data removed]",
      "text/plain": [
       "<Figure size 720x576 with 1 Axes>"
      ]
     },
     "metadata": {
      "needs_background": "light"
     },
     "output_type": "display_data"
    }
   ],
   "source": [
    "plt.figure(figsize=(10, 8))\n",
    "plt.bar(np.arange(len(rf)) - 0.2, rf.accuracy_train, width=0.4, align='center')\n",
    "plt.bar(np.arange(len(rf)) + 0.2, rf.accuracy_test, width=0.4, align='center')\n",
    "plt.title(\"Random Forest\")\n",
    "plt.xlabel(\"Model\")\n",
    "plt.ylabel(\"Accuracy\")\n",
    "plt.ylim(0, 0.4)\n",
    "plt.legend([\"train\", \"test\"])\n",
    "plt.savefig(\"NB3_graph/Random Forest1.jpg\")\n",
    "\n",
    "plt.figure(figsize=(10, 8))\n",
    "plt.plot(np.arange(len(rf)), rf.accuracy_train)\n",
    "plt.plot(np.arange(len(rf)), rf.accuracy_test)\n",
    "plt.title(\"Random Forest\")\n",
    "plt.xlabel(\"Model\")\n",
    "plt.ylabel(\"Accuracy\")\n",
    "plt.ylim(0, 0.4)\n",
    "plt.legend([\"train\", \"test\"])\n",
    "plt.savefig(\"NB3_graph/Random Forest2.jpg\")"
   ]
  },
  {
   "cell_type": "code",
   "execution_count": 24,
   "metadata": {},
   "outputs": [
    {
     "name": "stdout",
     "output_type": "stream",
     "text": [
      "Best accuracy on test: RandomForestClassifier(bootstrap=True, class_weight=None, criterion='gini',\n",
      "            max_depth=4, max_features='auto', max_leaf_nodes=None,\n",
      "            min_impurity_decrease=0.0, min_impurity_split=None,\n",
      "            min_samples_leaf=1, min_samples_split=2,\n",
      "            min_weight_fraction_leaf=0.0, n_estimators=20, n_jobs=1,\n",
      "            oob_score=False, random_state=None, verbose=0,\n",
      "            warm_start=False)\n",
      "Train accuracy: 0.3491666666666667\n",
      "Test accuracy: 0.32558139534883723\n"
     ]
    }
   ],
   "source": [
    "max_pos = np.argmax(rf.accuracy_test.values)\n",
    "print(\"Best accuracy on test: {}\".format(rf.classifier[max_pos]))\n",
    "print(\"Train accuracy: {}\".format(rf.accuracy_train[max_pos]))\n",
    "print(\"Test accuracy: {}\".format(rf.accuracy_test[max_pos]))"
   ]
  },
  {
   "cell_type": "markdown",
   "metadata": {},
   "source": [
    "### Support Vector Machine"
   ]
  },
  {
   "cell_type": "code",
   "execution_count": null,
   "metadata": {
    "collapsed": true
   },
   "outputs": [],
   "source": [
    "from sklearn.svm import SVC\n",
    "\n",
    "train_accuracy = []\n",
    "test_accuracy = []\n",
    "classifier = []\n",
    "\n",
    "for k in ['linear', 'rbf', 'sigmoid', 'rbf']:\n",
    "    for c in [1, 10, 100]:\n",
    "        SVM = SVC(C=c, kernel=k, random_state=42)\n",
    "        fit_predict(SVM)"
   ]
  },
  {
   "cell_type": "code",
   "execution_count": null,
   "metadata": {},
   "outputs": [],
   "source": [
    "svm = pd.DataFrame({\n",
    "    \"accuracy_train\": accuracy_train,\n",
    "    \"accuracy_test\": accuracy_test,\n",
    "    \"classifier\": classifier})\n",
    "svm.head()"
   ]
  },
  {
   "cell_type": "code",
   "execution_count": null,
   "metadata": {},
   "outputs": [],
   "source": [
    "for i in range(len(classifier)):\n",
    "    svm_y_predict = pd.DataFrame({\n",
    "        \"pred\": y_predict_test[i],\n",
    "        \"actual\": y_test.iloc[i]})\n",
    "    svm_y_predict.to_hdf(\"NB3_df/svm_y_predict\" + \"_c\" + str(i + 1) + \".h5\", \"data\", mode=\"w\")\n",
    "svm_y_predict.head()"
   ]
  },
  {
   "cell_type": "code",
   "execution_count": null,
   "metadata": {},
   "outputs": [],
   "source": [
    "plt.figure(figsize=(10, 8))\n",
    "plt.bar(np.arange(len(svm)) - 0.2, svm.accuracy_train, width=0.4, align='center')\n",
    "plt.bar(np.arange(len(svm)) + 0.2, svm.accuracy_train, width=0.4, align='center')\n",
    "\n",
    "plt.title(\"SVM\")\n",
    "plt.ylabel(\"Model\")\n",
    "plt.ylabel(\"Accuracy\")\n",
    "plt.ylim(0, 0.45)\n",
    "plt.legend([\"train\", \"test\"])\n",
    "plt.savefig(\"SVM1.jpg\")\n",
    "\n",
    "plt.figure(figsize=(10, 8))\n",
    "plt.plot(np.arange(len(svm)), svm.accuracy_train)\n",
    "plt.plot(np.arange(len(svm)), svm.accuracy_train)\n",
    "plt.title(\"SVM\")\n",
    "plt.xlabel(\"Model\")\n",
    "plt.ylabel(\"Accuracy\")\n",
    "plt.ylim(0, 0.5)\n",
    "plt.legend([\"train\", \"test\"])\n",
    "plt.savefig(\"SVM2.jpg\")"
   ]
  },
  {
   "cell_type": "code",
   "execution_count": null,
   "metadata": {},
   "outputs": [],
   "source": [
    "max_pos = np.argmax(svm.accuracy_test.values)\n",
    "print(\"Best accuracy on test: {}\".format(random_forest.classifier[max_pos]))\n",
    "print(\"Train accuracy: {}\".format(random_forest.accuracy_train[max_pos]))\n",
    "print(\"Test accuracy: {}\".format(random_forest.accuracy_test[max_pos]))"
   ]
  }
 ],
 "metadata": {
  "kernelspec": {
   "display_name": "Python 3",
   "language": "python",
   "name": "python3"
  },
  "language_info": {
   "codemirror_mode": {
    "name": "ipython",
    "version": 3
   },
   "file_extension": ".py",
   "mimetype": "text/x-python",
   "name": "python",
   "nbconvert_exporter": "python",
   "pygments_lexer": "ipython3",
   "version": "3.6.5"
  }
 },
 "nbformat": 4,
 "nbformat_minor": 2
}

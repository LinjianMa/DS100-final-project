{
 "cells": [
  {
   "cell_type": "markdown",
   "metadata": {},
   "source": [
    "\n",
    "<h1> DS200A Computer Vision Assignment</h1>"
   ]
  },
  {
   "cell_type": "markdown",
   "metadata": {},
   "source": [
    "<h2>  Part Three: Classifier training and performance assessment. </h2>\t"
   ]
  },
  {
   "cell_type": "code",
   "execution_count": 32,
   "metadata": {},
   "outputs": [],
   "source": [
    "import numpy as np\n",
    "import pandas as pd\n",
    "import matplotlib.pyplot as plt\n",
    "import seaborn as sns\n",
    "import sklearn\n",
    "from sklearn.model_selection import train_test_split\n",
    "from sklearn.metrics import accuracy_score\n",
    "import os\n",
    "%matplotlib inline"
   ]
  },
  {
   "cell_type": "markdown",
   "metadata": {},
   "source": [
    "#### Util functions"
   ]
  },
  {
   "cell_type": "code",
   "execution_count": 33,
   "metadata": {},
   "outputs": [],
   "source": [
    "def df_train_test_split(df):\n",
    "    '''\n",
    "    Split the data into a training set, and test set \n",
    "    '''\n",
    "    y = df.iloc[:,0]\n",
    "    X = df.iloc[:,1:]\n",
    "    X_train, X_test, y_train, y_test = train_test_split(X, y, test_size=0.1, shuffle=True, random_state=62)\n",
    "    return X_train, X_test, y_train, y_test\n",
    "\n",
    "def accuracy(pred, actual):\n",
    "    '''\n",
    "    Calculate the accuracy percentage of the predicted values\n",
    "    '''\n",
    "    return accuracy_score(pred, actual)\n",
    "\n",
    "def fit_predict(model):\n",
    "    '''\n",
    "    Fit the model and calculate the accuracy on both training and test set    \n",
    "    '''\n",
    "    model.fit(X_train, y_train)\n",
    "    y_predict_on_train = model.predict(X_train)\n",
    "    y_predict_on_test = model.predict(X_test)\n",
    "    accuracy_on_train = accuracy(y_predict_on_train, y_train)\n",
    "    accuracy_on_test = accuracy(y_predict_on_test, y_test)\n",
    "    \n",
    "    y_predict_train.append(y_predict_on_train)\n",
    "    y_predict_test.append(y_predict_on_test)\n",
    "    accuracy_train.append(accuracy_on_train)\n",
    "    accuracy_test.append(accuracy_on_test)\n",
    "    classifier.append(model)\n",
    "    \n",
    "    print(\".\", end=\"\")\n",
    "\n",
    "def flatten(X):\n",
    "    '''\n",
    "    flatten the elements in X which is an array    \n",
    "    '''\n",
    "    X = np.array(X)\n",
    "    X_flatten = []\n",
    "    for i in range(len(X)):\n",
    "        list_ = np.append(X[i][:-2], X[i][-2]) # flatten the svd array\n",
    "        list_ = np.append(list_, X[i][-1]) # flatten the canny_svd array        \n",
    "        X_flatten.append(list_)\n",
    "    return np.array(X_flatten)\n",
    "\n",
    "def print_best_model(model):\n",
    "    '''\n",
    "    print the statistics related to the best chosen model\n",
    "    '''\n",
    "    max_pos = np.argmax(model.accuracy_test.values)\n",
    "    print(\"Best hyperparameter in the model is {}\".format(model.classifier[max_pos]))\n",
    "    print(\"Train accuracy: {}\".format(model.accuracy_train[max_pos]))\n",
    "    print(\"Test accuracy: {}\".format(model.accuracy_test[max_pos]))\n",
    "    \n",
    "def bar_plot(model, title=\"Logistic Regression\", filename=\"Logistic\", ymax=0.5):\n",
    "    '''\n",
    "    bar plot to compare different hyperparameters in a model\n",
    "    '''\n",
    "    try:\n",
    "        os.stat(\"NB3_graph\")\n",
    "    except:\n",
    "        os.mkdir(\"NB3_graph\")  \n",
    "\n",
    "    plt.figure(figsize=(10, 10))\n",
    "    plt.bar(np.arange(len(model)) - 0.2, model.accuracy_train, width=0.4, align='center')\n",
    "    plt.bar(np.arange(len(model)) + 0.2, model.accuracy_test, width=0.4, align='center')\n",
    "    plt.xticks(range(len(parameters)), parameters, rotation='vertical')\n",
    "    plt.tight_layout()\n",
    "    plt.title(title)\n",
    "    plt.xlabel(\"Model\")\n",
    "    plt.ylabel(\"Accuracy\")\n",
    "    plt.ylim(0, ymax)\n",
    "    plt.legend([\"train\", \"test\"])\n",
    "    plt.savefig(\"NB3_graph/\"+filename+\".pdf\")"
   ]
  },
  {
   "cell_type": "markdown",
   "metadata": {},
   "source": [
    "#### Load the data from nb2"
   ]
  },
  {
   "cell_type": "code",
   "execution_count": 34,
   "metadata": {
    "scrolled": false
   },
   "outputs": [
    {
     "name": "stdout",
     "output_type": "stream",
     "text": [
      "feature (1501, 24)\n"
     ]
    },
    {
     "data": {
      "text/html": [
       "<div>\n",
       "<style scoped>\n",
       "    .dataframe tbody tr th:only-of-type {\n",
       "        vertical-align: middle;\n",
       "    }\n",
       "\n",
       "    .dataframe tbody tr th {\n",
       "        vertical-align: top;\n",
       "    }\n",
       "\n",
       "    .dataframe thead th {\n",
       "        text-align: right;\n",
       "    }\n",
       "</style>\n",
       "<table border=\"1\" class=\"dataframe\">\n",
       "  <thead>\n",
       "    <tr style=\"text-align: right;\">\n",
       "      <th></th>\n",
       "      <th>Encoding</th>\n",
       "      <th>size</th>\n",
       "      <th>avg_red</th>\n",
       "      <th>avg_green</th>\n",
       "      <th>avg_blue</th>\n",
       "      <th>avg_gray</th>\n",
       "      <th>std_red</th>\n",
       "      <th>std_green</th>\n",
       "      <th>std_blue</th>\n",
       "      <th>std_grey</th>\n",
       "      <th>...</th>\n",
       "      <th>avg_y</th>\n",
       "      <th>avg_cb</th>\n",
       "      <th>avg_cr</th>\n",
       "      <th>std_y</th>\n",
       "      <th>std_cb</th>\n",
       "      <th>std_cr</th>\n",
       "      <th>avg_hog</th>\n",
       "      <th>std_hog</th>\n",
       "      <th>svd</th>\n",
       "      <th>canny_svd</th>\n",
       "    </tr>\n",
       "  </thead>\n",
       "  <tbody>\n",
       "    <tr>\n",
       "      <th>0</th>\n",
       "      <td>0.0</td>\n",
       "      <td>0.195816</td>\n",
       "      <td>0.719042</td>\n",
       "      <td>0.693139</td>\n",
       "      <td>0.584908</td>\n",
       "      <td>0.794578</td>\n",
       "      <td>0.221203</td>\n",
       "      <td>0.251137</td>\n",
       "      <td>0.312346</td>\n",
       "      <td>0.354078</td>\n",
       "      <td>...</td>\n",
       "      <td>0.654084</td>\n",
       "      <td>0.450585</td>\n",
       "      <td>0.521069</td>\n",
       "      <td>0.209788</td>\n",
       "      <td>0.057982</td>\n",
       "      <td>0.042520</td>\n",
       "      <td>0.069350</td>\n",
       "      <td>0.086811</td>\n",
       "      <td>[-0.9411725618842666, 0.008966214811940402, -0...</td>\n",
       "      <td>[-4.131265285862971e-06, -2.5885726321449823e-07]</td>\n",
       "    </tr>\n",
       "    <tr>\n",
       "      <th>1</th>\n",
       "      <td>0.0</td>\n",
       "      <td>0.221352</td>\n",
       "      <td>0.826431</td>\n",
       "      <td>0.742275</td>\n",
       "      <td>0.646295</td>\n",
       "      <td>0.920591</td>\n",
       "      <td>0.216836</td>\n",
       "      <td>0.292104</td>\n",
       "      <td>0.276149</td>\n",
       "      <td>0.315872</td>\n",
       "      <td>...</td>\n",
       "      <td>0.712441</td>\n",
       "      <td>0.447331</td>\n",
       "      <td>0.545779</td>\n",
       "      <td>0.222930</td>\n",
       "      <td>0.024625</td>\n",
       "      <td>0.069641</td>\n",
       "      <td>0.074722</td>\n",
       "      <td>0.082233</td>\n",
       "      <td>[-0.9452094848143205, -0.1284002312458272, -0....</td>\n",
       "      <td>[-4.131265285862971e-06, -2.5885726321449823e-07]</td>\n",
       "    </tr>\n",
       "    <tr>\n",
       "      <th>2</th>\n",
       "      <td>0.0</td>\n",
       "      <td>0.194535</td>\n",
       "      <td>0.667152</td>\n",
       "      <td>0.579563</td>\n",
       "      <td>0.438250</td>\n",
       "      <td>0.696626</td>\n",
       "      <td>0.252515</td>\n",
       "      <td>0.267002</td>\n",
       "      <td>0.352605</td>\n",
       "      <td>0.448270</td>\n",
       "      <td>...</td>\n",
       "      <td>0.569144</td>\n",
       "      <td>0.426911</td>\n",
       "      <td>0.550525</td>\n",
       "      <td>0.219960</td>\n",
       "      <td>0.101463</td>\n",
       "      <td>0.074436</td>\n",
       "      <td>0.068713</td>\n",
       "      <td>0.085799</td>\n",
       "      <td>[-0.9194251189689553, -0.04598015488281377, 0....</td>\n",
       "      <td>[-4.131265285862971e-06, -2.5885726321449823e-07]</td>\n",
       "    </tr>\n",
       "    <tr>\n",
       "      <th>3</th>\n",
       "      <td>0.0</td>\n",
       "      <td>0.200430</td>\n",
       "      <td>0.596705</td>\n",
       "      <td>0.520189</td>\n",
       "      <td>0.305558</td>\n",
       "      <td>0.672473</td>\n",
       "      <td>0.253041</td>\n",
       "      <td>0.246156</td>\n",
       "      <td>0.327109</td>\n",
       "      <td>0.379313</td>\n",
       "      <td>...</td>\n",
       "      <td>0.508131</td>\n",
       "      <td>0.396350</td>\n",
       "      <td>0.550898</td>\n",
       "      <td>0.210079</td>\n",
       "      <td>0.088122</td>\n",
       "      <td>0.061079</td>\n",
       "      <td>0.074841</td>\n",
       "      <td>0.080767</td>\n",
       "      <td>[-0.8658767978779213, 0.005307098609816353, 0....</td>\n",
       "      <td>[0.017231397222499324, -0.012404929949506977]</td>\n",
       "    </tr>\n",
       "    <tr>\n",
       "      <th>4</th>\n",
       "      <td>0.0</td>\n",
       "      <td>0.208560</td>\n",
       "      <td>0.578031</td>\n",
       "      <td>0.590215</td>\n",
       "      <td>0.338247</td>\n",
       "      <td>0.624215</td>\n",
       "      <td>0.289629</td>\n",
       "      <td>0.279945</td>\n",
       "      <td>0.370162</td>\n",
       "      <td>0.447237</td>\n",
       "      <td>...</td>\n",
       "      <td>0.541838</td>\n",
       "      <td>0.393098</td>\n",
       "      <td>0.514607</td>\n",
       "      <td>0.243142</td>\n",
       "      <td>0.105869</td>\n",
       "      <td>0.027735</td>\n",
       "      <td>0.069497</td>\n",
       "      <td>0.086694</td>\n",
       "      <td>[-0.887418659157311, 0.015802314068069624, 0.1...</td>\n",
       "      <td>[-4.131265285862971e-06, -2.5885726321449823e-07]</td>\n",
       "    </tr>\n",
       "  </tbody>\n",
       "</table>\n",
       "<p>5 rows × 23 columns</p>\n",
       "</div>"
      ],
      "text/plain": [
       "   Encoding      size   avg_red  avg_green  avg_blue  avg_gray   std_red  \\\n",
       "0       0.0  0.195816  0.719042   0.693139  0.584908  0.794578  0.221203   \n",
       "1       0.0  0.221352  0.826431   0.742275  0.646295  0.920591  0.216836   \n",
       "2       0.0  0.194535  0.667152   0.579563  0.438250  0.696626  0.252515   \n",
       "3       0.0  0.200430  0.596705   0.520189  0.305558  0.672473  0.253041   \n",
       "4       0.0  0.208560  0.578031   0.590215  0.338247  0.624215  0.289629   \n",
       "\n",
       "   std_green  std_blue  std_grey  ...     avg_y    avg_cb    avg_cr     std_y  \\\n",
       "0   0.251137  0.312346  0.354078  ...  0.654084  0.450585  0.521069  0.209788   \n",
       "1   0.292104  0.276149  0.315872  ...  0.712441  0.447331  0.545779  0.222930   \n",
       "2   0.267002  0.352605  0.448270  ...  0.569144  0.426911  0.550525  0.219960   \n",
       "3   0.246156  0.327109  0.379313  ...  0.508131  0.396350  0.550898  0.210079   \n",
       "4   0.279945  0.370162  0.447237  ...  0.541838  0.393098  0.514607  0.243142   \n",
       "\n",
       "     std_cb    std_cr   avg_hog   std_hog  \\\n",
       "0  0.057982  0.042520  0.069350  0.086811   \n",
       "1  0.024625  0.069641  0.074722  0.082233   \n",
       "2  0.101463  0.074436  0.068713  0.085799   \n",
       "3  0.088122  0.061079  0.074841  0.080767   \n",
       "4  0.105869  0.027735  0.069497  0.086694   \n",
       "\n",
       "                                                 svd  \\\n",
       "0  [-0.9411725618842666, 0.008966214811940402, -0...   \n",
       "1  [-0.9452094848143205, -0.1284002312458272, -0....   \n",
       "2  [-0.9194251189689553, -0.04598015488281377, 0....   \n",
       "3  [-0.8658767978779213, 0.005307098609816353, 0....   \n",
       "4  [-0.887418659157311, 0.015802314068069624, 0.1...   \n",
       "\n",
       "                                           canny_svd  \n",
       "0  [-4.131265285862971e-06, -2.5885726321449823e-07]  \n",
       "1  [-4.131265285862971e-06, -2.5885726321449823e-07]  \n",
       "2  [-4.131265285862971e-06, -2.5885726321449823e-07]  \n",
       "3      [0.017231397222499324, -0.012404929949506977]  \n",
       "4  [-4.131265285862971e-06, -2.5885726321449823e-07]  \n",
       "\n",
       "[5 rows x 23 columns]"
      ]
     },
     "execution_count": 34,
     "metadata": {},
     "output_type": "execute_result"
    }
   ],
   "source": [
    "feature = pd.read_hdf(\"feature.h5\", \"data\")\n",
    "print(\"feature\", feature.shape)\n",
    "del feature[\"Pictures\"]\n",
    "feature.head()"
   ]
  },
  {
   "cell_type": "markdown",
   "metadata": {},
   "source": [
    "#### Split the whole feature dataset into training set and test set"
   ]
  },
  {
   "cell_type": "code",
   "execution_count": 35,
   "metadata": {},
   "outputs": [
    {
     "name": "stdout",
     "output_type": "stream",
     "text": [
      "X_train (1350, 27)\n",
      "X_test (151, 27)\n",
      "y_train (1350,)\n",
      "y_test (151,)\n"
     ]
    }
   ],
   "source": [
    "X_train, X_test, y_train, y_test = df_train_test_split(feature)\n",
    "X_train = flatten(X_train)\n",
    "X_test = flatten(X_test)\n",
    "print(\"X_train\", X_train.shape)\n",
    "print(\"X_test\", X_test.shape)\n",
    "print(\"y_train\", y_train.shape)\n",
    "print(\"y_test\", y_test.shape)"
   ]
  },
  {
   "cell_type": "markdown",
   "metadata": {},
   "source": [
    "<h3>  Train models using all of the following methods below. Be sure to drop the actual image column, and the encoding</h3>\tTake note of the differences in accuracy, and methods.\n"
   ]
  },
  {
   "cell_type": "markdown",
   "metadata": {},
   "source": [
    "### Logistic Regression"
   ]
  },
  {
   "cell_type": "code",
   "execution_count": 36,
   "metadata": {
    "scrolled": true
   },
   "outputs": [
    {
     "name": "stdout",
     "output_type": "stream",
     "text": [
      "."
     ]
    },
    {
     "name": "stderr",
     "output_type": "stream",
     "text": [
      "/anaconda2/envs/py36/lib/python3.6/site-packages/sklearn/linear_model/logistic.py:460: FutureWarning: Default multi_class will be changed to 'auto' in 0.22. Specify the multi_class option to silence this warning.\n",
      "  \"this warning.\", FutureWarning)\n"
     ]
    },
    {
     "name": "stdout",
     "output_type": "stream",
     "text": [
      ".."
     ]
    },
    {
     "name": "stderr",
     "output_type": "stream",
     "text": [
      "/anaconda2/envs/py36/lib/python3.6/site-packages/sklearn/linear_model/logistic.py:433: FutureWarning: Default solver will be changed to 'lbfgs' in 0.22. Specify a solver to silence this warning.\n",
      "  FutureWarning)\n",
      "/anaconda2/envs/py36/lib/python3.6/site-packages/sklearn/linear_model/logistic.py:460: FutureWarning: Default multi_class will be changed to 'auto' in 0.22. Specify the multi_class option to silence this warning.\n",
      "  \"this warning.\", FutureWarning)\n",
      "/anaconda2/envs/py36/lib/python3.6/site-packages/sklearn/linear_model/logistic.py:460: FutureWarning: Default multi_class will be changed to 'auto' in 0.22. Specify the multi_class option to silence this warning.\n",
      "  \"this warning.\", FutureWarning)\n"
     ]
    },
    {
     "name": "stdout",
     "output_type": "stream",
     "text": [
      ".."
     ]
    },
    {
     "name": "stderr",
     "output_type": "stream",
     "text": [
      "/anaconda2/envs/py36/lib/python3.6/site-packages/sklearn/linear_model/logistic.py:433: FutureWarning: Default solver will be changed to 'lbfgs' in 0.22. Specify a solver to silence this warning.\n",
      "  FutureWarning)\n",
      "/anaconda2/envs/py36/lib/python3.6/site-packages/sklearn/linear_model/logistic.py:460: FutureWarning: Default multi_class will be changed to 'auto' in 0.22. Specify the multi_class option to silence this warning.\n",
      "  \"this warning.\", FutureWarning)\n"
     ]
    },
    {
     "name": "stdout",
     "output_type": "stream",
     "text": [
      "."
     ]
    },
    {
     "name": "stderr",
     "output_type": "stream",
     "text": [
      "/anaconda2/envs/py36/lib/python3.6/site-packages/sklearn/linear_model/logistic.py:460: FutureWarning: Default multi_class will be changed to 'auto' in 0.22. Specify the multi_class option to silence this warning.\n",
      "  \"this warning.\", FutureWarning)\n"
     ]
    },
    {
     "name": "stdout",
     "output_type": "stream",
     "text": [
      ".."
     ]
    },
    {
     "name": "stderr",
     "output_type": "stream",
     "text": [
      "/anaconda2/envs/py36/lib/python3.6/site-packages/sklearn/linear_model/logistic.py:433: FutureWarning: Default solver will be changed to 'lbfgs' in 0.22. Specify a solver to silence this warning.\n",
      "  FutureWarning)\n",
      "/anaconda2/envs/py36/lib/python3.6/site-packages/sklearn/linear_model/logistic.py:460: FutureWarning: Default multi_class will be changed to 'auto' in 0.22. Specify the multi_class option to silence this warning.\n",
      "  \"this warning.\", FutureWarning)\n"
     ]
    },
    {
     "name": "stdout",
     "output_type": "stream",
     "text": [
      "."
     ]
    }
   ],
   "source": [
    "from sklearn.linear_model import LogisticRegression\n",
    "\n",
    "y_predict_train = []\n",
    "y_predict_test = []\n",
    "accuracy_train = []\n",
    "accuracy_test = []\n",
    "classifier = []\n",
    "parameters = []\n",
    "\n",
    "sns.set(font_scale=1.5)\n",
    "\n",
    "for c in [0.1, 1, 10]:\n",
    "    Logistic = LogisticRegression(random_state=42, solver='lbfgs', C=c, max_iter=5000)\n",
    "    fit_predict(Logistic)\n",
    "    parameters.append('C='+str(c)+',solver=lbfgs')\n",
    "    Logistic = LogisticRegression(random_state=42, solver='lbfgs', multi_class='multinomial', C=c, max_iter=5000)\n",
    "    fit_predict(Logistic)\n",
    "    parameters.append('C='+str(c)+',solver=lbfgs,'+'multinomial')\n",
    "    Logistic = LogisticRegression(random_state=42, penalty='l1', C=c, max_iter=5000)\n",
    "    fit_predict(Logistic)\n",
    "    parameters.append('C='+str(c)+',penalty=l1')\n"
   ]
  },
  {
   "cell_type": "code",
   "execution_count": 37,
   "metadata": {},
   "outputs": [
    {
     "data": {
      "text/html": [
       "<div>\n",
       "<style scoped>\n",
       "    .dataframe tbody tr th:only-of-type {\n",
       "        vertical-align: middle;\n",
       "    }\n",
       "\n",
       "    .dataframe tbody tr th {\n",
       "        vertical-align: top;\n",
       "    }\n",
       "\n",
       "    .dataframe thead th {\n",
       "        text-align: right;\n",
       "    }\n",
       "</style>\n",
       "<table border=\"1\" class=\"dataframe\">\n",
       "  <thead>\n",
       "    <tr style=\"text-align: right;\">\n",
       "      <th></th>\n",
       "      <th>accuracy_train</th>\n",
       "      <th>accuracy_test</th>\n",
       "      <th>classifier</th>\n",
       "    </tr>\n",
       "  </thead>\n",
       "  <tbody>\n",
       "    <tr>\n",
       "      <th>0</th>\n",
       "      <td>0.271852</td>\n",
       "      <td>0.298013</td>\n",
       "      <td>LogisticRegression(C=0.1, class_weight=None, d...</td>\n",
       "    </tr>\n",
       "    <tr>\n",
       "      <th>1</th>\n",
       "      <td>0.285185</td>\n",
       "      <td>0.304636</td>\n",
       "      <td>LogisticRegression(C=0.1, class_weight=None, d...</td>\n",
       "    </tr>\n",
       "    <tr>\n",
       "      <th>2</th>\n",
       "      <td>0.270370</td>\n",
       "      <td>0.317881</td>\n",
       "      <td>LogisticRegression(C=0.1, class_weight=None, d...</td>\n",
       "    </tr>\n",
       "    <tr>\n",
       "      <th>3</th>\n",
       "      <td>0.371111</td>\n",
       "      <td>0.370861</td>\n",
       "      <td>LogisticRegression(C=1, class_weight=None, dua...</td>\n",
       "    </tr>\n",
       "    <tr>\n",
       "      <th>4</th>\n",
       "      <td>0.384444</td>\n",
       "      <td>0.377483</td>\n",
       "      <td>LogisticRegression(C=1, class_weight=None, dua...</td>\n",
       "    </tr>\n",
       "  </tbody>\n",
       "</table>\n",
       "</div>"
      ],
      "text/plain": [
       "   accuracy_train  accuracy_test  \\\n",
       "0        0.271852       0.298013   \n",
       "1        0.285185       0.304636   \n",
       "2        0.270370       0.317881   \n",
       "3        0.371111       0.370861   \n",
       "4        0.384444       0.377483   \n",
       "\n",
       "                                          classifier  \n",
       "0  LogisticRegression(C=0.1, class_weight=None, d...  \n",
       "1  LogisticRegression(C=0.1, class_weight=None, d...  \n",
       "2  LogisticRegression(C=0.1, class_weight=None, d...  \n",
       "3  LogisticRegression(C=1, class_weight=None, dua...  \n",
       "4  LogisticRegression(C=1, class_weight=None, dua...  "
      ]
     },
     "execution_count": 37,
     "metadata": {},
     "output_type": "execute_result"
    }
   ],
   "source": [
    "logistic = pd.DataFrame({\n",
    "    \"accuracy_train\": accuracy_train,\n",
    "    \"accuracy_test\": accuracy_test,\n",
    "    \"classifier\": classifier})\n",
    "logistic.head()"
   ]
  },
  {
   "cell_type": "code",
   "execution_count": 38,
   "metadata": {},
   "outputs": [
    {
     "data": {
      "image/png": "[encoded data removed]",
      "text/plain": [
       "<Figure size 720x720 with 1 Axes>"
      ]
     },
     "metadata": {},
     "output_type": "display_data"
    }
   ],
   "source": [
    "bar_plot(logistic, title=\"Logistic Regression\", filename=\"Logistic\", ymax=0.5)"
   ]
  },
  {
   "cell_type": "code",
   "execution_count": 39,
   "metadata": {
    "scrolled": true
   },
   "outputs": [
    {
     "name": "stdout",
     "output_type": "stream",
     "text": [
      "Best hyperparameter in the model is LogisticRegression(C=10, class_weight=None, dual=False, fit_intercept=True,\n",
      "          intercept_scaling=1, max_iter=5000, multi_class='multinomial',\n",
      "          n_jobs=None, penalty='l2', random_state=42, solver='lbfgs',\n",
      "          tol=0.0001, verbose=0, warm_start=False)\n",
      "Train accuracy: 0.4674074074074074\n",
      "Test accuracy: 0.3973509933774834\n"
     ]
    }
   ],
   "source": [
    "#Print the model with best hyperparameters and its train/test accuracy\n",
    "print_best_model(logistic)"
   ]
  },
  {
   "cell_type": "markdown",
   "metadata": {},
   "source": [
    "### K-nearest Neighbors"
   ]
  },
  {
   "cell_type": "code",
   "execution_count": 40,
   "metadata": {},
   "outputs": [
    {
     "name": "stdout",
     "output_type": "stream",
     "text": [
      ".............."
     ]
    }
   ],
   "source": [
    "from sklearn.neighbors import KNeighborsClassifier\n",
    "\n",
    "y_predict_train = []\n",
    "y_predict_test = []\n",
    "accuracy_train = []\n",
    "accuracy_test = []\n",
    "classifier = []\n",
    "parameters = []\n",
    "\n",
    "n_neighbors = np.arange(3, 30, 2)\n",
    "for k in n_neighbors:\n",
    "    KNN = KNeighborsClassifier(n_neighbors=k)\n",
    "    parameters.append('n_neighbors='+str(k))\n",
    "    fit_predict(KNN)"
   ]
  },
  {
   "cell_type": "code",
   "execution_count": 41,
   "metadata": {},
   "outputs": [
    {
     "data": {
      "text/html": [
       "<div>\n",
       "<style scoped>\n",
       "    .dataframe tbody tr th:only-of-type {\n",
       "        vertical-align: middle;\n",
       "    }\n",
       "\n",
       "    .dataframe tbody tr th {\n",
       "        vertical-align: top;\n",
       "    }\n",
       "\n",
       "    .dataframe thead th {\n",
       "        text-align: right;\n",
       "    }\n",
       "</style>\n",
       "<table border=\"1\" class=\"dataframe\">\n",
       "  <thead>\n",
       "    <tr style=\"text-align: right;\">\n",
       "      <th></th>\n",
       "      <th>accuracy_train</th>\n",
       "      <th>accuracy_test</th>\n",
       "      <th>classifier</th>\n",
       "    </tr>\n",
       "  </thead>\n",
       "  <tbody>\n",
       "    <tr>\n",
       "      <th>0</th>\n",
       "      <td>0.602222</td>\n",
       "      <td>0.384106</td>\n",
       "      <td>KNeighborsClassifier(algorithm='auto', leaf_si...</td>\n",
       "    </tr>\n",
       "    <tr>\n",
       "      <th>1</th>\n",
       "      <td>0.540000</td>\n",
       "      <td>0.390728</td>\n",
       "      <td>KNeighborsClassifier(algorithm='auto', leaf_si...</td>\n",
       "    </tr>\n",
       "    <tr>\n",
       "      <th>2</th>\n",
       "      <td>0.497778</td>\n",
       "      <td>0.344371</td>\n",
       "      <td>KNeighborsClassifier(algorithm='auto', leaf_si...</td>\n",
       "    </tr>\n",
       "    <tr>\n",
       "      <th>3</th>\n",
       "      <td>0.477778</td>\n",
       "      <td>0.364238</td>\n",
       "      <td>KNeighborsClassifier(algorithm='auto', leaf_si...</td>\n",
       "    </tr>\n",
       "    <tr>\n",
       "      <th>4</th>\n",
       "      <td>0.471111</td>\n",
       "      <td>0.410596</td>\n",
       "      <td>KNeighborsClassifier(algorithm='auto', leaf_si...</td>\n",
       "    </tr>\n",
       "  </tbody>\n",
       "</table>\n",
       "</div>"
      ],
      "text/plain": [
       "   accuracy_train  accuracy_test  \\\n",
       "0        0.602222       0.384106   \n",
       "1        0.540000       0.390728   \n",
       "2        0.497778       0.344371   \n",
       "3        0.477778       0.364238   \n",
       "4        0.471111       0.410596   \n",
       "\n",
       "                                          classifier  \n",
       "0  KNeighborsClassifier(algorithm='auto', leaf_si...  \n",
       "1  KNeighborsClassifier(algorithm='auto', leaf_si...  \n",
       "2  KNeighborsClassifier(algorithm='auto', leaf_si...  \n",
       "3  KNeighborsClassifier(algorithm='auto', leaf_si...  \n",
       "4  KNeighborsClassifier(algorithm='auto', leaf_si...  "
      ]
     },
     "execution_count": 41,
     "metadata": {},
     "output_type": "execute_result"
    }
   ],
   "source": [
    "knn = pd.DataFrame({\n",
    "    \"accuracy_train\": accuracy_train,\n",
    "    \"accuracy_test\": accuracy_test,\n",
    "    \"classifier\": classifier})\n",
    "knn.head()"
   ]
  },
  {
   "cell_type": "code",
   "execution_count": 42,
   "metadata": {
    "scrolled": true
   },
   "outputs": [
    {
     "data": {
      "image/png": "[encoded data removed]",
      "text/plain": [
       "<Figure size 720x720 with 1 Axes>"
      ]
     },
     "metadata": {},
     "output_type": "display_data"
    }
   ],
   "source": [
    "bar_plot(knn, title=\"KNN\", filename=\"knn\", ymax=0.62)"
   ]
  },
  {
   "cell_type": "markdown",
   "metadata": {},
   "source": [
    "#### Print the model with best hyperparameters and its train/test accuracy"
   ]
  },
  {
   "cell_type": "code",
   "execution_count": 43,
   "metadata": {},
   "outputs": [
    {
     "name": "stdout",
     "output_type": "stream",
     "text": [
      "Best hyperparameter in the model is KNeighborsClassifier(algorithm='auto', leaf_size=30, metric='minkowski',\n",
      "           metric_params=None, n_jobs=None, n_neighbors=11, p=2,\n",
      "           weights='uniform')\n",
      "Train accuracy: 0.4711111111111111\n",
      "Test accuracy: 0.4105960264900662\n"
     ]
    }
   ],
   "source": [
    "#Print the model with best hyperparameters and its train/test accuracy\n",
    "print_best_model(knn)"
   ]
  },
  {
   "cell_type": "markdown",
   "metadata": {},
   "source": [
    "### Classification Tree"
   ]
  },
  {
   "cell_type": "code",
   "execution_count": 44,
   "metadata": {},
   "outputs": [
    {
     "name": "stdout",
     "output_type": "stream",
     "text": [
      "........"
     ]
    }
   ],
   "source": [
    "from sklearn.tree import DecisionTreeClassifier\n",
    "\n",
    "y_predict_train = []\n",
    "y_predict_test = []\n",
    "accuracy_train = []\n",
    "accuracy_test = []\n",
    "classifier = []\n",
    "parameters = []\n",
    "\n",
    "for c in ['gini', 'entropy']:\n",
    "    for s in ['best', 'random']:\n",
    "        for min_s in np.arange(3, 5):\n",
    "            parameters.append(c+','+s+','+'min_s='+str(min_s))\n",
    "            DecisionTree = DecisionTreeClassifier(criterion=c, splitter = s, min_samples_split=min_s)\n",
    "            fit_predict(DecisionTree)"
   ]
  },
  {
   "cell_type": "code",
   "execution_count": 45,
   "metadata": {},
   "outputs": [
    {
     "data": {
      "text/html": [
       "<div>\n",
       "<style scoped>\n",
       "    .dataframe tbody tr th:only-of-type {\n",
       "        vertical-align: middle;\n",
       "    }\n",
       "\n",
       "    .dataframe tbody tr th {\n",
       "        vertical-align: top;\n",
       "    }\n",
       "\n",
       "    .dataframe thead th {\n",
       "        text-align: right;\n",
       "    }\n",
       "</style>\n",
       "<table border=\"1\" class=\"dataframe\">\n",
       "  <thead>\n",
       "    <tr style=\"text-align: right;\">\n",
       "      <th></th>\n",
       "      <th>accuracy_train</th>\n",
       "      <th>accuracy_test</th>\n",
       "      <th>classifier</th>\n",
       "    </tr>\n",
       "  </thead>\n",
       "  <tbody>\n",
       "    <tr>\n",
       "      <th>0</th>\n",
       "      <td>0.933333</td>\n",
       "      <td>0.331126</td>\n",
       "      <td>DecisionTreeClassifier(class_weight=None, crit...</td>\n",
       "    </tr>\n",
       "    <tr>\n",
       "      <th>1</th>\n",
       "      <td>0.887407</td>\n",
       "      <td>0.291391</td>\n",
       "      <td>DecisionTreeClassifier(class_weight=None, crit...</td>\n",
       "    </tr>\n",
       "    <tr>\n",
       "      <th>2</th>\n",
       "      <td>0.897037</td>\n",
       "      <td>0.324503</td>\n",
       "      <td>DecisionTreeClassifier(class_weight=None, crit...</td>\n",
       "    </tr>\n",
       "    <tr>\n",
       "      <th>3</th>\n",
       "      <td>0.834074</td>\n",
       "      <td>0.331126</td>\n",
       "      <td>DecisionTreeClassifier(class_weight=None, crit...</td>\n",
       "    </tr>\n",
       "    <tr>\n",
       "      <th>4</th>\n",
       "      <td>0.948148</td>\n",
       "      <td>0.324503</td>\n",
       "      <td>DecisionTreeClassifier(class_weight=None, crit...</td>\n",
       "    </tr>\n",
       "  </tbody>\n",
       "</table>\n",
       "</div>"
      ],
      "text/plain": [
       "   accuracy_train  accuracy_test  \\\n",
       "0        0.933333       0.331126   \n",
       "1        0.887407       0.291391   \n",
       "2        0.897037       0.324503   \n",
       "3        0.834074       0.331126   \n",
       "4        0.948148       0.324503   \n",
       "\n",
       "                                          classifier  \n",
       "0  DecisionTreeClassifier(class_weight=None, crit...  \n",
       "1  DecisionTreeClassifier(class_weight=None, crit...  \n",
       "2  DecisionTreeClassifier(class_weight=None, crit...  \n",
       "3  DecisionTreeClassifier(class_weight=None, crit...  \n",
       "4  DecisionTreeClassifier(class_weight=None, crit...  "
      ]
     },
     "execution_count": 45,
     "metadata": {},
     "output_type": "execute_result"
    }
   ],
   "source": [
    "dt = pd.DataFrame({\n",
    "    \"accuracy_train\": accuracy_train,\n",
    "    \"accuracy_test\": accuracy_test,\n",
    "    \"classifier\": classifier})\n",
    "dt.head()"
   ]
  },
  {
   "cell_type": "code",
   "execution_count": 46,
   "metadata": {},
   "outputs": [
    {
     "data": {
      "image/png": "[encoded data removed]",
      "text/plain": [
       "<Figure size 720x720 with 1 Axes>"
      ]
     },
     "metadata": {},
     "output_type": "display_data"
    }
   ],
   "source": [
    "bar_plot(dt, title=\"Decision Tree\", filename=\"dt\", ymax=1)"
   ]
  },
  {
   "cell_type": "code",
   "execution_count": 47,
   "metadata": {},
   "outputs": [
    {
     "name": "stdout",
     "output_type": "stream",
     "text": [
      "Best hyperparameter in the model is DecisionTreeClassifier(class_weight=None, criterion='entropy', max_depth=None,\n",
      "            max_features=None, max_leaf_nodes=None,\n",
      "            min_impurity_decrease=0.0, min_impurity_split=None,\n",
      "            min_samples_leaf=1, min_samples_split=4,\n",
      "            min_weight_fraction_leaf=0.0, presort=False, random_state=None,\n",
      "            splitter='best')\n",
      "Train accuracy: 0.8911111111111111\n",
      "Test accuracy: 0.33774834437086093\n"
     ]
    }
   ],
   "source": [
    "#Print the model with best hyperparameters and its train/test accuracy\n",
    "print_best_model(dt)"
   ]
  },
  {
   "cell_type": "markdown",
   "metadata": {},
   "source": [
    "### Random Forest"
   ]
  },
  {
   "cell_type": "code",
   "execution_count": 48,
   "metadata": {},
   "outputs": [
    {
     "name": "stdout",
     "output_type": "stream",
     "text": [
      "............"
     ]
    }
   ],
   "source": [
    "from sklearn.ensemble import RandomForestClassifier\n",
    "\n",
    "y_predict_train = []\n",
    "y_predict_test = []\n",
    "accuracy_train = []\n",
    "accuracy_test = []\n",
    "classifier = []\n",
    "parameters = []\n",
    "\n",
    "for n in np.arange(10, 50, 20):\n",
    "    for d in np.arange(2, 8):\n",
    "        parameters.append('n='+str(n)+',maxdepth='+str(d))\n",
    "        RandomForest = RandomForestClassifier(n_estimators=n, max_depth=d)\n",
    "        fit_predict(RandomForest)"
   ]
  },
  {
   "cell_type": "code",
   "execution_count": 49,
   "metadata": {},
   "outputs": [
    {
     "data": {
      "text/html": [
       "<div>\n",
       "<style scoped>\n",
       "    .dataframe tbody tr th:only-of-type {\n",
       "        vertical-align: middle;\n",
       "    }\n",
       "\n",
       "    .dataframe tbody tr th {\n",
       "        vertical-align: top;\n",
       "    }\n",
       "\n",
       "    .dataframe thead th {\n",
       "        text-align: right;\n",
       "    }\n",
       "</style>\n",
       "<table border=\"1\" class=\"dataframe\">\n",
       "  <thead>\n",
       "    <tr style=\"text-align: right;\">\n",
       "      <th></th>\n",
       "      <th>accuracy_train</th>\n",
       "      <th>accuracy_test</th>\n",
       "      <th>classifier</th>\n",
       "    </tr>\n",
       "  </thead>\n",
       "  <tbody>\n",
       "    <tr>\n",
       "      <th>0</th>\n",
       "      <td>0.269630</td>\n",
       "      <td>0.291391</td>\n",
       "      <td>(DecisionTreeClassifier(class_weight=None, cri...</td>\n",
       "    </tr>\n",
       "    <tr>\n",
       "      <th>1</th>\n",
       "      <td>0.314815</td>\n",
       "      <td>0.304636</td>\n",
       "      <td>(DecisionTreeClassifier(class_weight=None, cri...</td>\n",
       "    </tr>\n",
       "    <tr>\n",
       "      <th>2</th>\n",
       "      <td>0.341481</td>\n",
       "      <td>0.317881</td>\n",
       "      <td>(DecisionTreeClassifier(class_weight=None, cri...</td>\n",
       "    </tr>\n",
       "    <tr>\n",
       "      <th>3</th>\n",
       "      <td>0.389630</td>\n",
       "      <td>0.337748</td>\n",
       "      <td>(DecisionTreeClassifier(class_weight=None, cri...</td>\n",
       "    </tr>\n",
       "    <tr>\n",
       "      <th>4</th>\n",
       "      <td>0.439259</td>\n",
       "      <td>0.324503</td>\n",
       "      <td>(DecisionTreeClassifier(class_weight=None, cri...</td>\n",
       "    </tr>\n",
       "  </tbody>\n",
       "</table>\n",
       "</div>"
      ],
      "text/plain": [
       "   accuracy_train  accuracy_test  \\\n",
       "0        0.269630       0.291391   \n",
       "1        0.314815       0.304636   \n",
       "2        0.341481       0.317881   \n",
       "3        0.389630       0.337748   \n",
       "4        0.439259       0.324503   \n",
       "\n",
       "                                          classifier  \n",
       "0  (DecisionTreeClassifier(class_weight=None, cri...  \n",
       "1  (DecisionTreeClassifier(class_weight=None, cri...  \n",
       "2  (DecisionTreeClassifier(class_weight=None, cri...  \n",
       "3  (DecisionTreeClassifier(class_weight=None, cri...  \n",
       "4  (DecisionTreeClassifier(class_weight=None, cri...  "
      ]
     },
     "execution_count": 49,
     "metadata": {},
     "output_type": "execute_result"
    }
   ],
   "source": [
    "rf = pd.DataFrame({\n",
    "    \"accuracy_train\": accuracy_train,\n",
    "    \"accuracy_test\": accuracy_test,\n",
    "    \"classifier\": classifier})\n",
    "rf.head()"
   ]
  },
  {
   "cell_type": "code",
   "execution_count": 50,
   "metadata": {},
   "outputs": [
    {
     "data": {
      "image/png": "[encoded data removed]",
      "text/plain": [
       "<Figure size 720x720 with 1 Axes>"
      ]
     },
     "metadata": {},
     "output_type": "display_data"
    }
   ],
   "source": [
    "bar_plot(rf, title=\"Random Forest\", filename=\"rf\", ymax=0.6)"
   ]
  },
  {
   "cell_type": "code",
   "execution_count": 51,
   "metadata": {},
   "outputs": [
    {
     "name": "stdout",
     "output_type": "stream",
     "text": [
      "Best hyperparameter in the model is RandomForestClassifier(bootstrap=True, class_weight=None, criterion='gini',\n",
      "            max_depth=7, max_features='auto', max_leaf_nodes=None,\n",
      "            min_impurity_decrease=0.0, min_impurity_split=None,\n",
      "            min_samples_leaf=1, min_samples_split=2,\n",
      "            min_weight_fraction_leaf=0.0, n_estimators=30, n_jobs=None,\n",
      "            oob_score=False, random_state=None, verbose=0,\n",
      "            warm_start=False)\n",
      "Train accuracy: 0.5785185185185185\n",
      "Test accuracy: 0.3708609271523179\n"
     ]
    }
   ],
   "source": [
    "#Print the model with best hyperparameters and its train/test accuracy\n",
    "print_best_model(rf)"
   ]
  },
  {
   "cell_type": "markdown",
   "metadata": {},
   "source": [
    "### Support Vector Machine"
   ]
  },
  {
   "cell_type": "code",
   "execution_count": 52,
   "metadata": {},
   "outputs": [
    {
     "name": "stdout",
     "output_type": "stream",
     "text": [
      "..."
     ]
    },
    {
     "name": "stderr",
     "output_type": "stream",
     "text": [
      "/anaconda2/envs/py36/lib/python3.6/site-packages/sklearn/svm/base.py:196: FutureWarning: The default value of gamma will change from 'auto' to 'scale' in version 0.22 to account better for unscaled features. Set gamma explicitly to 'auto' or 'scale' to avoid this warning.\n",
      "  \"avoid this warning.\", FutureWarning)\n"
     ]
    },
    {
     "name": "stdout",
     "output_type": "stream",
     "text": [
      "."
     ]
    },
    {
     "name": "stderr",
     "output_type": "stream",
     "text": [
      "/anaconda2/envs/py36/lib/python3.6/site-packages/sklearn/svm/base.py:196: FutureWarning: The default value of gamma will change from 'auto' to 'scale' in version 0.22 to account better for unscaled features. Set gamma explicitly to 'auto' or 'scale' to avoid this warning.\n",
      "  \"avoid this warning.\", FutureWarning)\n"
     ]
    },
    {
     "name": "stdout",
     "output_type": "stream",
     "text": [
      "."
     ]
    },
    {
     "name": "stderr",
     "output_type": "stream",
     "text": [
      "/anaconda2/envs/py36/lib/python3.6/site-packages/sklearn/svm/base.py:196: FutureWarning: The default value of gamma will change from 'auto' to 'scale' in version 0.22 to account better for unscaled features. Set gamma explicitly to 'auto' or 'scale' to avoid this warning.\n",
      "  \"avoid this warning.\", FutureWarning)\n"
     ]
    },
    {
     "name": "stdout",
     "output_type": "stream",
     "text": [
      "."
     ]
    },
    {
     "name": "stderr",
     "output_type": "stream",
     "text": [
      "/anaconda2/envs/py36/lib/python3.6/site-packages/sklearn/svm/base.py:196: FutureWarning: The default value of gamma will change from 'auto' to 'scale' in version 0.22 to account better for unscaled features. Set gamma explicitly to 'auto' or 'scale' to avoid this warning.\n",
      "  \"avoid this warning.\", FutureWarning)\n"
     ]
    },
    {
     "name": "stdout",
     "output_type": "stream",
     "text": [
      "."
     ]
    },
    {
     "name": "stderr",
     "output_type": "stream",
     "text": [
      "/anaconda2/envs/py36/lib/python3.6/site-packages/sklearn/svm/base.py:196: FutureWarning: The default value of gamma will change from 'auto' to 'scale' in version 0.22 to account better for unscaled features. Set gamma explicitly to 'auto' or 'scale' to avoid this warning.\n",
      "  \"avoid this warning.\", FutureWarning)\n"
     ]
    },
    {
     "name": "stdout",
     "output_type": "stream",
     "text": [
      "."
     ]
    },
    {
     "name": "stderr",
     "output_type": "stream",
     "text": [
      "/anaconda2/envs/py36/lib/python3.6/site-packages/sklearn/svm/base.py:196: FutureWarning: The default value of gamma will change from 'auto' to 'scale' in version 0.22 to account better for unscaled features. Set gamma explicitly to 'auto' or 'scale' to avoid this warning.\n",
      "  \"avoid this warning.\", FutureWarning)\n"
     ]
    },
    {
     "name": "stdout",
     "output_type": "stream",
     "text": [
      "."
     ]
    }
   ],
   "source": [
    "from sklearn.svm import SVC\n",
    "\n",
    "y_predict_train = []\n",
    "y_predict_test = []\n",
    "accuracy_train = []\n",
    "accuracy_test = []\n",
    "classifier = []\n",
    "parameters = []\n",
    "\n",
    "for k in ['linear', 'rbf', 'sigmoid']:\n",
    "    for c in [5, 10, 20]:\n",
    "        parameters.append(k+','+'c='+str(c))\n",
    "        SVM = SVC(C=c, kernel=k, random_state=42)\n",
    "        fit_predict(SVM)"
   ]
  },
  {
   "cell_type": "code",
   "execution_count": 53,
   "metadata": {},
   "outputs": [
    {
     "data": {
      "text/html": [
       "<div>\n",
       "<style scoped>\n",
       "    .dataframe tbody tr th:only-of-type {\n",
       "        vertical-align: middle;\n",
       "    }\n",
       "\n",
       "    .dataframe tbody tr th {\n",
       "        vertical-align: top;\n",
       "    }\n",
       "\n",
       "    .dataframe thead th {\n",
       "        text-align: right;\n",
       "    }\n",
       "</style>\n",
       "<table border=\"1\" class=\"dataframe\">\n",
       "  <thead>\n",
       "    <tr style=\"text-align: right;\">\n",
       "      <th></th>\n",
       "      <th>accuracy_train</th>\n",
       "      <th>accuracy_test</th>\n",
       "      <th>classifier</th>\n",
       "    </tr>\n",
       "  </thead>\n",
       "  <tbody>\n",
       "    <tr>\n",
       "      <th>0</th>\n",
       "      <td>0.474815</td>\n",
       "      <td>0.417219</td>\n",
       "      <td>SVC(C=5, cache_size=200, class_weight=None, co...</td>\n",
       "    </tr>\n",
       "    <tr>\n",
       "      <th>1</th>\n",
       "      <td>0.493333</td>\n",
       "      <td>0.430464</td>\n",
       "      <td>SVC(C=10, cache_size=200, class_weight=None, c...</td>\n",
       "    </tr>\n",
       "    <tr>\n",
       "      <th>2</th>\n",
       "      <td>0.509630</td>\n",
       "      <td>0.417219</td>\n",
       "      <td>SVC(C=20, cache_size=200, class_weight=None, c...</td>\n",
       "    </tr>\n",
       "    <tr>\n",
       "      <th>3</th>\n",
       "      <td>0.343704</td>\n",
       "      <td>0.350993</td>\n",
       "      <td>SVC(C=5, cache_size=200, class_weight=None, co...</td>\n",
       "    </tr>\n",
       "    <tr>\n",
       "      <th>4</th>\n",
       "      <td>0.403704</td>\n",
       "      <td>0.370861</td>\n",
       "      <td>SVC(C=10, cache_size=200, class_weight=None, c...</td>\n",
       "    </tr>\n",
       "  </tbody>\n",
       "</table>\n",
       "</div>"
      ],
      "text/plain": [
       "   accuracy_train  accuracy_test  \\\n",
       "0        0.474815       0.417219   \n",
       "1        0.493333       0.430464   \n",
       "2        0.509630       0.417219   \n",
       "3        0.343704       0.350993   \n",
       "4        0.403704       0.370861   \n",
       "\n",
       "                                          classifier  \n",
       "0  SVC(C=5, cache_size=200, class_weight=None, co...  \n",
       "1  SVC(C=10, cache_size=200, class_weight=None, c...  \n",
       "2  SVC(C=20, cache_size=200, class_weight=None, c...  \n",
       "3  SVC(C=5, cache_size=200, class_weight=None, co...  \n",
       "4  SVC(C=10, cache_size=200, class_weight=None, c...  "
      ]
     },
     "execution_count": 53,
     "metadata": {},
     "output_type": "execute_result"
    }
   ],
   "source": [
    "svm = pd.DataFrame({\n",
    "    \"accuracy_train\": accuracy_train,\n",
    "    \"accuracy_test\": accuracy_test,\n",
    "    \"classifier\": classifier})\n",
    "svm.head()"
   ]
  },
  {
   "cell_type": "code",
   "execution_count": 54,
   "metadata": {},
   "outputs": [
    {
     "data": {
      "image/png": "[encoded data removed]",
      "text/plain": [
       "<Figure size 720x720 with 1 Axes>"
      ]
     },
     "metadata": {},
     "output_type": "display_data"
    }
   ],
   "source": [
    "bar_plot(svm, title=\"Support Vector Machine\", filename=\"svm\", ymax=0.6)"
   ]
  },
  {
   "cell_type": "code",
   "execution_count": 55,
   "metadata": {},
   "outputs": [
    {
     "name": "stdout",
     "output_type": "stream",
     "text": [
      "Best hyperparameter in the model is SVC(C=10, cache_size=200, class_weight=None, coef0=0.0,\n",
      "  decision_function_shape='ovr', degree=3, gamma='auto_deprecated',\n",
      "  kernel='linear', max_iter=-1, probability=False, random_state=42,\n",
      "  shrinking=True, tol=0.001, verbose=False)\n",
      "Train accuracy: 0.49333333333333335\n",
      "Test accuracy: 0.4304635761589404\n"
     ]
    }
   ],
   "source": [
    "#Print the model with best hyperparameters and its train/test accuracy\n",
    "print_best_model(svm)"
   ]
  },
  {
   "cell_type": "markdown",
   "metadata": {},
   "source": [
    "### Apply the best model to the testset"
   ]
  },
  {
   "cell_type": "code",
   "execution_count": 56,
   "metadata": {},
   "outputs": [
    {
     "data": {
      "text/plain": [
       "SVC(C=10, cache_size=200, class_weight=None, coef0=0.0,\n",
       "  decision_function_shape='ovr', degree=3, gamma='auto_deprecated',\n",
       "  kernel='linear', max_iter=-1, probability=False, random_state=42,\n",
       "  shrinking=True, tol=0.001, verbose=False)"
      ]
     },
     "execution_count": 56,
     "metadata": {},
     "output_type": "execute_result"
    }
   ],
   "source": [
    "# train best model\n",
    "best_model = SVC(C=10, kernel='linear', random_state=42)\n",
    "best_model.fit(X_train, y_train)"
   ]
  },
  {
   "cell_type": "code",
   "execution_count": 57,
   "metadata": {
    "scrolled": false
   },
   "outputs": [
    {
     "name": "stdout",
     "output_type": "stream",
     "text": [
      "test_feature (716, 23)\n"
     ]
    },
    {
     "data": {
      "text/html": [
       "<div>\n",
       "<style scoped>\n",
       "    .dataframe tbody tr th:only-of-type {\n",
       "        vertical-align: middle;\n",
       "    }\n",
       "\n",
       "    .dataframe tbody tr th {\n",
       "        vertical-align: top;\n",
       "    }\n",
       "\n",
       "    .dataframe thead th {\n",
       "        text-align: right;\n",
       "    }\n",
       "</style>\n",
       "<table border=\"1\" class=\"dataframe\">\n",
       "  <thead>\n",
       "    <tr style=\"text-align: right;\">\n",
       "      <th></th>\n",
       "      <th>size</th>\n",
       "      <th>avg_red</th>\n",
       "      <th>avg_green</th>\n",
       "      <th>avg_blue</th>\n",
       "      <th>avg_gray</th>\n",
       "      <th>std_red</th>\n",
       "      <th>std_green</th>\n",
       "      <th>std_blue</th>\n",
       "      <th>std_grey</th>\n",
       "      <th>aspect_ratio</th>\n",
       "      <th>...</th>\n",
       "      <th>avg_y</th>\n",
       "      <th>avg_cb</th>\n",
       "      <th>avg_cr</th>\n",
       "      <th>std_y</th>\n",
       "      <th>std_cb</th>\n",
       "      <th>std_cr</th>\n",
       "      <th>avg_hog</th>\n",
       "      <th>std_hog</th>\n",
       "      <th>svd</th>\n",
       "      <th>canny_svd</th>\n",
       "    </tr>\n",
       "  </thead>\n",
       "  <tbody>\n",
       "    <tr>\n",
       "      <th>0</th>\n",
       "      <td>1.620000</td>\n",
       "      <td>0.415610</td>\n",
       "      <td>0.419237</td>\n",
       "      <td>0.414082</td>\n",
       "      <td>0.604786</td>\n",
       "      <td>0.263549</td>\n",
       "      <td>0.256145</td>\n",
       "      <td>0.247505</td>\n",
       "      <td>0.294132</td>\n",
       "      <td>0.666667</td>\n",
       "      <td>...</td>\n",
       "      <td>0.421360</td>\n",
       "      <td>0.500234</td>\n",
       "      <td>0.500736</td>\n",
       "      <td>0.220119</td>\n",
       "      <td>0.029094</td>\n",
       "      <td>0.014192</td>\n",
       "      <td>0.089145</td>\n",
       "      <td>0.066324</td>\n",
       "      <td>[-0.8093690052065747, -0.16113474329732075, -0...</td>\n",
       "      <td>[0.048772324338107985, 0.007255451716494181]</td>\n",
       "    </tr>\n",
       "    <tr>\n",
       "      <th>1</th>\n",
       "      <td>0.091821</td>\n",
       "      <td>0.567814</td>\n",
       "      <td>0.578798</td>\n",
       "      <td>0.525421</td>\n",
       "      <td>0.727508</td>\n",
       "      <td>0.313096</td>\n",
       "      <td>0.303087</td>\n",
       "      <td>0.301164</td>\n",
       "      <td>0.369454</td>\n",
       "      <td>0.526971</td>\n",
       "      <td>...</td>\n",
       "      <td>0.551784</td>\n",
       "      <td>0.480145</td>\n",
       "      <td>0.500949</td>\n",
       "      <td>0.262229</td>\n",
       "      <td>0.017759</td>\n",
       "      <td>0.014203</td>\n",
       "      <td>0.083612</td>\n",
       "      <td>0.073176</td>\n",
       "      <td>[-0.8173885005402451, -0.1492444392686673, -0....</td>\n",
       "      <td>[0.0797448227596835, 0.011501570834114138]</td>\n",
       "    </tr>\n",
       "    <tr>\n",
       "      <th>2</th>\n",
       "      <td>0.312006</td>\n",
       "      <td>0.524069</td>\n",
       "      <td>0.485613</td>\n",
       "      <td>0.465038</td>\n",
       "      <td>0.666615</td>\n",
       "      <td>0.269890</td>\n",
       "      <td>0.285496</td>\n",
       "      <td>0.322599</td>\n",
       "      <td>0.366499</td>\n",
       "      <td>1.171141</td>\n",
       "      <td>...</td>\n",
       "      <td>0.487662</td>\n",
       "      <td>0.487224</td>\n",
       "      <td>0.520321</td>\n",
       "      <td>0.244063</td>\n",
       "      <td>0.031329</td>\n",
       "      <td>0.018378</td>\n",
       "      <td>0.073057</td>\n",
       "      <td>0.083716</td>\n",
       "      <td>[-0.8895012787735834, 0.06455309233015812, -0....</td>\n",
       "      <td>[0.027395774374250375, 0.028131062332187057]</td>\n",
       "    </tr>\n",
       "    <tr>\n",
       "      <th>3</th>\n",
       "      <td>0.070308</td>\n",
       "      <td>0.379204</td>\n",
       "      <td>0.327932</td>\n",
       "      <td>0.335599</td>\n",
       "      <td>0.509764</td>\n",
       "      <td>0.242566</td>\n",
       "      <td>0.205625</td>\n",
       "      <td>0.190042</td>\n",
       "      <td>0.355433</td>\n",
       "      <td>0.656085</td>\n",
       "      <td>...</td>\n",
       "      <td>0.358297</td>\n",
       "      <td>0.497728</td>\n",
       "      <td>0.523933</td>\n",
       "      <td>0.184243</td>\n",
       "      <td>0.016433</td>\n",
       "      <td>0.019968</td>\n",
       "      <td>0.077639</td>\n",
       "      <td>0.079485</td>\n",
       "      <td>[-0.8072447403287052, -0.10592963845612886, -0...</td>\n",
       "      <td>[0.002022648947340876, 0.0029655771067152756]</td>\n",
       "    </tr>\n",
       "    <tr>\n",
       "      <th>4</th>\n",
       "      <td>0.244650</td>\n",
       "      <td>0.091162</td>\n",
       "      <td>0.159210</td>\n",
       "      <td>0.183873</td>\n",
       "      <td>0.289097</td>\n",
       "      <td>0.101250</td>\n",
       "      <td>0.113173</td>\n",
       "      <td>0.133987</td>\n",
       "      <td>0.179388</td>\n",
       "      <td>1.502146</td>\n",
       "      <td>...</td>\n",
       "      <td>0.184419</td>\n",
       "      <td>0.522880</td>\n",
       "      <td>0.470311</td>\n",
       "      <td>0.095521</td>\n",
       "      <td>0.014645</td>\n",
       "      <td>0.013387</td>\n",
       "      <td>0.089243</td>\n",
       "      <td>0.066192</td>\n",
       "      <td>[-0.6404077654686087, -0.38677998443864714, -0...</td>\n",
       "      <td>[0.003453400593607136, -0.0010129309029148165]</td>\n",
       "    </tr>\n",
       "  </tbody>\n",
       "</table>\n",
       "<p>5 rows × 22 columns</p>\n",
       "</div>"
      ],
      "text/plain": [
       "       size   avg_red  avg_green  avg_blue  avg_gray   std_red  std_green  \\\n",
       "0  1.620000  0.415610   0.419237  0.414082  0.604786  0.263549   0.256145   \n",
       "1  0.091821  0.567814   0.578798  0.525421  0.727508  0.313096   0.303087   \n",
       "2  0.312006  0.524069   0.485613  0.465038  0.666615  0.269890   0.285496   \n",
       "3  0.070308  0.379204   0.327932  0.335599  0.509764  0.242566   0.205625   \n",
       "4  0.244650  0.091162   0.159210  0.183873  0.289097  0.101250   0.113173   \n",
       "\n",
       "   std_blue  std_grey  aspect_ratio  ...     avg_y    avg_cb    avg_cr  \\\n",
       "0  0.247505  0.294132      0.666667  ...  0.421360  0.500234  0.500736   \n",
       "1  0.301164  0.369454      0.526971  ...  0.551784  0.480145  0.500949   \n",
       "2  0.322599  0.366499      1.171141  ...  0.487662  0.487224  0.520321   \n",
       "3  0.190042  0.355433      0.656085  ...  0.358297  0.497728  0.523933   \n",
       "4  0.133987  0.179388      1.502146  ...  0.184419  0.522880  0.470311   \n",
       "\n",
       "      std_y    std_cb    std_cr   avg_hog   std_hog  \\\n",
       "0  0.220119  0.029094  0.014192  0.089145  0.066324   \n",
       "1  0.262229  0.017759  0.014203  0.083612  0.073176   \n",
       "2  0.244063  0.031329  0.018378  0.073057  0.083716   \n",
       "3  0.184243  0.016433  0.019968  0.077639  0.079485   \n",
       "4  0.095521  0.014645  0.013387  0.089243  0.066192   \n",
       "\n",
       "                                                 svd  \\\n",
       "0  [-0.8093690052065747, -0.16113474329732075, -0...   \n",
       "1  [-0.8173885005402451, -0.1492444392686673, -0....   \n",
       "2  [-0.8895012787735834, 0.06455309233015812, -0....   \n",
       "3  [-0.8072447403287052, -0.10592963845612886, -0...   \n",
       "4  [-0.6404077654686087, -0.38677998443864714, -0...   \n",
       "\n",
       "                                        canny_svd  \n",
       "0    [0.048772324338107985, 0.007255451716494181]  \n",
       "1      [0.0797448227596835, 0.011501570834114138]  \n",
       "2    [0.027395774374250375, 0.028131062332187057]  \n",
       "3   [0.002022648947340876, 0.0029655771067152756]  \n",
       "4  [0.003453400593607136, -0.0010129309029148165]  \n",
       "\n",
       "[5 rows x 22 columns]"
      ]
     },
     "execution_count": 57,
     "metadata": {},
     "output_type": "execute_result"
    }
   ],
   "source": [
    "test_feature = pd.read_hdf(\"test_feature.h5\", \"data\")\n",
    "print(\"test_feature\", test_feature.shape)\n",
    "del test_feature[\"Pictures\"]\n",
    "test_feature.head()"
   ]
  },
  {
   "cell_type": "code",
   "execution_count": 58,
   "metadata": {},
   "outputs": [],
   "source": [
    "X_test = flatten(test_feature)\n",
    "test_prediction = best_model.predict(X_test)\n",
    "pd.DataFrame(test_prediction).to_csv(\"submission.csv\", index=False, header=False)"
   ]
  },
  {
   "cell_type": "code",
   "execution_count": null,
   "metadata": {},
   "outputs": [],
   "source": []
  },
  {
   "cell_type": "code",
   "execution_count": null,
   "metadata": {},
   "outputs": [],
   "source": []
  }
 ],
 "metadata": {
  "kernelspec": {
   "display_name": "Python 3",
   "language": "python",
   "name": "python3"
  },
  "language_info": {
   "codemirror_mode": {
    "name": "ipython",
    "version": 3
   },
   "file_extension": ".py",
   "mimetype": "text/x-python",
   "name": "python",
   "nbconvert_exporter": "python",
   "pygments_lexer": "ipython3",
   "version": "3.6.8"
  }
 },
 "nbformat": 4,
 "nbformat_minor": 2
}

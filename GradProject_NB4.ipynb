{
 "cells": [
  {
   "cell_type": "markdown",
   "metadata": {},
   "source": [
    "<h1> DS200A Computer Vision Assignment</h1>"
   ]
  },
  {
   "cell_type": "markdown",
   "metadata": {},
   "source": [
    "<h2>  Part Four: Neural networks </h2>\t\n"
   ]
  },
  {
   "cell_type": "markdown",
   "metadata": {},
   "source": [
    "Build a neural network classifier using an architecture of your choosing. This application\n",
    "of deep learning can be done in PyTorch, TensorFlow, or a framework of your choice. This is the\n",
    "industry standard for image classification. Describe your network and assess its performance. To\n",
    "receive extra credit, your neural network classifier must outperform your other methods.\n",
    "\n"
   ]
  },
  {
   "cell_type": "code",
   "execution_count": 1,
   "metadata": {},
   "outputs": [],
   "source": [
    "import numpy as np\n",
    "import matplotlib.pyplot as plt\n",
    "import pandas as pd\n",
    "import matplotlib\n",
    "import skimage\n",
    "from skimage import data\n",
    "from skimage import io\n",
    "import os\n",
    "import cv2\n",
    "import torch"
   ]
  },
  {
   "cell_type": "code",
   "execution_count": 2,
   "metadata": {
    "scrolled": true
   },
   "outputs": [
    {
     "name": "stdout",
     "output_type": "stream",
     "text": [
      "1501\n"
     ]
    }
   ],
   "source": [
    "data_original = pd.read_hdf(\"training_data.h5\", \"data\")\n",
    "print(len(data_original))"
   ]
  },
  {
   "cell_type": "code",
   "execution_count": 3,
   "metadata": {},
   "outputs": [],
   "source": [
    "data = data_original.copy()"
   ]
  },
  {
   "cell_type": "markdown",
   "metadata": {},
   "source": [
    "#### Set parameters"
   ]
  },
  {
   "cell_type": "code",
   "execution_count": 4,
   "metadata": {},
   "outputs": [],
   "source": [
    "batch_size = 32\n",
    "img_w, img_h = 32, 32\n",
    "num_classes = 20\n",
    "split_ratio = 0.9\n",
    "lr=0.01\n",
    "momentum=0.9\n",
    "weight_decay=1e-4"
   ]
  },
  {
   "cell_type": "code",
   "execution_count": 5,
   "metadata": {
    "scrolled": true
   },
   "outputs": [
    {
     "name": "stdout",
     "output_type": "stream",
     "text": [
      "Reading training images\n",
      "(1501, 32, 32, 3) (1501,)\n"
     ]
    }
   ],
   "source": [
    "# Dataset processing\n",
    "def load_data(df, img_w, img_h):\n",
    "    '''\n",
    "    load the image from df[picture] series\n",
    "    return: image list, label list\n",
    "    '''\n",
    "    print('Reading training images')\n",
    "    img_list, label_list = [], []\n",
    "    for index, data in df.iterrows():\n",
    "        img = data['Pictures']\n",
    "        label = data['Encoding']\n",
    "        #resize each image to the standard img_w * img_h \n",
    "        img = cv2.resize(img, (img_w, img_h), cv2.INTER_LINEAR)\n",
    "        img_list.append(img), label_list.append(label)\n",
    "    img_list, label_list = np.array(img_list, dtype=np.uint8), np.array( label_list, dtype=np.int32 )\n",
    "    img_list = img_list.astype('float32')\n",
    "    label_list = label_list.astype('long')\n",
    "    img_list = img_list / 255\n",
    "    return img_list, label_list\n",
    "\n",
    "data, label = load_data(data, img_w, img_h)\n",
    "print(data.shape, label.shape)\n",
    "\n",
    "# shuffle the data\n",
    "idx = np.arange( data.shape[0] )\n",
    "np.random.shuffle(idx)\n",
    "data, label = data[idx], label[idx]"
   ]
  },
  {
   "cell_type": "code",
   "execution_count": 6,
   "metadata": {
    "scrolled": false
   },
   "outputs": [
    {
     "name": "stdout",
     "output_type": "stream",
     "text": [
      "(1350, 3, 32, 32) (1350,)\n",
      "(151, 3, 32, 32) (151,)\n"
     ]
    }
   ],
   "source": [
    "split = np.int(data.shape[0]* split_ratio)\n",
    "x_train, y_train = data[:split].transpose(0,3,1,2), label[:split].reshape(-1)\n",
    "x_val, y_val =data[split:].transpose(0,3,1,2), label[split:].reshape(-1)\n",
    "print(x_train.shape, y_train.shape)\n",
    "print(x_val.shape, y_val.shape)"
   ]
  },
  {
   "cell_type": "markdown",
   "metadata": {},
   "source": [
    "#### normalize the intensity values"
   ]
  },
  {
   "cell_type": "code",
   "execution_count": 7,
   "metadata": {},
   "outputs": [],
   "source": [
    "from torchvision import transforms\n",
    "\n",
    "channel1_mean, channel1_std = x_train[:,0,:,:].mean(), x_train[:,0,:,:].std()\n",
    "channel2_mean, channel2_std = x_train[:,1,:,:].mean(), x_train[:,1,:,:].std()\n",
    "channel3_mean, channel3_std = x_train[:,2,:,:].mean(), x_train[:,2,:,:].std()\n",
    "\n",
    "normalize_data = transforms.Compose([\n",
    "    transforms.Normalize((channel1_mean, channel2_mean, channel3_mean),\n",
    "                          (channel1_std, channel2_std, channel3_std)),\n",
    "])    \n",
    "for i in range(len(x_val)):\n",
    "    x_val[i] = normalize_data(torch.from_numpy(x_val[i]))\n",
    "for i in range(len(x_train)):\n",
    "    x_train[i] = normalize_data(torch.from_numpy(x_train[i]))"
   ]
  },
  {
   "cell_type": "code",
   "execution_count": 8,
   "metadata": {},
   "outputs": [],
   "source": [
    "from torch.utils.data.dataset import Dataset\n",
    "\n",
    "class ImageDataset(Dataset):\n",
    "    def __init__(self, image, label):\n",
    "        self.image = image\n",
    "        self.label = label\n",
    "        \n",
    "    def __getitem__(self, index):\n",
    "        # stuff\n",
    "        return (self.image[index], self.label[index])\n",
    "\n",
    "    def __len__(self):\n",
    "        return len(self.label)"
   ]
  },
  {
   "cell_type": "code",
   "execution_count": 9,
   "metadata": {},
   "outputs": [],
   "source": [
    "train_dataset = ImageDataset(x_train, y_train)\n",
    "val_dataset = ImageDataset(x_val, y_val)\n",
    "train_loader = torch.utils.data.DataLoader(train_dataset, batch_size=batch_size, shuffle=True)\n",
    "val_loader = torch.utils.data.DataLoader(val_dataset, batch_size=batch_size, shuffle=True)"
   ]
  },
  {
   "cell_type": "markdown",
   "metadata": {},
   "source": [
    "#### define the neural network architecture"
   ]
  },
  {
   "cell_type": "code",
   "execution_count": 10,
   "metadata": {},
   "outputs": [],
   "source": [
    "import torch.nn as nn\n",
    "import torch.nn.functional as F\n",
    "\n",
    "class QAlexNet(nn.Module):\n",
    "    def __init__(self, num_classes=10):\n",
    "        super(QAlexNet, self).__init__()\n",
    "        self.conv1 = nn.Conv2d(\n",
    "            3, 64, kernel_size=5, stride=1, padding=2)  # 32x32x3 -> 32x32x64\n",
    "        # self.pool1=nn.MaxPool2d(kernel_size=3, stride=2, padding =1 )# 32x32x64\n",
    "        # -> 16x16x64\n",
    "        self.bn1 = nn.BatchNorm2d(64)\n",
    "        self.conv2 = nn.Conv2d(\n",
    "            64, 64, kernel_size=5, stride=1, padding=2)  # 16x16x64 -> 16x16x64\n",
    "        # self.pool2=nn.MaxPool2d(kernel_size=3, stride=2, padding = 1)# 16x16x64\n",
    "        # -> 8x8x64\n",
    "        self.bn2 = nn.BatchNorm2d(64)\n",
    "        self.fc1 = nn.Linear(64 * 8 * 8, 384) # self.fc1 = nn.Linear(64 * 8 * 8, 384)\n",
    "        self.fc2 = nn.Linear(384, 192)\n",
    "        self.fc3 = nn.Linear(192, num_classes)\n",
    "\n",
    "    def squeeze_layers(self, sl=None):\n",
    "        for k in self._modules.keys():\n",
    "            if k in sl:\n",
    "                for param in self._modules[k].parameters():\n",
    "                    param.requires_grad = False\n",
    "                    print(param.requires_grad)\n",
    "\n",
    "    def back(self):\n",
    "        for k in self._modules.keys():\n",
    "            for param in self._modules[k].parameters():\n",
    "                param.requires_grad = True\n",
    "\n",
    "    def forward(self, x):\n",
    "        x = F.max_pool2d(self.bn1(F.relu(self.conv1(x))), 3, 2, 1)\n",
    "        x = F.max_pool2d(self.bn2(F.relu(self.conv2(x))), 3, 2, 1)\n",
    "        x = x.view(x.size(0), -1)\n",
    "        x = F.relu(self.fc1(x))\n",
    "        x = F.relu(self.fc2(x))\n",
    "        x = self.fc3(x)\n",
    "        return x"
   ]
  },
  {
   "cell_type": "markdown",
   "metadata": {},
   "source": [
    "#### helper functions"
   ]
  },
  {
   "cell_type": "code",
   "execution_count": 11,
   "metadata": {},
   "outputs": [],
   "source": [
    "def one_hot(x, K):\n",
    "    return np.array(x[:, None] == np.arange(K)[None, :], dtype=int)\n",
    "\n",
    "def learning_rate_with_decay(\n",
    "        lr,\n",
    "        batch_size,\n",
    "        batch_denom,\n",
    "        batches_per_epoch,\n",
    "        boundary_epochs,\n",
    "        decay_rates):\n",
    "    initial_learning_rate = lr*1. #* batch_size / batch_denom\n",
    "\n",
    "    boundaries = [int(batches_per_epoch * epoch) for epoch in boundary_epochs]\n",
    "    vals = [initial_learning_rate * decay for decay in decay_rates]\n",
    "\n",
    "    def learning_rate_fn(itr):\n",
    "        lt = [itr < b for b in boundaries] + [True]\n",
    "        i = np.argmax(lt)\n",
    "        return vals[i]\n",
    "\n",
    "    return learning_rate_fn\n",
    "\n",
    "def inf_generator(iterable):\n",
    "    \"\"\"\n",
    "    Allows training with DataLoaders in a single infinite loop:\n",
    "        for i, (x, y) in enumerate(inf_generator(train_loader)):\n",
    "    \"\"\"\n",
    "    iterator = iterable.__iter__()\n",
    "    while True:\n",
    "        try:\n",
    "            yield iterator.__next__()\n",
    "        except StopIteration:\n",
    "            iterator = iterable.__iter__()\n",
    "            \n",
    "def accuracy(model, dataset_loader):\n",
    "    total_correct = 0\n",
    "    for x, y in dataset_loader:\n",
    "        y = one_hot(np.array(y.numpy()), num_classes)\n",
    "        target_class = np.argmax(y, axis=1)\n",
    "        predicted_class = np.argmax(model(x).cpu().detach().numpy(), axis=1)\n",
    "        total_correct += np.sum(predicted_class == target_class)\n",
    "    return total_correct / len(dataset_loader.dataset)"
   ]
  },
  {
   "cell_type": "code",
   "execution_count": 12,
   "metadata": {},
   "outputs": [],
   "source": [
    "model = QAlexNet(num_classes=num_classes)\n",
    "criterion = nn.CrossEntropyLoss()"
   ]
  },
  {
   "cell_type": "code",
   "execution_count": 13,
   "metadata": {},
   "outputs": [],
   "source": [
    "data_gen = inf_generator(train_loader)\n",
    "batches_per_epoch = len(train_loader)\n",
    "\n",
    "lr_fn = learning_rate_with_decay(\n",
    "    lr,\n",
    "    batch_size,\n",
    "    batch_denom=128,\n",
    "    batches_per_epoch=batches_per_epoch,\n",
    "    boundary_epochs=[30,60],\n",
    "    decay_rates=[1, 0.1, 0.01]\n",
    ")\n",
    "\n",
    "optimizer = torch.optim.SGD(\n",
    "    model.parameters(),\n",
    "    lr=lr,\n",
    "    momentum=momentum,\n",
    "    weight_decay=weight_decay)"
   ]
  },
  {
   "cell_type": "code",
   "execution_count": 14,
   "metadata": {},
   "outputs": [
    {
     "name": "stdout",
     "output_type": "stream",
     "text": [
      "Numer of batches per epoch: 43\n",
      "Epoch 0001 | Val Acc 0.2185 | Train Acc 0.3511 | Training Loss 2.6135\n",
      "Epoch 0002 | Val Acc 0.3245 | Train Acc 0.4311 | Training Loss 2.1709\n",
      "Epoch 0003 | Val Acc 0.3775 | Train Acc 0.5163 | Training Loss 1.8611\n",
      "Epoch 0004 | Val Acc 0.4040 | Train Acc 0.5830 | Training Loss 1.5896\n",
      "Epoch 0005 | Val Acc 0.3974 | Train Acc 0.6733 | Training Loss 1.3499\n",
      "Epoch 0006 | Val Acc 0.4172 | Train Acc 0.7593 | Training Loss 1.0610\n",
      "Epoch 0007 | Val Acc 0.4040 | Train Acc 0.9044 | Training Loss 0.7963\n",
      "Epoch 0008 | Val Acc 0.3709 | Train Acc 0.8837 | Training Loss 0.4026\n",
      "Epoch 0009 | Val Acc 0.4040 | Train Acc 0.9407 | Training Loss 0.3241\n",
      "Epoch 0010 | Val Acc 0.4172 | Train Acc 0.9378 | Training Loss 0.5625\n",
      "Epoch 0011 | Val Acc 0.4040 | Train Acc 0.9548 | Training Loss 0.2866\n",
      "Epoch 0012 | Val Acc 0.3775 | Train Acc 0.9733 | Training Loss 0.1861\n",
      "Epoch 0013 | Val Acc 0.4106 | Train Acc 0.9904 | Training Loss 0.1140\n",
      "Epoch 0014 | Val Acc 0.4172 | Train Acc 0.9948 | Training Loss 0.0557\n",
      "Epoch 0015 | Val Acc 0.4570 | Train Acc 0.9993 | Training Loss 0.0190\n",
      "Epoch 0016 | Val Acc 0.4570 | Train Acc 0.9993 | Training Loss 0.0070\n",
      "Epoch 0017 | Val Acc 0.4636 | Train Acc 0.9993 | Training Loss 0.0037\n",
      "Epoch 0018 | Val Acc 0.4702 | Train Acc 1.0000 | Training Loss 0.0029\n",
      "Epoch 0019 | Val Acc 0.4702 | Train Acc 1.0000 | Training Loss 0.0023\n",
      "Epoch 0020 | Val Acc 0.4702 | Train Acc 1.0000 | Training Loss 0.0017\n",
      "Epoch 0021 | Val Acc 0.4702 | Train Acc 1.0000 | Training Loss 0.0010\n",
      "Epoch 0022 | Val Acc 0.4768 | Train Acc 1.0000 | Training Loss 0.0009\n",
      "Epoch 0023 | Val Acc 0.4305 | Train Acc 1.0000 | Training Loss 0.0008\n",
      "Epoch 0024 | Val Acc 0.4636 | Train Acc 1.0000 | Training Loss 0.0008\n",
      "Epoch 0025 | Val Acc 0.4702 | Train Acc 1.0000 | Training Loss 0.0008\n",
      "Epoch 0026 | Val Acc 0.4570 | Train Acc 1.0000 | Training Loss 0.0007\n",
      "Epoch 0027 | Val Acc 0.4702 | Train Acc 1.0000 | Training Loss 0.0006\n",
      "Epoch 0028 | Val Acc 0.4901 | Train Acc 1.0000 | Training Loss 0.0006\n",
      "Epoch 0029 | Val Acc 0.4503 | Train Acc 1.0000 | Training Loss 0.0006\n",
      "Epoch 0030 | Val Acc 0.4702 | Train Acc 1.0000 | Training Loss 0.0093\n",
      "Epoch 0031 | Val Acc 0.4371 | Train Acc 0.9993 | Training Loss 0.0011\n",
      "Epoch 0032 | Val Acc 0.4768 | Train Acc 0.9993 | Training Loss 0.0011\n",
      "Epoch 0033 | Val Acc 0.4636 | Train Acc 1.0000 | Training Loss 0.0010\n",
      "Epoch 0034 | Val Acc 0.4834 | Train Acc 1.0000 | Training Loss 0.0006\n",
      "Epoch 0035 | Val Acc 0.4636 | Train Acc 1.0000 | Training Loss 0.0025\n",
      "Epoch 0036 | Val Acc 0.4636 | Train Acc 1.0000 | Training Loss 0.0052\n",
      "Epoch 0037 | Val Acc 0.4768 | Train Acc 1.0000 | Training Loss 0.0012\n",
      "Epoch 0038 | Val Acc 0.4702 | Train Acc 1.0000 | Training Loss 0.0012\n",
      "Epoch 0039 | Val Acc 0.4901 | Train Acc 1.0000 | Training Loss 0.0009\n",
      "Epoch 0040 | Val Acc 0.4834 | Train Acc 1.0000 | Training Loss 0.0010\n",
      "Epoch 0041 | Val Acc 0.4702 | Train Acc 1.0000 | Training Loss 0.0011\n",
      "Epoch 0042 | Val Acc 0.4768 | Train Acc 1.0000 | Training Loss 0.0008\n",
      "Epoch 0043 | Val Acc 0.4834 | Train Acc 1.0000 | Training Loss 0.0017\n",
      "Epoch 0044 | Val Acc 0.4702 | Train Acc 1.0000 | Training Loss 0.0007\n",
      "Epoch 0045 | Val Acc 0.4768 | Train Acc 1.0000 | Training Loss 0.0008\n",
      "Epoch 0046 | Val Acc 0.4901 | Train Acc 1.0000 | Training Loss 0.0026\n",
      "Epoch 0047 | Val Acc 0.4636 | Train Acc 1.0000 | Training Loss 0.0007\n",
      "Epoch 0048 | Val Acc 0.4834 | Train Acc 1.0000 | Training Loss 0.0010\n",
      "Epoch 0049 | Val Acc 0.4503 | Train Acc 1.0000 | Training Loss 0.0013\n",
      "Epoch 0050 | Val Acc 0.4901 | Train Acc 1.0000 | Training Loss 0.0006\n",
      "Epoch 0051 | Val Acc 0.4768 | Train Acc 0.9993 | Training Loss 0.0008\n",
      "Epoch 0052 | Val Acc 0.4702 | Train Acc 1.0000 | Training Loss 0.0006\n",
      "Epoch 0053 | Val Acc 0.4834 | Train Acc 0.9993 | Training Loss 0.0006\n",
      "Epoch 0054 | Val Acc 0.4636 | Train Acc 1.0000 | Training Loss 0.0006\n",
      "Epoch 0055 | Val Acc 0.4834 | Train Acc 1.0000 | Training Loss 0.0015\n",
      "Epoch 0056 | Val Acc 0.4702 | Train Acc 1.0000 | Training Loss 0.0006\n",
      "Epoch 0057 | Val Acc 0.4570 | Train Acc 1.0000 | Training Loss 0.0005\n",
      "Epoch 0058 | Val Acc 0.4834 | Train Acc 1.0000 | Training Loss 0.0008\n",
      "Epoch 0059 | Val Acc 0.4834 | Train Acc 1.0000 | Training Loss 0.0005\n",
      "Epoch 0060 | Val Acc 0.4901 | Train Acc 1.0000 | Training Loss 0.0005\n",
      "Epoch 0061 | Val Acc 0.4636 | Train Acc 1.0000 | Training Loss 0.0007\n",
      "Epoch 0062 | Val Acc 0.4702 | Train Acc 1.0000 | Training Loss 0.0005\n",
      "Epoch 0063 | Val Acc 0.4901 | Train Acc 1.0000 | Training Loss 0.0007\n",
      "Epoch 0064 | Val Acc 0.4901 | Train Acc 1.0000 | Training Loss 0.0006\n",
      "Epoch 0065 | Val Acc 0.4901 | Train Acc 1.0000 | Training Loss 0.0005\n",
      "Epoch 0066 | Val Acc 0.4768 | Train Acc 1.0000 | Training Loss 0.0005\n",
      "Epoch 0067 | Val Acc 0.4834 | Train Acc 1.0000 | Training Loss 0.0005\n",
      "Epoch 0068 | Val Acc 0.4834 | Train Acc 1.0000 | Training Loss 0.0006\n",
      "Epoch 0069 | Val Acc 0.4768 | Train Acc 1.0000 | Training Loss 0.0006\n",
      "Epoch 0070 | Val Acc 0.4768 | Train Acc 1.0000 | Training Loss 0.0006\n",
      "Epoch 0071 | Val Acc 0.4570 | Train Acc 1.0000 | Training Loss 0.0006\n",
      "Epoch 0072 | Val Acc 0.4768 | Train Acc 1.0000 | Training Loss 0.0007\n",
      "Epoch 0073 | Val Acc 0.4834 | Train Acc 1.0000 | Training Loss 0.0005\n",
      "Epoch 0074 | Val Acc 0.4967 | Train Acc 1.0000 | Training Loss 0.0005\n",
      "Epoch 0075 | Val Acc 0.4768 | Train Acc 1.0000 | Training Loss 0.0005\n",
      "Epoch 0076 | Val Acc 0.4570 | Train Acc 1.0000 | Training Loss 0.0005\n",
      "Epoch 0077 | Val Acc 0.4768 | Train Acc 1.0000 | Training Loss 0.0006\n",
      "Epoch 0078 | Val Acc 0.4768 | Train Acc 1.0000 | Training Loss 0.0085\n",
      "Epoch 0079 | Val Acc 0.4702 | Train Acc 1.0000 | Training Loss 0.0005\n",
      "Epoch 0080 | Val Acc 0.4636 | Train Acc 1.0000 | Training Loss 0.0005\n",
      "Epoch 0081 | Val Acc 0.4570 | Train Acc 1.0000 | Training Loss 0.0005\n",
      "Epoch 0082 | Val Acc 0.4834 | Train Acc 1.0000 | Training Loss 0.0006\n",
      "Epoch 0083 | Val Acc 0.4834 | Train Acc 1.0000 | Training Loss 0.0014\n",
      "Epoch 0084 | Val Acc 0.4702 | Train Acc 1.0000 | Training Loss 0.0005\n",
      "Epoch 0085 | Val Acc 0.4834 | Train Acc 1.0000 | Training Loss 0.0005\n",
      "Epoch 0086 | Val Acc 0.4702 | Train Acc 1.0000 | Training Loss 0.0005\n",
      "Epoch 0087 | Val Acc 0.4901 | Train Acc 1.0000 | Training Loss 0.0005\n",
      "Epoch 0088 | Val Acc 0.4967 | Train Acc 1.0000 | Training Loss 0.0005\n",
      "Epoch 0089 | Val Acc 0.4768 | Train Acc 1.0000 | Training Loss 0.0005\n",
      "Epoch 0090 | Val Acc 0.4834 | Train Acc 1.0000 | Training Loss 0.0014\n",
      "Epoch 0091 | Val Acc 0.4636 | Train Acc 1.0000 | Training Loss 0.0005\n",
      "Epoch 0092 | Val Acc 0.4570 | Train Acc 1.0000 | Training Loss 0.0007\n",
      "Epoch 0093 | Val Acc 0.4503 | Train Acc 1.0000 | Training Loss 0.0005\n",
      "Epoch 0094 | Val Acc 0.4768 | Train Acc 1.0000 | Training Loss 0.0007\n",
      "Epoch 0095 | Val Acc 0.4636 | Train Acc 1.0000 | Training Loss 0.0005\n",
      "Epoch 0096 | Val Acc 0.4834 | Train Acc 1.0000 | Training Loss 0.0005\n",
      "Epoch 0097 | Val Acc 0.4834 | Train Acc 1.0000 | Training Loss 0.0005\n",
      "Epoch 0098 | Val Acc 0.4702 | Train Acc 1.0000 | Training Loss 0.0005\n",
      "Epoch 0099 | Val Acc 0.4834 | Train Acc 1.0000 | Training Loss 0.0005\n",
      "Epoch 0100 | Val Acc 0.4702 | Train Acc 1.0000 | Training Loss 0.0006\n"
     ]
    }
   ],
   "source": [
    "epoch = 0\n",
    "iterations = 0\n",
    "epoches, train_losses, val_accuracies = [], [], []\n",
    "train_loss = 0.0\n",
    "\n",
    "print(f'Numer of batches per epoch: {batches_per_epoch}')\n",
    "while iterations < (100 * batches_per_epoch):\n",
    "\n",
    "    iterations += 1\n",
    "\n",
    "    for param_group in optimizer.param_groups:\n",
    "        param_group['lr'] = lr_fn(iterations)\n",
    "\n",
    "    optimizer.zero_grad()\n",
    "    x, y = data_gen.__next__()\n",
    "    logits = model(x)\n",
    "    loss = criterion(logits, y)\n",
    "    train_loss += loss\n",
    "\n",
    "    loss.backward()\n",
    "    optimizer.step()\n",
    "\n",
    "    if iterations % batches_per_epoch == 0:\n",
    "        train_loss /= batches_per_epoch\n",
    "        epoch += 1\n",
    "\n",
    "        with torch.no_grad():\n",
    "            val_acc = accuracy(model, val_loader)#, args)\n",
    "            train_acc = accuracy(model, train_loader)#, args)\n",
    "            print(\n",
    "                \"Epoch {:04d} | Val Acc {:.4f} | Train Acc {:.4f} | Training Loss {:.4f}\".format(\n",
    "                    iterations // batches_per_epoch,\n",
    "                    val_acc, train_acc,\n",
    "                    train_loss))\n",
    "        epoches.append(epoch)\n",
    "        train_losses.append(train_loss.data.item())\n",
    "        val_accuracies.append(val_acc)\n",
    "        train_loss = 0.\n"
   ]
  },
  {
   "cell_type": "code",
   "execution_count": 16,
   "metadata": {},
   "outputs": [
    {
     "data": {
      "text/html": [
       "<div>\n",
       "<style scoped>\n",
       "    .dataframe tbody tr th:only-of-type {\n",
       "        vertical-align: middle;\n",
       "    }\n",
       "\n",
       "    .dataframe tbody tr th {\n",
       "        vertical-align: top;\n",
       "    }\n",
       "\n",
       "    .dataframe thead th {\n",
       "        text-align: right;\n",
       "    }\n",
       "</style>\n",
       "<table border=\"1\" class=\"dataframe\">\n",
       "  <thead>\n",
       "    <tr style=\"text-align: right;\">\n",
       "      <th></th>\n",
       "      <th>epoches</th>\n",
       "      <th>train_losses</th>\n",
       "      <th>val_accuracies</th>\n",
       "    </tr>\n",
       "  </thead>\n",
       "  <tbody>\n",
       "    <tr>\n",
       "      <th>0</th>\n",
       "      <td>1</td>\n",
       "      <td>2.613469</td>\n",
       "      <td>0.218543</td>\n",
       "    </tr>\n",
       "    <tr>\n",
       "      <th>1</th>\n",
       "      <td>2</td>\n",
       "      <td>2.170919</td>\n",
       "      <td>0.324503</td>\n",
       "    </tr>\n",
       "    <tr>\n",
       "      <th>2</th>\n",
       "      <td>3</td>\n",
       "      <td>1.861059</td>\n",
       "      <td>0.377483</td>\n",
       "    </tr>\n",
       "    <tr>\n",
       "      <th>3</th>\n",
       "      <td>4</td>\n",
       "      <td>1.589582</td>\n",
       "      <td>0.403974</td>\n",
       "    </tr>\n",
       "    <tr>\n",
       "      <th>4</th>\n",
       "      <td>5</td>\n",
       "      <td>1.349873</td>\n",
       "      <td>0.397351</td>\n",
       "    </tr>\n",
       "  </tbody>\n",
       "</table>\n",
       "</div>"
      ],
      "text/plain": [
       "   epoches  train_losses  val_accuracies\n",
       "0        1      2.613469        0.218543\n",
       "1        2      2.170919        0.324503\n",
       "2        3      1.861059        0.377483\n",
       "3        4      1.589582        0.403974\n",
       "4        5      1.349873        0.397351"
      ]
     },
     "execution_count": 16,
     "metadata": {},
     "output_type": "execute_result"
    }
   ],
   "source": [
    "results = pd.DataFrame({\n",
    "    \"epoches\": epoches,\n",
    "    \"train_losses\": train_losses,\n",
    "    \"val_accuracies\": val_accuracies})\n",
    "results.head()"
   ]
  },
  {
   "cell_type": "code",
   "execution_count": 17,
   "metadata": {},
   "outputs": [
    {
     "data": {
      "image/png": "[encoded data removed]",
      "text/plain": [
       "<Figure size 576x432 with 1 Axes>"
      ]
     },
     "metadata": {},
     "output_type": "display_data"
    }
   ],
   "source": [
    "import seaborn as sns\n",
    "import os\n",
    "sns.set(font_scale=1.5)\n",
    "try:\n",
    "    os.stat(\"NB4_graph\")\n",
    "except:\n",
    "    os.mkdir(\"NB4_graph\")\n",
    "\n",
    "plt.figure(figsize=(8, 6))\n",
    "sns.lineplot(x=\"epoches\", y=\"train_losses\", data=results)\n",
    "plt.tight_layout()\n",
    "plt.savefig(\"NB4_graph/\"+'trainloss'+\".pdf\")"
   ]
  },
  {
   "cell_type": "code",
   "execution_count": 18,
   "metadata": {},
   "outputs": [
    {
     "data": {
      "image/png": "[encoded data removed]",
      "text/plain": [
       "<Figure size 576x432 with 1 Axes>"
      ]
     },
     "metadata": {},
     "output_type": "display_data"
    }
   ],
   "source": [
    "plt.figure(figsize=(8, 6))\n",
    "sns.lineplot(x=\"epoches\", y=\"val_accuracies\", data=results)\n",
    "plt.tight_layout()\n",
    "plt.savefig(\"NB4_graph/\"+'valaccuracy'+\".pdf\")"
   ]
  },
  {
   "cell_type": "code",
   "execution_count": null,
   "metadata": {},
   "outputs": [],
   "source": []
  },
  {
   "cell_type": "code",
   "execution_count": null,
   "metadata": {},
   "outputs": [],
   "source": []
  }
 ],
 "metadata": {
  "kernelspec": {
   "display_name": "Python 3",
   "language": "python",
   "name": "python3"
  },
  "language_info": {
   "codemirror_mode": {
    "name": "ipython",
    "version": 3
   },
   "file_extension": ".py",
   "mimetype": "text/x-python",
   "name": "python",
   "nbconvert_exporter": "python",
   "pygments_lexer": "ipython3",
   "version": "3.6.8"
  }
 },
 "nbformat": 4,
 "nbformat_minor": 2
}
